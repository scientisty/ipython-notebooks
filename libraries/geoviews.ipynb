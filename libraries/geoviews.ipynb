{
 "cells": [
  {
   "cell_type": "markdown",
   "metadata": {},
   "source": [
    "# GeoViews\n",
    "\n",
    "[GeoViews](http://geoviews.org/) [[github](https://github.com/pyviz/geoviews)] is built on HoloViews.\n",
    "\n",
    "FWIW, GeoViews seems to have been transferred from IOAM, which HoloViews is under, to PyViz.\n"
   ]
  },
  {
   "cell_type": "code",
   "execution_count": null,
   "metadata": {},
   "outputs": [],
   "source": []
  }
 ],
 "metadata": {
  "kernelspec": {
   "display_name": "Python [conda env:holoviz]",
   "language": "python",
   "name": "conda-env-holoviz-py"
  },
  "language_info": {
   "codemirror_mode": {
    "name": "ipython",
    "version": 3
   },
   "file_extension": ".py",
   "mimetype": "text/x-python",
   "name": "python",
   "nbconvert_exporter": "python",
   "pygments_lexer": "ipython3",
   "version": "3.7.4"
  }
 },
 "nbformat": 4,
 "nbformat_minor": 4
}
