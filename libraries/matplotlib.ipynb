{
 "cells": [
  {
   "cell_type": "markdown",
   "metadata": {},
   "source": [
    "# Matplotlib\n",
    "\n",
    "IN PROGRESS\n",
    "\n",
    "https://matplotlib.org/\n",
    "\n",
    "http://pbpython.com/effective-matplotlib.html"
   ]
  },
  {
   "cell_type": "markdown",
   "metadata": {},
   "source": [
    "## Matplotlib Tutorials\n",
    "\n",
    "[Python Seaborn Tutorial For Beginners](https://www.datacamp.com/community/tutorials/seaborn-python-tutorial)\n"
   ]
  },
  {
   "cell_type": "markdown",
   "metadata": {},
   "source": [
    "## Imports"
   ]
  },
  {
   "cell_type": "code",
   "execution_count": null,
   "metadata": {},
   "outputs": [],
   "source": [
    "# %matplotlib --list\n",
    "%matplotlib inline\n",
    "# notebook/nbagg enables interactivity\n",
    "# %matplotlib notebook\n",
    "# Using %matplotlib a second time without gui param will print out the backend, but check against matplotlib.get_backend().\n",
    "# %matplotlib\n",
    "# note observed weirdness where imports after %matplotlib in the same cell were not registered"
   ]
  },
  {
   "cell_type": "code",
   "execution_count": null,
   "metadata": {},
   "outputs": [],
   "source": [
    "import matplotlib as mpl\n",
    "import matplotlib.pyplot as plt\n",
    "\n",
    "# This is a nice way to get information about the matplotlib environment.\n",
    "print('matplotlib.__version__:', mpl.__version__)\n",
    "print('matplotlib.get_backend():', mpl.get_backend())\n",
    "print('matplotlib.is_interactive()', mpl.is_interactive())"
   ]
  },
  {
   "cell_type": "code",
   "execution_count": null,
   "metadata": {},
   "outputs": [],
   "source": [
    "import numpy as np"
   ]
  },
  {
   "cell_type": "markdown",
   "metadata": {},
   "source": [
    "## Matplotlib Overview\n",
    "\n",
    "`pyplot` vs object-oriented API\n"
   ]
  },
  {
   "cell_type": "markdown",
   "metadata": {},
   "source": [
    "## Matplotlib Objects\n",
    "\n",
    "- [Artist tutorial](https://matplotlib.org/tutorials/intermediate/artists.html)\n",
    "\n",
    "`Figure`\n",
    "\n",
    "`Axes`"
   ]
  },
  {
   "cell_type": "markdown",
   "metadata": {},
   "source": [
    "Etc\n",
    "\n",
    "`tight_layout()`"
   ]
  },
  {
   "cell_type": "code",
   "execution_count": null,
   "metadata": {},
   "outputs": [],
   "source": [
    "fig, ax = plt.subplots()"
   ]
  },
  {
   "cell_type": "code",
   "execution_count": null,
   "metadata": {},
   "outputs": [],
   "source": [
    "fig = plt.figure()\n",
    "ax = fig.add_subplot(1, 1, 1)"
   ]
  },
  {
   "cell_type": "code",
   "execution_count": null,
   "metadata": {},
   "outputs": [],
   "source": [
    "# Experiment TODO\n",
    "\n",
    "plt.figure()\n",
    "\n",
    "# save mpl variables for fun\n",
    "fig = plt.gcf()\n",
    "ax = plt.gca()\n",
    "i = plt.gci()\n",
    "assert plt.gcf() == fig\n",
    "assert plt.gca() == fig.gca()\n",
    "assert plt.gca() == ax\n",
    "assert plt.gci() == i\n",
    "assert fig.gca() == fig.get_axes()[0] # double check which is preferred, maybe get_axes is best?\n",
    "assert fig.gca() == ax\n",
    "assert ax.get_images()[0] == ax.images[0] # I don't think ax.images[0] is meant to be used directly\n",
    "assert ax.get_images()[0] == i"
   ]
  },
  {
   "cell_type": "markdown",
   "metadata": {},
   "source": [
    "## rcParams"
   ]
  },
  {
   "cell_type": "code",
   "execution_count": null,
   "metadata": {},
   "outputs": [],
   "source": [
    "# All about the rc settings\n",
    "# Unless you change rcParams there should be no need to \n",
    "\n",
    "print('active matplotlibrc:', mpl.matplotlib_fname())\n",
    "\n",
    "params = mpl.rcParams # modify rc settings using rcParams as dict, see also matplotlib.rc() for changing multiple settings at once\n",
    "\n",
    "(print('rcParams type:', type(params)))\n",
    "\n",
    "# review how to work with, e.g.\n",
    "mpl.rcParams.keys()\n",
    "mpl.rcParams.values()\n",
    "\n",
    "# Ways to restore defaults\n",
    "# I'm still a litte unclear on how it all works, difference probably not important but slog through source to really get\n",
    "# matplotlib.rcdefaults()       # \"restore the rc params from Matplotlib's internal defaults\", uses rcParamsDefault\n",
    "# matplotlib.rc_file_defaults() # \"restore the rc params from the original rc file loaded by Matplotlib\", uses rcParamsOrig, seems preferred\n",
    "\n",
    "\n",
    "\n",
    "#### below is just rambling ####\n",
    "\n",
    "# It's confusing since there are some internal rc defaults and also a default matplotlibrc\n",
    "# It appears that rcParams is constructed from the internal defaults then updated from the matplotlibrc file\n",
    "# rcParamsOrig then is copied directly from rcParams before rcParams are updated with a few more things\n",
    "# rcParamsDefault is initialized just from the internal defaults.\n",
    "# What's really not clear is why rcParamsOrig had dict type not RcParams type since it was just a copy!\n",
    "\n",
    "# I think the views returned by dict.keys() are different than collections.abc.KeysView\n",
    "# see https://docs.python.org/3/library/stdtypes.html#dict-views\n",
    "\n",
    "\n",
    "# rcParamsDefault and rcParamsOrig seem similar, could not find east way to compare or clarify the difference\n",
    "default = mpl.rcParamsDefault # is matplotlib.RcParams object, which is just a validated dict object\n",
    "orig = mpl.rcParamsOrig       # is dict object\n",
    "print('rcParamsDefault type:', type(default))\n",
    "print('rcParamsOrig type:', type(orig))\n",
    "\n",
    "print('rcParamsDefault.keys() type:', type(default.keys()))\n",
    "print('rcParamsOrig.keys() type:', type(orig.keys()))\n",
    "\n",
    "# using .keys() would give same result as omitting it for both dict and RcParams\n",
    "# note RcParams inherits from MutableMappping and dict, also its keys() expicitely returns a KeysView\n",
    "# however the RcParams objects must be cast to list() to get len as far as I can tell since len is not defined on them\n",
    "print(len(list(mpl.rcParams)))\n",
    "print(len(list(mpl.rcParamsDefault)))\n",
    "print(len(mpl.rcParamsOrig))\n",
    "\n",
    "#? matplotlib.rcParams == matplotlib.rcParamsDefault"
   ]
  },
  {
   "cell_type": "markdown",
   "metadata": {},
   "source": [
    "## plt.imshow()"
   ]
  },
  {
   "cell_type": "markdown",
   "metadata": {},
   "source": [
    "## plt.hist()\n",
    "\n",
    "Summary:\n",
    "\n",
    "- for bar types, choose between `bar` or `barstacked` (which is same as `bar` + `stacked=True`, and step + stack + fill for that matter) \n",
    "- for step types, plain step is probably best, or if using stepfilled some transparency should be added, if you want stacked a bar type is probably better\n",
    "\n",
    "parameters:\n",
    "\n",
    "- bins\n",
    "- density\n",
    "- histtype (default='bar') bar/barstacked, step/stepfilled\n",
    "- stacked (default=False)\n",
    "\n",
    "histtype:\n",
    "\n",
    "- bar - side by side when stacked=False\n",
    "- barstacked - stacked by default (implies stacked=True), stacked=False is ignored if specified\n",
    "- step - on top of each other (overlaid) when stacked=False\n",
    "- stepfilled - why bother?"
   ]
  },
  {
   "cell_type": "code",
   "execution_count": null,
   "metadata": {},
   "outputs": [],
   "source": [
    "# multiple data can be provided as a list where each element is a list or 1-d array of data, the list can contain data sets of unequal lengths\n",
    "# note! if providing as ndarray it's as if each column correpsonds to a sample population, 3-dimensions not allowd\n",
    "# the array to list equivalenent dimensions are given by:\n",
    "# l = list(a.T)\n",
    "\n",
    "# this example derived from https://matplotlib.org/gallery/statistics/histogram_multihist.html\n",
    "\n",
    "np.random.seed(19680801)\n",
    "\n",
    "n_bins = 10\n",
    "# stacked=False\n",
    "plt.figure\n",
    "x = np.random.randn(1000, 3) # each column corresponds to a data-set\n",
    "x_list = list(x.T)           # each list item corresponds to a data-set, can have different lengths\n",
    "\n",
    "figsize = mpl.rcParams['figure.figsize'] # get default figsize\n",
    "\n",
    "# fig, axes = plt.subplots(nrows=4, ncols=2)\n",
    "fig = plt.figure(figsize = (figsize[0], 2 * figsize[1])) # set to twice default height\n",
    "axes = fig.subplots(nrows=4, ncols=2)\n",
    "\n",
    "ax0, ax1, ax2, ax3, ax4, ax5, ax6, ax7 = axes.flatten()\n",
    "\n",
    "ax0.hist(x, n_bins, histtype='bar')\n",
    "ax1.hist(x, n_bins, histtype='bar', stacked=True)\n",
    "\n",
    "ax2.hist(x, n_bins, histtype='barstacked')\n",
    "ax3.hist(x, n_bins, histtype='barstacked', stacked=True) # cannot even be overriden by stacked=False!\n",
    "\n",
    "ax4.hist(x, n_bins, histtype='step')\n",
    "ax5.hist(x, n_bins, histtype='step', stacked=True)\n",
    "\n",
    "ax6.hist(x, n_bins, histtype='stepfilled') # can override fill with fill=False but why? just just step then\n",
    "ax7.hist(x, n_bins, histtype='stepfilled', stacked=True)\n",
    "\n",
    "fig.tight_layout()\n",
    "plt.show()"
   ]
  },
  {
   "cell_type": "markdown",
   "metadata": {},
   "source": [
    "## Topics"
   ]
  },
  {
   "cell_type": "markdown",
   "metadata": {},
   "source": [
    "### Styles\n",
    "\n",
    "Use `plt.style.available` and `plt.style.use()` to set.\n",
    "\n",
    "- [Customizing Matplotlib with style sheets and rcParams](https://matplotlib.org/tutorials/introductory/customizing.html)\n",
    "- [Customizing Matplotlib: Configurations and Stylesheets | Python Data Science Handbook](https://jakevdp.github.io/PythonDataScienceHandbook/04.11-settings-and-stylesheets.html)\n"
   ]
  },
  {
   "cell_type": "code",
   "execution_count": null,
   "metadata": {},
   "outputs": [],
   "source": [
    "plt.style.available"
   ]
  },
  {
   "cell_type": "markdown",
   "metadata": {},
   "source": [
    "### Colormaps\n",
    "\n",
    "[Choosing Colormaps in Matplotlib](https://matplotlib.org/tutorials/colors/colormaps.html)\n",
    "\n",
    "[Colormap reference](https://matplotlib.org/gallery/color/colormap_reference.html)\n",
    "\n",
    "[cm (colormap) API](https://matplotlib.org/api/cm_api.html)\n",
    "\n",
    "[colors API](https://matplotlib.org/api/colors_api.html)\n",
    "\n",
    "`colors.Colormap` is the baseclass for `ListedColormap` and `LinearSegmentedColormap`\n",
    "\n",
    "- [Palettable](https://jiffyclub.github.io/palettable/)\n",
    "- [Colorcet](https://colorcet.pyviz.org/)---nice set of perceptually uniform colormaps\n",
    "\n",
    "Aside:\n",
    "\n",
    "The [colors.LightSource](https://matplotlib.org/api/_as_gen/matplotlib.colors.LightSource.html) class seems interesting for hillshading and such.\n"
   ]
  },
  {
   "cell_type": "code",
   "execution_count": null,
   "metadata": {},
   "outputs": [],
   "source": [
    "mpl.cm.get_cmap('Greys_r')  # Get colormap instance"
   ]
  },
  {
   "cell_type": "code",
   "execution_count": null,
   "metadata": {},
   "outputs": [],
   "source": [
    "help(mpl.cm)"
   ]
  },
  {
   "cell_type": "code",
   "execution_count": null,
   "metadata": {},
   "outputs": [],
   "source": [
    "mpl.colors."
   ]
  },
  {
   "cell_type": "code",
   "execution_count": null,
   "metadata": {},
   "outputs": [],
   "source": [
    "# plt.colormaps()  # List colormaps, sourced from cm.cmap_d dict."
   ]
  },
  {
   "cell_type": "code",
   "execution_count": null,
   "metadata": {},
   "outputs": [],
   "source": [
    "mpl.cm.gr"
   ]
  },
  {
   "cell_type": "code",
   "execution_count": null,
   "metadata": {},
   "outputs": [],
   "source": []
  }
 ],
 "metadata": {
  "kernelspec": {
   "display_name": "Python 3",
   "language": "python",
   "name": "python3"
  },
  "language_info": {
   "codemirror_mode": {
    "name": "ipython",
    "version": 3
   },
   "file_extension": ".py",
   "mimetype": "text/x-python",
   "name": "python",
   "nbconvert_exporter": "python",
   "pygments_lexer": "ipython3",
   "version": "3.7.2"
  }
 },
 "nbformat": 4,
 "nbformat_minor": 2
}
