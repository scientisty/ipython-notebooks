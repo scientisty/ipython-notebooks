{
 "cells": [
  {
   "cell_type": "markdown",
   "metadata": {},
   "source": [
    "# Pydap\n",
    "\n",
    "[Pydap](http://pydap.org/) [[github](https://github.com/pydap/pydap)]\n",
    "\n",
    "## Installing PyDap\n",
    "\n",
    "Pydap is on conda-forge, however the handlers and responses are only on PyPI, as well as server.\n",
    "\n",
    "It seems necessary to install [Handlers](http://pydap.org/en/latest/handlers.html), e.g.\n",
    "\n",
    "    pip install Pydap[handlers.netcdf]\n",
    "\n",
    "Similarly there are [Responses](http://pydap.org/en/latest/responses.html) that may be installed, e.g.\n",
    "\n",
    "    pip install pydap.responses.netcdf\n",
    "\n",
    "Installing the netcdf response allows `.nc` to be appended.\n"
   ]
  },
  {
   "cell_type": "code",
   "execution_count": null,
   "metadata": {},
   "outputs": [],
   "source": [
    "import os\n",
    "from pprint import pprint\n",
    "\n",
    "import rasterio as rio\n",
    "import xarray as xr"
   ]
  },
  {
   "cell_type": "markdown",
   "metadata": {},
   "source": [
    "## OPeNDAP Basics\n",
    "\n",
    "- [QuickStart - OPeNDAP Documentation](https://opendap.github.io/documentation/QuickStart.html)\n",
    "- [User Guide - OPeNDAP Documentation](https://opendap.github.io/documentation/UserGuideComprehensive.html)\n",
    "- [The Hyrax Data Server Installation and Configuration Guide - OPeNDAP Documentation](https://opendap.github.io/hyrax_guide/Master_Hyrax_Guide.html)\n",
    "\n",
    "Suffixes:\n",
    "\n",
    "- `.info`---may be most useful!\n",
    "- `.html`\n",
    "- `.dds`\n",
    "- `.das`\n",
    "- ...\n",
    "- .rdf?\n",
    "\n",
    "DAP 4:\n",
    "\n",
    "- `dsr`---dataset services, new and useful!\n",
    "- `dmr`/`dmr.xml`\n",
    "\n",
    "Returns in native OPeNDAP binary ecoding (`.dap`), NetCDF (`.nc`, `.nc4`), GeoTIFF (`.tiff`), JPEG2000, JSON (`.json`), and ASCII (`.ascii`). ???\n",
    "\n",
    "Misc:\n",
    "\n",
    "[Authentication For DAP Clients](https://opendap.github.io/hyrax_guide/Master_Hyrax_Guide.html#_authentication_for_dap_clients) discusses Earthdata, etc. An apparently older verion is at [DAP Clients - Authenticaion](https://docs.opendap.org/index.php/DAP_Clients_-_Authentication).\n",
    "\n",
    "https://docs.opendap.org/index.php?title=DAP4_Specification\n",
    "\n",
    "https://www.unidata.ucar.edu/software/thredds/v4.6/tds/tutorial/DAP.html --- DAP 4 has new/different suffixes, not comprehensive!\n",
    "\n",
    "[Aggregation enhancements ](https://docs.opendap.org/index.php/Aggregation_enhancements) discusses [NcML](https://www.unidata.ucar.edu/software/thredds/current/netcdf-java/ncml/).\n",
    "\n",
    "The relevance of the file extension on a DAP server is unclear!? \n"
   ]
  },
  {
   "cell_type": "markdown",
   "metadata": {},
   "source": [
    "## Pydap Basics\n"
   ]
  },
  {
   "cell_type": "markdown",
   "metadata": {},
   "source": [
    "## Pydap Classes\n",
    "\n",
    "Pydap implemements various classess to represent [The DAP data model](http://pydap.org/en/latest/developer.html#the-dap-data-model). The [Developer documentation](http://pydap.org/en/latest/developer.html) also sheds some light on things.\n",
    "\n",
    "PyDap Types:\n",
    "\n",
    "- `DatasetType`---a `StructureType`\n",
    "- `BaseType`---data is scalar or ndarray\n",
    "- `GridType`---strangely stored with 3 vhildren, the first is the array (BaseType) and the other two are axes\n",
    "- `SequenceType`---includes `iterdata()` method\n",
    "- `StructureType`---also behave like Python dict\n",
    "\n",
    "PyDap types have attributes:\n",
    "\n",
    "1. `name`\n",
    "2. `id`\n",
    "3. `attributes`---allow lazy access (with dot)\n",
    "4. `data`\n",
    "\n",
    "Some (which?) have:\n",
    "\n",
    "- `dtype`\n",
    "- `dimensions`\n",
    "- ...\n",
    "\n",
    "You'll generally get data through a variable's `data` attribute, but note that it may be necessary to slice it like `dataset.variable[:].data` for dap to handle it properly.\n",
    "\n",
    "StructureTypes hold no data, but their `data` attribute collects data recursively from its children. Most Dap types seem to have a `children()` method but only seems relevant to StructureTypes. At least GridTypes have an `array` attribute for accessing BaseType array, so you may have to something like `dataset.variable.array[:].data`. \n",
    "\n",
    "Note that a dataset may contain a variable containing no actual data but with useful attributes!\n",
    "\n",
    "Note that variables usually act like numpy arrays, incl. things like `shape()` method.\n"
   ]
  },
  {
   "cell_type": "code",
   "execution_count": null,
   "metadata": {},
   "outputs": [],
   "source": [
    "from pydap.model import DatasetType, SequenceType, GridType, StructureType, BaseType, DapType\n",
    "assert issubclass(BaseType, DapType)\n",
    "assert issubclass(StructureType, DapType)\n",
    "assert issubclass(DatasetType, StructureType)\n",
    "assert issubclass(SequenceType, StructureType)\n",
    "assert issubclass(GridType, StructureType)"
   ]
  },
  {
   "cell_type": "markdown",
   "metadata": {},
   "source": [
    "## Using Pydap\n",
    "\n",
    "[Using the client](http://pydap.org/en/latest/client.html)\n",
    "\n",
    "Create `DatasetType` which is a fancy dict structure.\n",
    "\n",
    "Get variables using dictionary syntax or attribute style access.\n",
    "\n",
    "Variables can be `GridType`, ...?\n"
   ]
  },
  {
   "cell_type": "code",
   "execution_count": null,
   "metadata": {},
   "outputs": [],
   "source": [
    "from pprint import pprint"
   ]
  },
  {
   "cell_type": "code",
   "execution_count": null,
   "metadata": {},
   "outputs": [],
   "source": [
    "# A basic import is useless, it only gets you handlers, responses, and tests as empty namespaces!\n",
    "# To do anything you probably need to import directly. Importing these namespaces will enable tab completion for their contents.\n",
    "import pydap"
   ]
  },
  {
   "cell_type": "code",
   "execution_count": null,
   "metadata": {},
   "outputs": [],
   "source": [
    "# Not sure this works, it should have to be installed separately.\n",
    "# import pydap.handlers.netcdf"
   ]
  },
  {
   "cell_type": "code",
   "execution_count": null,
   "metadata": {},
   "outputs": [],
   "source": [
    "# Pydap is bizarre, \n",
    "help(pydap)\n",
    "help(pydap.handlers)\n",
    "help(pydap.responses)\n",
    "# help(pydap.tests)"
   ]
  },
  {
   "cell_type": "code",
   "execution_count": null,
   "metadata": {},
   "outputs": [],
   "source": [
    "from pydap.client import open_url\n",
    "url = 'http://www.ncei.noaa.gov/thredds/dodsC/namanl/201604/20160416/namanl_218_20160416_1800_000.grb'\n",
    "dataset = open_url(url)  # Create DatasetType."
   ]
  },
  {
   "cell_type": "code",
   "execution_count": null,
   "metadata": {},
   "outputs": [],
   "source": [
    "pprint(dataset.name)\n",
    "pprint(dataset.id)\n",
    "pprint(dataset.attributes)\n",
    "# pprint(dataset.data)  # Long output.\n",
    "\n",
    "# list(dataset.keys())\n",
    "\n",
    "# For fun, get types of the variables in the dataset.\n",
    "# pprint([type(dataset[k]) for k, v in dataset.items()])"
   ]
  },
  {
   "cell_type": "code",
   "execution_count": null,
   "metadata": {},
   "outputs": [],
   "source": [
    "dataset[\"Temperature_surface.Temperature_surface\"]\n",
    "dataset[\"Temperature_surface\"][\"Temperature_surface\"]"
   ]
  },
  {
   "cell_type": "markdown",
   "metadata": {},
   "source": [
    "## NASA Earthdata\n",
    "\n",
    "Pydap used to support Earthdata auth using `pydap.utils.urs.install_basic_client()` (which seemed to read `.netrc`), but `pydap.utils` (which had to be separately installed) has gone away (no later than 1/2017). Now Earthdata auth is done using `pydap.cas.urs.setup_session()` to obtain a `requests.sessions.Session` object which is then passed to `open_url`.\n",
    "\n",
    "\n",
    "The info (`.html`) page allows you to download as NetCDF 3 or 4, or as DAP 2 or 4.\n",
    "\n",
    "The OPeNDAP directory listing ddx, dds, das, info, html, rdf, covjson, plus viewers:\n",
    "\n",
    "\n",
    "Notes:\n",
    "\n",
    "- The Dataset Viewers (viewers) leads you to:\n",
    "  - DAP2\n",
    "  - DAP4\n",
    "  - w10n Service (Webification)---adds slash after file name!\n",
    "\n",
    "\n",
    "Auth:\n",
    "\n",
    "- [How To Access Data With PyDAP | Earthdata Wiki](https://wiki.earthdata.nasa.gov/display/EL/How+To+Access+Data+With+PyDAP) discusses using `pydap.util.urs` module but that's out of date! Other examples may work?\n",
    "- [How To Access Data With Python](https://wiki.earthdata.nasa.gov/display/EL/How+To+Access+Data+With+Python) might work?\n"
   ]
  },
  {
   "cell_type": "markdown",
   "metadata": {
    "toc-hr-collapsed": false
   },
   "source": [
    "### SRTM Using OPeNDAP\n",
    "\n",
    "NASA SRTM Version 3\n",
    "[here](https://opendap.cr.usgs.gov/opendap/hyrax/SRTMGL1.003/contents.html)\n",
    "\n",
    "I can't figure out how to use the `.ncml` files but thankfully there is a `netcdf` directory containing `.nc` files!\n",
    "\n",
    "Relevant issues:\n",
    "\n",
    "- https://github.com/pydap/pydap/issues/20 ---!\n",
    "- https://github.com/pydap/pydap/issues/19\n",
    "- https://github.com/pydap/pydap/pull/28 ---PR merged\n",
    "- https://github.com/pydap/pydap/pull/11\n",
    "- https://github.com/pydap/pydap/pull/26\n",
    "- https://github.com/pydap/pydap/issues/51\n"
   ]
  },
  {
   "cell_type": "markdown",
   "metadata": {
    "toc-hr-collapsed": false
   },
   "source": [
    "#### Using Pydap"
   ]
  },
  {
   "cell_type": "code",
   "execution_count": null,
   "metadata": {},
   "outputs": [],
   "source": [
    "# Read auth information from .netrc.\n",
    "import netrc\n",
    "auth = netrc.netrc()\n",
    "login, account, password = auth.authenticators('urs.earthdata.nasa.gov')\n",
    "# login, account, password"
   ]
  },
  {
   "cell_type": "code",
   "execution_count": null,
   "metadata": {},
   "outputs": [],
   "source": [
    "from pydap.client import open_url        # Or import pydap.client to make available.\n",
    "from pydap.cas.urs import setup_session  # Or import pydap.cas.urs to make available.\n",
    "\n",
    "# Can't figure out how to work with nclm files, but thankfully SRTM is also available as netcdf.\n",
    "dataset_url = 'https://opendap.cr.usgs.gov/opendap/hyrax/SRTMGL1.003/netcdf/N37W120.SRTMGL1.nc'\n",
    "\n",
    "# Use login/password read from .netrc above.\n",
    "session = setup_session(username=login, password=password, check_url=dataset_url)\n",
    "dataset = open_url(dataset_url, session=session)\n",
    "dataset"
   ]
  },
  {
   "cell_type": "markdown",
   "metadata": {},
   "source": [
    "##### Explore Pydap Dataset"
   ]
  },
  {
   "cell_type": "markdown",
   "metadata": {},
   "source": [
    "Dap objects contain the key attributes `name`, `id`, `attributes`, and `data`."
   ]
  },
  {
   "cell_type": "code",
   "execution_count": null,
   "metadata": {},
   "outputs": [],
   "source": [
    "print(dataset.name)\n",
    "print(dataset.id)"
   ]
  },
  {
   "cell_type": "code",
   "execution_count": null,
   "metadata": {},
   "outputs": [],
   "source": [
    "dataset.attributes"
   ]
  },
  {
   "cell_type": "code",
   "execution_count": null,
   "metadata": {},
   "outputs": [],
   "source": [
    "dataset.data"
   ]
  },
  {
   "cell_type": "markdown",
   "metadata": {},
   "source": [
    "While `data` in DatasetType recursively contains the data of all its children we can also list the immediate children. "
   ]
  },
  {
   "cell_type": "code",
   "execution_count": null,
   "metadata": {},
   "outputs": [],
   "source": [
    "list(dataset.keys())"
   ]
  },
  {
   "cell_type": "code",
   "execution_count": null,
   "metadata": {},
   "outputs": [],
   "source": [
    "list(dataset.children())\n",
    "# list(dataset.items())"
   ]
  },
  {
   "cell_type": "code",
   "execution_count": null,
   "metadata": {},
   "outputs": [],
   "source": [
    "[v.attributes for k, v in dataset.items()]"
   ]
  },
  {
   "cell_type": "code",
   "execution_count": null,
   "metadata": {},
   "outputs": [],
   "source": [
    "# For this SRTM dataset the lat and presumably lon variables seem redundant.\n",
    "assert np.array_equal(dataset.lat[:].data, dataset.Band1.lat[:].data)"
   ]
  },
  {
   "cell_type": "code",
   "execution_count": null,
   "metadata": {},
   "outputs": [],
   "source": [
    "# Here are a few other urls that use Earthdata login.\n",
    "\n",
    "# ASTER DEM, works!\n",
    "# dataset_url = 'https://opendap.cr.usgs.gov/opendap/hyrax/ASTGTM.002/ASTGTM2_N37E120_dem.nc'\n",
    "\n",
    "# Another server, works!\n",
    "# dataset_url = 'https://measures.gesdisc.eosdis.nasa.gov:443/opendap/LANDMET/LANDMET_ANC_SM.1/LANDMET_ANC_SM_L3_v1.nc'"
   ]
  },
  {
   "cell_type": "code",
   "execution_count": null,
   "metadata": {},
   "outputs": [],
   "source": [
    "# # Explore...\n",
    "# pydap.cas.urs.setup_session??\n",
    "\n",
    "# # Explore...\n",
    "# pydap.cas.urs.get_cookies.setup_session??"
   ]
  },
  {
   "cell_type": "markdown",
   "metadata": {},
   "source": [
    "#### Using xarray\n",
    "\n",
    "The ability to use authentication to open datasets in xarray using Pydap was added in PR [pydata/xarray#1570](https://github.com/pydata/xarray/pull/1570).\n",
    "\n",
    "Interaction is similar to using Pydap directly. Pydap `attributes` are available in xarray `attr`. However it seems that the explicit call to `.data` is not necessary as it is with Pydap, which also avoids the weirdness of GridTypes.\n"
   ]
  },
  {
   "cell_type": "code",
   "execution_count": null,
   "metadata": {},
   "outputs": [],
   "source": [
    "# Open authenticated datasets with xarray using pydap backend.\n",
    "# Pattern from https://github.com/pydata/xarray/pull/1570.\n",
    "\n",
    "import xarray as xr\n",
    "import pydap.cas.urs  # Make setup_session() available.\n",
    "import pydap.client   # Make open_url() available.\n",
    "\n",
    "dataset_url = 'https://opendap.cr.usgs.gov/opendap/hyrax/SRTMGL1.003/netcdf/N37W120.SRTMGL1.nc'\n",
    "\n",
    "# Instantiate session.\n",
    "session = pydap.cas.urs.setup_session(username=login, password=password, check_url=dataset_url)\n",
    "\n",
    "# Method 1: More verbose.\n",
    "# pydap_ds = pydap.client.open_url(dataset_url, session=session)\n",
    "# store = xr.backends.PydapDataStore(pydap_ds)\n",
    "# Method 2: More concise but equivalent.\n",
    "store = xr.backends.PydapDataStore.open(dataset_url, session=session)\n",
    "# Create xarray Dataset.\n",
    "ds = xr.open_dataset(store)\n",
    "ds"
   ]
  },
  {
   "cell_type": "markdown",
   "metadata": {},
   "source": [
    "In this specific case we are working with SRTM data. "
   ]
  },
  {
   "cell_type": "code",
   "execution_count": null,
   "metadata": {},
   "outputs": [],
   "source": [
    "ds.coords"
   ]
  },
  {
   "cell_type": "code",
   "execution_count": null,
   "metadata": {},
   "outputs": [],
   "source": [
    "ds.data_vars"
   ]
  },
  {
   "cell_type": "code",
   "execution_count": null,
   "metadata": {},
   "outputs": [],
   "source": [
    "ds"
   ]
  },
  {
   "cell_type": "code",
   "execution_count": null,
   "metadata": {},
   "outputs": [],
   "source": [
    "ds.crs.attrs"
   ]
  },
  {
   "cell_type": "code",
   "execution_count": null,
   "metadata": {},
   "outputs": [],
   "source": [
    "crs = ds[\"crs\"]"
   ]
  },
  {
   "cell_type": "code",
   "execution_count": null,
   "metadata": {},
   "outputs": [],
   "source": [
    "# crs.values\n",
    "pprint(crs.dims)\n",
    "pprint(crs.coords)\n",
    "pprint(crs.attrs)\n",
    "pprint(crs.name)"
   ]
  },
  {
   "cell_type": "markdown",
   "metadata": {},
   "source": [
    "---"
   ]
  },
  {
   "cell_type": "code",
   "execution_count": null,
   "metadata": {},
   "outputs": [],
   "source": [
    "import rasterio as rio"
   ]
  },
  {
   "cell_type": "code",
   "execution_count": null,
   "metadata": {},
   "outputs": [],
   "source": [
    "# tmp = rio.open(dataset_url, driver='DODS')"
   ]
  },
  {
   "cell_type": "markdown",
   "metadata": {},
   "source": [
    "## Test local DEM"
   ]
  },
  {
   "cell_type": "code",
   "execution_count": null,
   "metadata": {},
   "outputs": [],
   "source": [
    "lon = 'E120'\n",
    "lat = 'N37'\n",
    "url = 'zip+https://e4ftl01.cr.usgs.gov/MEASURES/SRTMGL1.003/2000.02.11/N37W120.SRTMGL1.hgt.zip!/N37W120.hgt'"
   ]
  },
  {
   "cell_type": "code",
   "execution_count": null,
   "metadata": {},
   "outputs": [],
   "source": [
    "# hgt = rio.open(url, driver='SRTMHGT')"
   ]
  },
  {
   "cell_type": "code",
   "execution_count": null,
   "metadata": {},
   "outputs": [],
   "source": [
    "# url = 'https://e4ftl01.cr.usgs.gov/MEASURES/SRTMGL1.003/2000.02.11/N37W120.SRTMGL1.hgt.zip'"
   ]
  },
  {
   "cell_type": "code",
   "execution_count": null,
   "metadata": {},
   "outputs": [],
   "source": [
    "filename = os.path.expanduser('~/Downloads/N37W120.SRTMGL1.hgt.zip!/N37W120.hgt')"
   ]
  },
  {
   "cell_type": "code",
   "execution_count": null,
   "metadata": {},
   "outputs": [],
   "source": [
    "dataset = rio.open('zip://' + filename, driver='SRTMHGT')\n",
    "pprint(dataset.meta)\n",
    "# pprint(hgt.profile)"
   ]
  },
  {
   "cell_type": "code",
   "execution_count": null,
   "metadata": {},
   "outputs": [],
   "source": [
    "da = xr.open_rasterio(dataset)\n",
    "da"
   ]
  },
  {
   "cell_type": "code",
   "execution_count": null,
   "metadata": {},
   "outputs": [],
   "source": [
    "from rasterio.crs import CRS"
   ]
  },
  {
   "cell_type": "code",
   "execution_count": null,
   "metadata": {},
   "outputs": [],
   "source": [
    "da.crs"
   ]
  },
  {
   "cell_type": "code",
   "execution_count": null,
   "metadata": {},
   "outputs": [],
   "source": [
    "ds.crs"
   ]
  },
  {
   "cell_type": "code",
   "execution_count": null,
   "metadata": {},
   "outputs": [],
   "source": [
    "dataset.crs.wkt"
   ]
  },
  {
   "cell_type": "code",
   "execution_count": null,
   "metadata": {},
   "outputs": [],
   "source": [
    "repr(ds.crs.spatial_ref)"
   ]
  },
  {
   "cell_type": "code",
   "execution_count": null,
   "metadata": {},
   "outputs": [],
   "source": [
    "print(ds.crs.spatial_ref)"
   ]
  },
  {
   "cell_type": "code",
   "execution_count": null,
   "metadata": {},
   "outputs": [],
   "source": [
    "crs = ds.crs.spatial_ref.replace('\\\\', '')\n",
    "\n",
    "CRS.from_wkt(crs)\n",
    "# CRS.from_string(crs)\n",
    "# CRS.from_user_input(crs)"
   ]
  },
  {
   "cell_type": "code",
   "execution_count": null,
   "metadata": {},
   "outputs": [],
   "source": [
    "import re"
   ]
  },
  {
   "cell_type": "code",
   "execution_count": null,
   "metadata": {},
   "outputs": [],
   "source": [
    "re.sub('\\\\', '', ds.crs.spatial_ref)"
   ]
  },
  {
   "cell_type": "code",
   "execution_count": null,
   "metadata": {},
   "outputs": [],
   "source": [
    "rio.crs.CRS.from"
   ]
  },
  {
   "cell_type": "code",
   "execution_count": null,
   "metadata": {},
   "outputs": [],
   "source": []
  }
 ],
 "metadata": {
  "kernelspec": {
   "display_name": "Python [conda env:geospatial]",
   "language": "python",
   "name": "conda-env-geospatial-py"
  },
  "language_info": {
   "codemirror_mode": {
    "name": "ipython",
    "version": 3
   },
   "file_extension": ".py",
   "mimetype": "text/x-python",
   "name": "python",
   "nbconvert_exporter": "python",
   "pygments_lexer": "ipython3",
   "version": "3.7.2"
  }
 },
 "nbformat": 4,
 "nbformat_minor": 2
}
