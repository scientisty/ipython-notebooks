{
 "cells": [
  {
   "cell_type": "markdown",
   "metadata": {},
   "source": [
    "# PyViz\n",
    "\n",
    "[PyViz](http://pyviz.org/) isn't a library per se, but a conda metapackage.\n",
    "\n",
    "PyViz maintains several core packages:\n",
    "\n",
    "- HoloViews---(installed by default)\n",
    "- GeoViews---(installed by default)\n",
    "- hvPlot---(installed by default)\n",
    "- Panel---(installed by default)\n",
    "\n",
    "It also maintains a few others, including these:\n",
    "\n",
    "- Bokeh?---(installed by default, also part of default anaconda install)\n",
    "- [Datashader](http://datashader.org/) [[github](https://github.com/pyviz/datashader)]---(installed by default)\n",
    "- Param---(installed by default)\n",
    "\n",
    "And these are used alongside a variety of other packages, including:\n",
    "\n",
    "- pandas---(installed by default, also part of default anaconda install)\n",
    "- xarray---(installed by default)\n",
    "- Dask---(installed by default, also part of default anaconda install)\n",
    "- Numba---(installed by default) part of PyData, compare to numexpr which is part of anaconda\n",
    "- Cartopy---(installed by default)\n",
    "\n",
    "Etc:\n",
    "\n",
    "- Seaborn---(not installed by default, also part of default anaconda install)\n",
    "- Plotly---(not installed by default)\n",
    "- Altair------(not installed by default, available through conda-forge)\n",
    "- Vega---(not installed by default)\n",
    "- ...\n",
    "\n",
    "Other PyViz related packages:\n",
    "\n",
    "- [EarthSim](https://earthsim.pyviz.org/)---for environmental simulations such as hydrology\n",
    "\n",
    "\n",
    "See [pyviz](https://github.com/pyviz) github for code.\n",
    "\n",
    "All of the packages in the pyviz anaconda channel can be seen at [pyviz/packages](https://anaconda.org/pyviz/repo).\n"
   ]
  },
  {
   "cell_type": "markdown",
   "metadata": {},
   "source": [
    "## Installing PyViz\n",
    "\n",
    "See [PyViz Installation](http://pyviz.org/installation.html) for how to install. It's not entirely clear why, but the current recommendations are to use `python=3.6` and `-c pyviz/label/dev`. Since 0.10.0 is now in main pyviz channel that's probably fine. \n",
    "\n",
    "Currently, with pyviz 0.10.0 the instructions (i.e. creating env with python=3.6 before installing pyviz) will give you a python 3.6.8 env with matplotlib 3.0.2 and phantomjs from conda-forge (not pyviz).\n",
    " \n",
    "Explicitely updating phantomjs from pyviz would downgrade a bunch of stuff, including matplotlib from 3.0.2-->2.2.2 and python from 3.6.8-->3.6.6. But `conda update -n pyviz -c pyviz --all` may reverse that.\n",
    "\n",
    "If a new pyviz version is released it may be safest to `conda update -c pyviz` explicitely?\n"
   ]
  },
  {
   "cell_type": "markdown",
   "metadata": {},
   "source": [
    "---"
   ]
  },
  {
   "cell_type": "markdown",
   "metadata": {},
   "source": [
    "## Intake\n",
    "\n",
    "[Intake](https://intake.readthedocs.io/) [[github](https://github.com/intake/intake)]\n"
   ]
  },
  {
   "cell_type": "code",
   "execution_count": null,
   "metadata": {},
   "outputs": [],
   "source": []
  }
 ],
 "metadata": {
  "kernelspec": {
   "display_name": "Python [conda env:pyviz]",
   "language": "python",
   "name": "conda-env-pyviz-py"
  },
  "language_info": {
   "codemirror_mode": {
    "name": "ipython",
    "version": 3
   },
   "file_extension": ".py",
   "mimetype": "text/x-python",
   "name": "python",
   "nbconvert_exporter": "python",
   "pygments_lexer": "ipython3",
   "version": "3.6.8"
  }
 },
 "nbformat": 4,
 "nbformat_minor": 2
}
