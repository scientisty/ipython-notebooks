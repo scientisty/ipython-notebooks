{
 "cells": [
  {
   "cell_type": "markdown",
   "metadata": {},
   "source": [
    "# PySal\n",
    "\n",
    "[PySal](https://pysal.org/) [[github](https://github.com/pysal/pysal)]\n",
    "\n",
    "## PySal Tutorials\n",
    "\n",
    "- [Geographic Data Science with PySAL and the pydata stack](http://darribas.org/gds_scipy16/)"
   ]
  }
 ],
 "metadata": {
  "kernelspec": {
   "display_name": "Python 3",
   "language": "python",
   "name": "python3"
  },
  "language_info": {
   "codemirror_mode": {
    "name": "ipython",
    "version": 3
   },
   "file_extension": ".py",
   "mimetype": "text/x-python",
   "name": "python",
   "nbconvert_exporter": "python",
   "pygments_lexer": "ipython3",
   "version": "3.7.2"
  }
 },
 "nbformat": 4,
 "nbformat_minor": 2
}
