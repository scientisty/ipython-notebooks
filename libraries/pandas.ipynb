{
 "cells": [
  {
   "cell_type": "code",
   "execution_count": null,
   "metadata": {},
   "outputs": [],
   "source": [
    "import sys\n",
    "sys.executable"
   ]
  },
  {
   "cell_type": "markdown",
   "metadata": {},
   "source": [
    "# Pandas\n",
    "\n",
    "[pandas API Reference](https://pandas.pydata.org/pandas-docs/stable/api.html)\n",
    "\n",
    "https://github.com/pandas-dev/pandas\n",
    "\n",
    "\n",
    "pandas is standard for data science with python\n",
    "\n",
    "- [pandas](https://pandas.pydata.org/)\n",
    "\n",
    "pandas data structures:\n",
    "\n",
    "- Series\n",
    "- DataFrame"
   ]
  },
  {
   "cell_type": "markdown",
   "metadata": {},
   "source": [
    "## pandas functions\n",
    "\n",
    "- to_numeric()---one way to change dtype of column"
   ]
  },
  {
   "cell_type": "code",
   "execution_count": null,
   "metadata": {},
   "outputs": [],
   "source": [
    "import pandas as pd\n",
    "import numpy as np\n",
    "import matplotlib.pyplot as plt"
   ]
  },
  {
   "cell_type": "markdown",
   "metadata": {},
   "source": [
    "## Pandas Data Structures\n",
    "\n",
    "- [Series](http://pandas.pydata.org/pandas-docs/stable/generated/pandas.Series.html) (1-d)\n",
    "- [DataFrame](https://pandas.pydata.org/pandas-docs/stable/generated/pandas.DataFrame.html) (2-d) ~ data.frame\n",
    "\n",
    "https://pandas.pydata.org/pandas-docs/stable/dsintro.html\n",
    "\n",
    "Series may be created by passing a list to the constructor. DataFrames may be created by passing a numpy array or dict to the constructor.\n",
    "\n",
    "`read_csv()` is an easy way to read files. By default will infer column names from first line. `index_col`...\n",
    "see also `read_table()`\n",
    "\n",
    "Since pandas is build on ndarray strings are stored as object types to get around the homogeneity requirements of ndarray.\n",
    "\n",
    "http://pbpython.com/pandas_dtypes.html\n",
    "\n",
    "\n",
    "\n",
    "### Supporting Data Types\n",
    "\n",
    "Pandas objects (inherit from `PandasObject`) and their subclass relationships:\n",
    "- [Index](https://pandas.pydata.org/pandas-docs/stable/generated/pandas.Index.html)\n",
    "  - [NumericIndex](https://pandas.pydata.org/pandas-docs/stable/api.html#numeric-index) (abstract class)\n",
    "    - Int64Index\n",
    "      - RangeIndex\n",
    "    - UInt64Index\n",
    "    - Float64Index\n",
    "  - CategoricalIndex\n",
    "  - MultiIndex\n",
    "- SparseArray\n",
    "- [Categorical](https://pandas.pydata.org/pandas-docs/stable/generated/pandas.Categorical.html#pandas.Categorical)\n",
    "\n",
    "- NDFrame\n",
    "  - DataFrame\n",
    "  - ...\n",
    "\n",
    "\n",
    "\n",
    "...\n",
    "\n",
    "- [categorical data type](https://pandas.pydata.org/pandas-docs/stable/categorical.html)\n",
    "- time?"
   ]
  },
  {
   "cell_type": "code",
   "execution_count": null,
   "metadata": {},
   "outputs": [],
   "source": [
    "# See that RangeIndex is a subclass of Index\n",
    "issubclass(pd.core.indexes.range.RangeIndex, pd.core.indexes.range.Index)"
   ]
  },
  {
   "cell_type": "markdown",
   "metadata": {},
   "source": [
    "## Index Class\n",
    "\n",
    "[`pandas.Index`](https://pandas.pydata.org/pandas-docs/stable/generated/pandas.Index.html)\n",
    "\n",
    "\n",
    "### Attributes\n",
    "\n",
    "- `dtype_str`---prefer to size\n",
    "- `name`\n",
    "\n",
    "### Methods\n",
    "\n",
    "- `drop()`\n",
    "- `drop_duplicates()`\n",
    "- `duplicated()`\n",
    "- `sort_values()`\n",
    "\n",
    "### Comparisons\n",
    "\n",
    "these are on Index and possibly others!?\n",
    "- `equals()`\n",
    "- `identical()`---vs equals? and note neither Series nor DataFrame has this (they have eq()), only Index does.\n",
    "- `difference()`\n",
    "- `symmetric_difference()`\n",
    "- `intersection()`\n",
    "- `union()` (vs append()?)"
   ]
  },
  {
   "cell_type": "markdown",
   "metadata": {},
   "source": [
    "## Series\n",
    "\n",
    "[`pandas.Series`](https://pandas.pydata.org/pandas-docs/stable/generated/pandas.Series.html)\n",
    "\n",
    "### Attributes\n",
    "\n",
    "- `index`\n",
    "- `values`\n",
    "- `dtype`----There is also `dtypes` but it is exactly the same and seems redundant. Not sure why it even exists on Series.\n",
    "- `str`---string methods!!!, I think Index has also but documentation is sparse\n",
    "\n",
    "### Methods\n",
    "\n",
    "- `hasnans()`---note Index also has this instance method but not sure why, DataFrame does NOT have this.\n",
    "- `isin()`\n",
    "- `isna()`/`notna()`\n",
    "- `isnull()`/`notnull()`\n",
    "- `nonzero()`\n",
    "\n",
    "- `describe()`\n",
    "- `is_unique()`\n",
    "\n",
    "- `where()`\n",
    "- `filter()`\n",
    "\n",
    "- `infer_objects()`\n",
    "\n",
    "- `iteritems()`---note `items()` is an alias for this\n",
    "\n",
    "- `equals()`\n",
    "- `eq()`---similar to `==` but with support for missing values\n",
    "\n",
    "How to change dtype of Series?"
   ]
  },
  {
   "cell_type": "markdown",
   "metadata": {},
   "source": [
    "## DataFrame\n",
    "\n",
    "[`pandas.DataFrame`](https://pandas.pydata.org/pandas-docs/stable/generated/pandas.DataFrame.html)\n",
    "\n",
    "Axis labels are stored in `Index` objects.\n",
    "\n",
    "A DataFrame *index* is the row labels and *columns* are the column labels.\n",
    "\n",
    "TODO review how to use index properly!\n",
    "\n",
    "The index and columns can have a `name`!\n",
    "\n",
    "index... set_index(), which can also set a multi-index (hierarchical/multi-level indexing, `MultiIndex`)! See options to `set_index()`, incl. `verify_integrity`!\n",
    "\n",
    "    df.set_index(keys, inplace=True...)\n",
    "    \n",
    "    df.index.name = None; # clear index name\n",
    "    \n",
    "    df.index.name = key\n",
    "    df.reset_index(inplace=True)\n",
    "    \n",
    "    ?\n",
    "    df.set_axis\n",
    "    df.rename_axis()\n",
    "    but there is no set_columns why?\n",
    "    so there is a partial symmetry between index and columns wrt the name thing\n",
    "\n",
    "columns\n",
    "\n",
    "An Index has a dtype, will be `object` if heterogeneous (i.e. may contain both str, int, etc.)\n",
    "\n",
    "### Attributes\n",
    "\n",
    "- `values`---return a numpy representation of the DataFrame with axes labels removed.\n",
    "- `loc[]`---see also `filter()`\n",
    "- `iloc[]`\n",
    "\n",
    "- `dtypes`---return a Series with the data type (.dtype) of each column.\n",
    "\n",
    "- `shape`\n",
    "\n",
    "### Methods\n",
    "\n",
    "- `info()`\n",
    "- `summary()`\n",
    "\n",
    "- `iteritems()`---good way to iterate!\n",
    "\n",
    "- `filter`---see also `loc` which has overlapping function\n",
    "- `query()`\n",
    "\n",
    "- [`where()`](https://pandas.pydata.org/pandas-docs/stable/generated/pandas.DataFrame.where.html#pandas.DataFrame.where)---shape preserving\n",
    "- `mask()`\n",
    "- `combine()`\n",
    "- `combine_first()`\n",
    "\n",
    "- `isin()`---selects values!\n",
    "- `isna()`/`notna()`\n",
    "- `isnull()`/`notnull()`\n",
    "\n",
    "- `dropna()`---may want how='all'\n",
    "\n",
    "- `sort_index()`\n",
    "- `sort_axis()`\n",
    "- `set_index()`---set index using one or more existing columns.\n",
    "- `set_axis()`\n",
    "\n",
    "- `to_csv()`---see also `pandas.read_csv()`\n",
    "\n",
    "- `get_dtype_counts()`---see also dtypes attribute\n",
    "- `astype()`---note, do not use .loc with this\n",
    "- `infer_objects()`---hmmmm? this could be really useful! See also pandas.to_numeric().\n",
    "\n",
    "- `equals()`---NaNs are considered equals. and what is this eq()? note some classes also have an identical() method but not df\n",
    "- `eq()`---you probably want equals, not clear how to use this...actually related to ne, lt, gt, le, ge.\n",
    "\n",
    "- any()---default of axis=0 gives per-column results\n",
    "- all()\n",
    "- bool()\n",
    "see also empty  \n",
    "\n",
    "### Notes\n",
    "\n",
    "TODO Changing data types, incl astype(), infer_objects(), to_numeric()\n",
    "\n"
   ]
  },
  {
   "cell_type": "markdown",
   "metadata": {},
   "source": [
    "### Creating DataFrames"
   ]
  },
  {
   "cell_type": "code",
   "execution_count": null,
   "metadata": {},
   "outputs": [],
   "source": [
    "# Just create an example DataFrame, from dict of Series.\n",
    "\n",
    "d = {'one' : pd.Series([1., 2., 3.], index=['a', 'b', 'c']),\n",
    "      'two' : pd.Series([1., 2., 3., 4.], index=['a', 'b', 'c', 'd'])}\n",
    "\n",
    "df = pd.DataFrame(d, index=['d', 'b', 'a'], columns=['two', 'three'])"
   ]
  },
  {
   "cell_type": "markdown",
   "metadata": {},
   "source": [
    "### Inspecting DataFrames\n",
    "\n",
    "- `info()`\n",
    "- "
   ]
  },
  {
   "cell_type": "code",
   "execution_count": null,
   "metadata": {},
   "outputs": [],
   "source": [
    "df.info()\n",
    "# Note that if there are too many columns info will not list them (output None?).\n",
    "# info() will print even without wrapping in print()."
   ]
  },
  {
   "cell_type": "code",
   "execution_count": null,
   "metadata": {},
   "outputs": [],
   "source": [
    "df.index"
   ]
  },
  {
   "cell_type": "code",
   "execution_count": null,
   "metadata": {},
   "outputs": [],
   "source": [
    "df.columns"
   ]
  },
  {
   "cell_type": "code",
   "execution_count": null,
   "metadata": {},
   "outputs": [],
   "source": [
    "# Return a Series with the data type of each column.\n",
    "df.dtypes"
   ]
  },
  {
   "cell_type": "code",
   "execution_count": null,
   "metadata": {},
   "outputs": [],
   "source": [
    "# The index corresponds to the DataFrame's columns.\n",
    "df.dtypes.index"
   ]
  },
  {
   "cell_type": "code",
   "execution_count": null,
   "metadata": {},
   "outputs": [],
   "source": [
    "df.ftypes"
   ]
  },
  {
   "cell_type": "code",
   "execution_count": null,
   "metadata": {},
   "outputs": [],
   "source": [
    "df.describe()"
   ]
  },
  {
   "cell_type": "markdown",
   "metadata": {},
   "source": [
    "## Basics of Viewing Data"
   ]
  },
  {
   "cell_type": "code",
   "execution_count": null,
   "metadata": {},
   "outputs": [],
   "source": [
    "#df.at?"
   ]
  },
  {
   "cell_type": "code",
   "execution_count": null,
   "metadata": {},
   "outputs": [],
   "source": [
    "df.head()"
   ]
  },
  {
   "cell_type": "code",
   "execution_count": null,
   "metadata": {},
   "outputs": [],
   "source": [
    "df.tail()"
   ]
  },
  {
   "cell_type": "code",
   "execution_count": null,
   "metadata": {},
   "outputs": [],
   "source": [
    "df.values"
   ]
  },
  {
   "cell_type": "markdown",
   "metadata": {},
   "source": [
    "## Indexing and Selecting Data\n",
    "\n",
    "I'm still confused!\n",
    "\n",
    "- [Indexing and Selecting Data](https://pandas.pydata.org/pandas-docs/stable/indexing.html)\n",
    "\n",
    "There are a number of ways \n",
    "\n",
    "attribute operator (.)\n",
    "\n",
    "pd['column_name'] ~ pd[:, 'column_name']\n",
    "pd[['column_name1', 'column_name2']]\n",
    "\n",
    "pd[index_variable] will also work\n",
    "\n",
    "`pd[][]` can combine row and column index/select.\n",
    "\n",
    "\n",
    "`loc[]` selects based on names, can also do slices of both rows and cols, or via a list.\n",
    "\n",
    " use `iloc[]` to do so based on indices\n",
    " \n",
    " `where()`\n",
    " \n",
    " df.where(df>0) is equivalent to df[df>0]!\n",
    " \n",
    " what about `at[]` and `iat[]`?\n",
    " \n",
    " you can also do conditional selection / boolean indexing, see also `isin()`"
   ]
  },
  {
   "cell_type": "code",
   "execution_count": null,
   "metadata": {},
   "outputs": [],
   "source": [
    "# df[1]"
   ]
  },
  {
   "cell_type": "markdown",
   "metadata": {},
   "source": [
    "### Reindexing\n",
    "\n",
    "- https://pandas.pydata.org/pandas-docs/stable/10min.html#missing-data\n",
    "- https://pandas.pydata.org/pandas-docs/stable/basics.html#reindexing-and-altering-labels\n",
    "\n",
    "`reindex()`,\n",
    "\n",
    "- `df.drop()`---works on either axis\n",
    "- `df.drop_duplicates()`---only works on rows, but with a little work `i.drop_duplicates()` can be used for columns. See https://stackoverflow.com/a/40435354/2762964 for a oneliner for removing duplicate columns.\n",
    "\n",
    "maybe can del df['col_name'] same as drop??\n",
    "\n",
    "`df.reindex_like()`\n",
    "\n",
    "`df.reindex_axis()` is deprecated in favor of reindex!\n",
    "see also [`df.sort_index(axis=1)`](https://pandas.pydata.org/pandas-docs/stable/generated/pandas.DataFrame.sort_index.html)\n",
    "\n",
    "what about aligning index `align()`\n",
    "\n",
    "WTF does align() do? https://pandas.pydata.org/pandas-docs/stable/basics.html#aligning-objects-with-each-other-with-align\n",
    "\n",
    "- df.sort_index()!"
   ]
  },
  {
   "cell_type": "code",
   "execution_count": null,
   "metadata": {},
   "outputs": [],
   "source": [
    "# TODO df.reindex"
   ]
  },
  {
   "cell_type": "code",
   "execution_count": null,
   "metadata": {},
   "outputs": [],
   "source": [
    "# TODO\n",
    "df.sort_index() # defaults to axis='row'\n",
    "df.sort_index(axis='columns')"
   ]
  },
  {
   "cell_type": "markdown",
   "metadata": {},
   "source": [
    "### `rename()`\n",
    "\n",
    "Use rename() to rename index or columns as per a dict-like or function. The simplest way is to use the `index` and/or `columns` keyword arguments. Alternatively you can use `mapper` and specify which `axis`.\n",
    "\n",
    "Note in the example `index=str` argument converts index to string!\n"
   ]
  },
  {
   "cell_type": "code",
   "execution_count": null,
   "metadata": {},
   "outputs": [],
   "source": [
    "s = pd.Series(np.random.randn(5), index=['a', 'b', 'c', 'd', 'e'])\n",
    "\n",
    "s1 = s[:4]\n",
    "\n",
    "s2 = s[1:]\n",
    "\n",
    "s1"
   ]
  },
  {
   "cell_type": "code",
   "execution_count": null,
   "metadata": {},
   "outputs": [],
   "source": [
    "s2"
   ]
  },
  {
   "cell_type": "code",
   "execution_count": null,
   "metadata": {},
   "outputs": [],
   "source": [
    "s1.align(s2)"
   ]
  },
  {
   "cell_type": "code",
   "execution_count": null,
   "metadata": {},
   "outputs": [],
   "source": [
    "df.eq??"
   ]
  },
  {
   "cell_type": "markdown",
   "metadata": {},
   "source": [
    "## ?\n",
    "\n",
    "pd.unique() vs Series.unique() vs Index.unique()? and also Series.is_unique() and Index.is_unique()"
   ]
  },
  {
   "cell_type": "markdown",
   "metadata": {},
   "source": [
    "## Sorting Data\n",
    "\n",
    "sort()\n",
    "\n",
    "sort_index()\n",
    "\n",
    "sort_values()\n",
    "\n",
    "is_monotonic(), etc."
   ]
  },
  {
   "cell_type": "code",
   "execution_count": null,
   "metadata": {},
   "outputs": [],
   "source": [
    "# TODO df.sort_index"
   ]
  },
  {
   "cell_type": "code",
   "execution_count": null,
   "metadata": {},
   "outputs": [],
   "source": [
    "# TODO df.sort_values()"
   ]
  },
  {
   "cell_type": "markdown",
   "metadata": {},
   "source": [
    "## Manipulation\n",
    "\n",
    "\n",
    "\n",
    "\n",
    "...\n",
    "\n",
    "\n",
    "df.assign and what about df['var']=?"
   ]
  },
  {
   "cell_type": "markdown",
   "metadata": {},
   "source": [
    "## Merge\n",
    "\n",
    "? What operations induce a reindexing?\n",
    "\n",
    "https://pandas.pydata.org/pandas-docs/stable/merging.html\n",
    "\n",
    "There are a handful of ways to combine data sets and it can get confusing. Here's a summary:\n",
    "- df\n",
    "  - **append**\n",
    "  - **join**\n",
    "  - merge--instance method is a convenience wrapper for global version\n",
    "  - update\n",
    "  - assign---assign new column(s), or overwrite if existing, returns copy, use concat for more arbitrary concatenation\n",
    "- global\n",
    "  - **merge**\n",
    "  - **concat**\n",
    "\n",
    "\n",
    "### append\n",
    "\n",
    "[`df.append()`](https://pandas.pydata.org/pandas-docs/stable/generated/pandas.DataFrame.append.html)\n",
    "\n",
    "    DataFrame.append(other, ignore_index=False, verify_integrity=False, sort=None)\n",
    "\n",
    "Uses `pd.concat()` internally.\n",
    "\n",
    "Super naive, simply appends rows to a frame.\n",
    "\n",
    "Note `append` lacks the `axis` parameter of `concat` and this is **only good for appending rows**. This may lead to duplicate index labels or, if `ignore_index=True`, index labels will be overwritten with meaningless numeric labels. New columns may be added from the other frame, but in summary, don't use concat if the index labels have any meaning.\n",
    "\n",
    "Note `append` lacks the `join` parameter of `concat` and just uses the default of `outer`.\n",
    "\n",
    "### join\n",
    "\n",
    "    DataFrame.join(other, on=None, how='left', lsuffix='', rsuffix='', sort=False)\n",
    "\n",
    "[`df.join`](https://pandas.pydata.org/pandas-docs/stable/generated/pandas.DataFrame.join.html)\n",
    "\n",
    "Via the private `df._join_compat()` method, join uses `pd.merge()` internally. But unlike merge, join defaults to joining index-on-index; the `on` parameter allows the caller to join on column name, but the other is always joined on index.\n",
    "\n",
    "Multiple data frames can be joined but only index-on-index.\n",
    "however if the index of each frame is unique (to itself)(WHY?) then it uses `pd.concat()`, otherwise falls back to `pd.merge()`.\n",
    "Read through this section of the `_join_compat` method to make sense of it!\n",
    "\n",
    "See `combine_first()` for working with overlapping data sets! also `df.combine()`\n",
    "\n",
    "`how`:\n",
    "- left---join default\n",
    "- outer\n",
    "- inner---merge default\n",
    "- right\n",
    "\n",
    "\n",
    "### concat\n",
    "\n",
    "    pandas.concat(objs, axis=0, join='outer', join_axes=None, ignore_index=False, keys=None, levels=None, names=None, verify_integrity=False, sort=None, copy=True)\n",
    "\n",
    "[`pd.concat()`](https://pandas.pydata.org/pandas-docs/stable/generated/pandas.concat.html) to append rows, with `axis=1` to append columns, see also join parameter\n",
    "\n",
    "by default joins on index values along concatenation axis unless you `ignore_index=True`???\n",
    "\n",
    "See also `df.append` instance method for quick way to concatenate along `axis=0`.\n",
    "\n",
    "See `ignore_index=True` option for concat and append.\n",
    "\n",
    "`join`:\n",
    "- `inner`\n",
    "- `outer` (default)\n",
    "\n",
    "\n",
    "### merge\n",
    "\n",
    "    pandas.merge(left, right, how='inner', on=None, left_on=None, right_on=None, left_index=False, right_index=False, \n",
    "                 sort=False, suffixes=('_x', '_y'), copy=True, indicator=False, validate=None)\n",
    "                 \n",
    "[`pd.merge`](https://pandas.pydata.org/pandas-docs/stable/generated/pandas.merge.html) is also available as instance method [`df.merge`](https://pandas.pydata.org/pandas-docs/stable/generated/pandas.DataFrame.merge.html)\n",
    "\n",
    "Note `merge` can join on arbitrary variables vs `append` which joins only on index...\n",
    "\n",
    "\n",
    "May need to consider `drop()` or `drop_duplicates()` `duplicated()` (see `keep` parameter) (vs `unique()`?) for cleaning up.\n",
    "duplicated/drop_duplicates/etc? also on Series and DataFrame (applies to index).\n",
    "? what can you do with the indices returned by duplicated?\n",
    "\n",
    "`how`:\n",
    "- left---join default\n",
    "- outer\n",
    "- inner---merge default\n",
    "- right\n",
    "\n",
    "### assign\n",
    "\n",
    "[`df.assign`](https://pandas.pydata.org/pandas-docs/stable/generated/pandas.DataFrame.assign.html)\n",
    "\n",
    "### update\n",
    "\n",
    "[`df.update`](https://pandas.pydata.org/pandas-docs/stable/generated/pandas.DataFrame.update.html)\n",
    "\n",
    "? how does this compare to combine_first?"
   ]
  },
  {
   "cell_type": "code",
   "execution_count": null,
   "metadata": {},
   "outputs": [],
   "source": [
    "df.append?"
   ]
  },
  {
   "cell_type": "code",
   "execution_count": null,
   "metadata": {},
   "outputs": [],
   "source": [
    "df.set_index?"
   ]
  },
  {
   "cell_type": "markdown",
   "metadata": {},
   "source": [
    "---\n",
    "\n",
    "## Sparse...\n",
    "\n",
    "DataFrames (etc.) can be compressed to *sparse* form (`SparseDataFrame`) for memory efficiency using `to_sparse()`. The `density` attribute gives the ration of non-sparse values to total. Convert back to *dense* form using `to_dense()`.\n",
    "\n",
    "Sparse structures only store values distinct from the `fill_value`, which defaults to `nan`.\n",
    "\n",
    "See `ftypes` in addition to `dtypes`.\n",
    "\n",
    "The use and implication of `get_values()` vs `values` for sparse structures is not at all clear, but probably isn't too important for now. According to [pandas#19617](https://github.com/pandas-dev/pandas/issues/19617) I think we can forget about `get_values()`.\n",
    "\n",
    "See also SparseSeries and SparseArray."
   ]
  },
  {
   "cell_type": "code",
   "execution_count": null,
   "metadata": {},
   "outputs": [],
   "source": [
    "df = pd.DataFrame({\"a\": pd.SparseArray([1, None, None]), \"c\": [1.0, 2.0, 3.0]})"
   ]
  },
  {
   "cell_type": "code",
   "execution_count": null,
   "metadata": {},
   "outputs": [],
   "source": [
    "df.get_values()"
   ]
  },
  {
   "cell_type": "code",
   "execution_count": null,
   "metadata": {},
   "outputs": [],
   "source": [
    "type(df)"
   ]
  },
  {
   "cell_type": "code",
   "execution_count": null,
   "metadata": {},
   "outputs": [],
   "source": [
    "df.ftypes"
   ]
  },
  {
   "cell_type": "code",
   "execution_count": null,
   "metadata": {},
   "outputs": [],
   "source": [
    "df.dtypes"
   ]
  },
  {
   "cell_type": "code",
   "execution_count": null,
   "metadata": {},
   "outputs": [],
   "source": [
    "pd.SparseDataFrame"
   ]
  },
  {
   "cell_type": "code",
   "execution_count": null,
   "metadata": {},
   "outputs": [],
   "source": [
    "type(df.to_sparse())"
   ]
  },
  {
   "cell_type": "code",
   "execution_count": null,
   "metadata": {},
   "outputs": [],
   "source": [
    "df.values"
   ]
  },
  {
   "cell_type": "code",
   "execution_count": null,
   "metadata": {},
   "outputs": [],
   "source": [
    "df.get_values()"
   ]
  },
  {
   "cell_type": "code",
   "execution_count": null,
   "metadata": {},
   "outputs": [],
   "source": [
    "df1 = pd.DataFrame({'a': [1, 2], 'b': [True, False], 'c': [1.0, 2.0]})"
   ]
  },
  {
   "cell_type": "code",
   "execution_count": null,
   "metadata": {},
   "outputs": [],
   "source": [
    "df1.values"
   ]
  },
  {
   "cell_type": "code",
   "execution_count": null,
   "metadata": {},
   "outputs": [],
   "source": [
    "df1.get_values()"
   ]
  },
  {
   "cell_type": "code",
   "execution_count": null,
   "metadata": {},
   "outputs": [],
   "source": [
    "dfs = df.to_sparse()"
   ]
  },
  {
   "cell_type": "code",
   "execution_count": null,
   "metadata": {},
   "outputs": [],
   "source": [
    "dfs.density"
   ]
  },
  {
   "cell_type": "code",
   "execution_count": null,
   "metadata": {},
   "outputs": [],
   "source": [
    "type(dfs)"
   ]
  },
  {
   "cell_type": "code",
   "execution_count": null,
   "metadata": {},
   "outputs": [],
   "source": [
    "print(dfs)"
   ]
  },
  {
   "cell_type": "code",
   "execution_count": null,
   "metadata": {},
   "outputs": [],
   "source": [
    "df1.to_sparse??"
   ]
  },
  {
   "cell_type": "code",
   "execution_count": null,
   "metadata": {},
   "outputs": [],
   "source": [
    "type(dfs.values)"
   ]
  },
  {
   "cell_type": "code",
   "execution_count": null,
   "metadata": {},
   "outputs": [],
   "source": [
    "type(dfs['a'].get_values())"
   ]
  },
  {
   "cell_type": "code",
   "execution_count": null,
   "metadata": {},
   "outputs": [],
   "source": [
    "type(dfs)"
   ]
  },
  {
   "cell_type": "code",
   "execution_count": null,
   "metadata": {},
   "outputs": [],
   "source": [
    "pd.SparseDataFrame?"
   ]
  },
  {
   "cell_type": "code",
   "execution_count": null,
   "metadata": {},
   "outputs": [],
   "source": [
    "type(pd.DataFrame(dfs.values))"
   ]
  },
  {
   "cell_type": "code",
   "execution_count": null,
   "metadata": {},
   "outputs": [],
   "source": [
    "type(pd.DataFrame(dfs.get_values()))"
   ]
  },
  {
   "cell_type": "code",
   "execution_count": null,
   "metadata": {},
   "outputs": [],
   "source": [
    "dfs.get_values??"
   ]
  },
  {
   "cell_type": "code",
   "execution_count": null,
   "metadata": {},
   "outputs": [],
   "source": [
    "pd.DataFrame?"
   ]
  },
  {
   "cell_type": "code",
   "execution_count": null,
   "metadata": {},
   "outputs": [],
   "source": [
    "pd.read_csv?"
   ]
  },
  {
   "cell_type": "markdown",
   "metadata": {},
   "source": [
    "## Cleaning Data\n",
    "\n",
    "whitespace? consider this?\n",
    "\n",
    "The str attribute of Series and Index can be used for vectorized string operations that also handle missing and NA values.\n",
    "\n",
    "    df.columns = df.columns.str.strip()"
   ]
  }
 ],
 "metadata": {
  "kernelspec": {
   "display_name": "Python 3",
   "language": "python",
   "name": "python3"
  },
  "language_info": {
   "codemirror_mode": {
    "name": "ipython",
    "version": 3
   },
   "file_extension": ".py",
   "mimetype": "text/x-python",
   "name": "python",
   "nbconvert_exporter": "python",
   "pygments_lexer": "ipython3",
   "version": "3.7.2"
  }
 },
 "nbformat": 4,
 "nbformat_minor": 2
}
