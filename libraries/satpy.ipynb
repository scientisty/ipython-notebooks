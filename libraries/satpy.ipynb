{
 "cells": [
  {
   "cell_type": "markdown",
   "metadata": {},
   "source": [
    "# SatPy\n",
    "\n",
    "[SatPy](https://satpy.readthedocs.io/) [[github](https://github.com/pytroll/satpy)]\n",
    "\n",
    "SatPy is developed by [PyTROLL](https://pytroll.github.io/), which also develops related and supporting packages including [Pyresample](https://pyresample.readthedocs.io/) [[github](https://github.com/pytroll/pyresample)]\n",
    "and [PySpectral](https://pyspectral.readthedocs.io/) [[github](https://github.com/pytroll/pyspectral)].\n"
   ]
  },
  {
   "cell_type": "code",
   "execution_count": null,
   "metadata": {},
   "outputs": [],
   "source": []
  }
 ],
 "metadata": {
  "kernelspec": {
   "display_name": "Python [conda env:geospatial]",
   "language": "python",
   "name": "conda-env-geospatial-py"
  },
  "language_info": {
   "codemirror_mode": {
    "name": "ipython",
    "version": 3
   },
   "file_extension": ".py",
   "mimetype": "text/x-python",
   "name": "python",
   "nbconvert_exporter": "python",
   "pygments_lexer": "ipython3",
   "version": "3.7.2"
  }
 },
 "nbformat": 4,
 "nbformat_minor": 2
}
