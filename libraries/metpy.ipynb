{
 "cells": [
  {
   "cell_type": "markdown",
   "metadata": {},
   "source": [
    "# MetPy\n",
    "\n",
    "[MetPy](https://www.unidata.ucar.edu/software/metpy/) / [MetPy Documentation](https://unidata.github.io/MetPy/) / [github](https://github.com/Unidata/MetPy)\n",
    "\n",
    "See [python-gallery](https://unidata.github.io/python-gallery/) for examples.\n",
    "\n",
    "## Related\n",
    "\n",
    "[Unidata](https://www.unidata.ucar.edu/) [[github](https://github.com/Unidata)] offers a range of software and data, among them:\n",
    "\n",
    "- [AWIPS](https://www.unidata.ucar.edu/software/awips2/) / [awips2](https://unidata.github.io/awips2/) [[github](https://github.com/Unidata/awips2)] / [python-awips](https://python-awips.readthedocs.io/en/latest/) [[github](https://github.com/Unidata/python-awips)]\n",
    "- [NetCDF](https://www.unidata.ucar.edu/software/netcdf/) / [netcdf4-python](https://unidata.github.io/netcdf4-python/netCDF4/) [[github](https://github.com/Unidata/netcdf4-python)] + other bindings\n"
   ]
  },
  {
   "cell_type": "code",
   "execution_count": null,
   "metadata": {},
   "outputs": [],
   "source": []
  }
 ],
 "metadata": {
  "kernelspec": {
   "display_name": "Python [conda env:geospatial]",
   "language": "python",
   "name": "conda-env-geospatial-py"
  },
  "language_info": {
   "codemirror_mode": {
    "name": "ipython",
    "version": 3
   },
   "file_extension": ".py",
   "mimetype": "text/x-python",
   "name": "python",
   "nbconvert_exporter": "python",
   "pygments_lexer": "ipython3",
   "version": "3.7.2"
  }
 },
 "nbformat": 4,
 "nbformat_minor": 2
}
