{
 "cells": [
  {
   "cell_type": "markdown",
   "metadata": {},
   "source": [
    "# Shapely\n",
    "\n",
    "https://shapely.readthedocs.io/\n",
    "\n",
    "See also: Descartes, Fiona, Rasterio.\n"
   ]
  },
  {
   "cell_type": "markdown",
   "metadata": {},
   "source": [
    "## Geometric Objects\n",
    "\n",
    "`shapely.geometry`\n",
    "\n",
    "- `Point`\n",
    "- `LineString`\n",
    "- `LinearRing`\n",
    "\n",
    "\n",
    "### Collections\n",
    "\n",
    "- `GeometryCollection`, has `geoms` property\n",
    "- `MultiPoint`\n",
    "- `MultiLineString`\n",
    "- `MultiPolygon`\n",
    "\n",
    "\n",
    "area? length? bounds? etc?\n"
   ]
  },
  {
   "cell_type": "code",
   "execution_count": null,
   "metadata": {},
   "outputs": [],
   "source": []
  }
 ],
 "metadata": {
  "kernelspec": {
   "display_name": "Python [conda env:geospatial]",
   "language": "python",
   "name": "conda-env-geospatial-py"
  },
  "language_info": {
   "codemirror_mode": {
    "name": "ipython",
    "version": 3
   },
   "file_extension": ".py",
   "mimetype": "text/x-python",
   "name": "python",
   "nbconvert_exporter": "python",
   "pygments_lexer": "ipython3",
   "version": "3.7.4"
  }
 },
 "nbformat": 4,
 "nbformat_minor": 4
}
