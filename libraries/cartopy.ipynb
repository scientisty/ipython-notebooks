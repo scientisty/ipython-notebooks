{
 "cells": [
  {
   "cell_type": "markdown",
   "metadata": {},
   "source": [
    "# Cartopy\n",
    "\n",
    "[cartopy](https://scitools.org.uk/cartopy/docs/latest/)\n",
    "\n",
    "cartopy is the replacement for matplotlib basemap, and works well with matplotlib.\n",
    "\n",
    "can be used with xarray\n",
    "\n",
    "Available through anaconda defaults, but not installed automatically; however pyviz does install it automatically.\n",
    "\n",
    "\n",
    "`cartopy.crs`\n"
   ]
  },
  {
   "cell_type": "markdown",
   "metadata": {},
   "source": [
    "[Coordinate reference systems in Cartopy](https://scitools.org.uk/cartopy/docs/latest/crs/index.html) discusses the `cartopy.crs.CRS` class.\n"
   ]
  },
  {
   "cell_type": "markdown",
   "metadata": {},
   "source": [
    "[Cartopy projection list](https://scitools.org.uk/cartopy/docs/latest/crs/projections.html)\n"
   ]
  },
  {
   "cell_type": "markdown",
   "metadata": {},
   "source": [
    "[Using cartopy with matplotlib](https://scitools.org.uk/cartopy/docs/latest/matplotlib/intro.html)\n",
    "\n",
    "Basic use involves passing a cartopy projection as the `projection` parameter to `plt.axes()` (or `plt.subplot()`, etc) to create a [`GeoAxes`](https://scitools.org.uk/cartopy/docs/latest/matplotlib/geoaxes.html#cartopy.mpl.geoaxes.GeoAxes) instance. This exposes other map related methods, such as `coastlines()`.\n"
   ]
  },
  {
   "cell_type": "code",
   "execution_count": null,
   "metadata": {},
   "outputs": [],
   "source": [
    "import cartopy\n",
    "import cartopy.crs as ccrs"
   ]
  },
  {
   "cell_type": "code",
   "execution_count": null,
   "metadata": {},
   "outputs": [],
   "source": []
  }
 ],
 "metadata": {
  "kernelspec": {
   "display_name": "Python [conda env:pyviz]",
   "language": "python",
   "name": "conda-env-pyviz-py"
  },
  "language_info": {
   "codemirror_mode": {
    "name": "ipython",
    "version": 3
   },
   "file_extension": ".py",
   "mimetype": "text/x-python",
   "name": "python",
   "nbconvert_exporter": "python",
   "pygments_lexer": "ipython3",
   "version": "3.6.8"
  }
 },
 "nbformat": 4,
 "nbformat_minor": 2
}
