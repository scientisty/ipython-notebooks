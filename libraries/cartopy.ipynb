{
 "cells": [
  {
   "cell_type": "markdown",
   "metadata": {},
   "source": [
    "# Cartopy\n",
    "\n",
    "[cartopy](https://scitools.org.uk/cartopy/docs/latest/) [[github](https://github.com/SciTools/cartopy)]\n",
    "\n",
    "cartopy is the replacement for matplotlib basemap, and works well with matplotlib.\n",
    "\n",
    "can be used with xarray\n",
    "\n",
    "Available through anaconda defaults, but not installed automatically; however pyviz does install it automatically.\n",
    "\n",
    "`cartopy.crs`\n",
    "\n",
    "https://ipython-books.github.io/146-manipulating-geospatial-data-with-cartopy/\n",
    "\n",
    "See also https://github.com/ResidentMario/geoplot\n",
    "\n",
    "https://rabernat.github.io/research_computing_2018/maps-with-cartopy.html\n",
    "\n",
    "https://geohackweek.github.io/visualization/\n"
   ]
  },
  {
   "cell_type": "markdown",
   "metadata": {},
   "source": [
    "[Coordinate reference systems in Cartopy](https://scitools.org.uk/cartopy/docs/latest/crs/index.html) discusses the `cartopy.crs.CRS` class.\n"
   ]
  },
  {
   "cell_type": "markdown",
   "metadata": {},
   "source": [
    "[Cartopy projection list](https://scitools.org.uk/cartopy/docs/latest/crs/projections.html)\n"
   ]
  },
  {
   "cell_type": "markdown",
   "metadata": {},
   "source": [
    "[Using cartopy with matplotlib](https://scitools.org.uk/cartopy/docs/latest/matplotlib/intro.html)\n",
    "\n",
    "Basic use involves passing a cartopy projection as the `projection` parameter to `plt.axes()` (or `plt.subplot()`, etc) to create a [`GeoAxes`](https://scitools.org.uk/cartopy/docs/latest/matplotlib/geoaxes.html#cartopy.mpl.geoaxes.GeoAxes) instance. This exposes other map related methods, such as `coastlines()`.\n",
    "\n",
    "set_extend()\n",
    "\n",
    "ax.stock_img()\n",
    "\n",
    "\n",
    "- ax.add_feature()\n",
    "- ax.add_geometries()\n"
   ]
  },
  {
   "cell_type": "code",
   "execution_count": null,
   "metadata": {},
   "outputs": [],
   "source": [
    "import cartopy\n",
    "import cartopy.crs as ccrs"
   ]
  },
  {
   "cell_type": "markdown",
   "metadata": {},
   "source": [
    "## Features\n",
    "\n",
    "`cartopy.feature`\n",
    "\n",
    "https://scitools.org.uk/cartopy/docs/latest/matplotlib/feature_interface.html\n"
   ]
  },
  {
   "cell_type": "markdown",
   "metadata": {},
   "source": [
    "## R\n",
    "\n",
    "`cartopy.io.shapereader`\n",
    "\n",
    "https://scitools.org.uk/cartopy/docs/latest/tutorials/using_the_shapereader.html"
   ]
  },
  {
   "cell_type": "markdown",
   "metadata": {},
   "source": [
    "## SRTM\n",
    "\n",
    "It appears that there is some support for SRTM. There used to be a `cartopy.srtm` thing, but now it's all at `cartopy.io.srtm` and uses the LP DAAC Data Pool.\n",
    "\n",
    "But there are currently authentication issues [SciTools/cartopy#789](https://github.com/SciTools/cartopy/issues/789).\n"
   ]
  },
  {
   "cell_type": "code",
   "execution_count": null,
   "metadata": {},
   "outputs": [],
   "source": [
    "import cartopy"
   ]
  },
  {
   "cell_type": "code",
   "execution_count": null,
   "metadata": {},
   "outputs": [],
   "source": [
    "from cartopy.io import srtm  # Oddly srtm is not found as an attribute of cartopy.io but this works.\n",
    "\n",
    "from cartopy.io.srtm import SRTM1Source\n",
    "from cartopy.io.srtm import SRTM3Source"
   ]
  },
  {
   "cell_type": "code",
   "execution_count": null,
   "metadata": {},
   "outputs": [],
   "source": [
    "cartopy.io."
   ]
  }
 ],
 "metadata": {
  "kernelspec": {
   "display_name": "Python [conda env:pyviz]",
   "language": "python",
   "name": "conda-env-pyviz-py"
  },
  "language_info": {
   "codemirror_mode": {
    "name": "ipython",
    "version": 3
   },
   "file_extension": ".py",
   "mimetype": "text/x-python",
   "name": "python",
   "nbconvert_exporter": "python",
   "pygments_lexer": "ipython3",
   "version": "3.6.8"
  }
 },
 "nbformat": 4,
 "nbformat_minor": 2
}
