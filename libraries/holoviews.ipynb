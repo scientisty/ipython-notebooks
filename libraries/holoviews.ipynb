{
 "cells": [
  {
   "cell_type": "markdown",
   "metadata": {},
   "source": [
    "# HoloViews"
   ]
  },
  {
   "cell_type": "markdown",
   "metadata": {},
   "source": [
    "[HoloViews](https://holoviews.org/) [[github](https://github.com/ioam/holoviews)] data analysis and vizualization\n",
    "\n",
    "See also GeoViews, an extension for working with geospatial data.\n"
   ]
  },
  {
   "cell_type": "markdown",
   "metadata": {},
   "source": [
    "### Installing Holoviews\n",
    "\n",
    "Holoviews may be installed using conda from defaults, or from the conda-forge or pyviz channels. The easiest might be pyvize. Be careful mixing defaults and conda-forge.\n"
   ]
  },
  {
   "cell_type": "code",
   "execution_count": null,
   "metadata": {},
   "outputs": [],
   "source": [
    "import pandas as pd\n",
    "import numpy as np\n",
    "import holoviews as hv"
   ]
  },
  {
   "cell_type": "markdown",
   "metadata": {},
   "source": [
    "## HoloViews Concepts\n",
    "\n",
    "When working with gridded data HoloViews distinguishes between *key dimensions* (**kdims**) and *value dimensions* (**vdims**)."
   ]
  },
  {
   "cell_type": "markdown",
   "metadata": {},
   "source": [
    "## HoloViews Objects\n",
    "\n",
    "- `hv.Points`\n",
    "- `hv.Scatter`\n",
    "- `hv.Image`---datatype argument?\n",
    "- ...\n",
    "\n",
    "Containers:\n",
    "\n",
    "- `HoloMap`\n",
    "- `DynamicMap`---?`dynamic=True`"
   ]
  },
  {
   "cell_type": "markdown",
   "metadata": {},
   "source": [
    "# ?\n",
    "\n",
    "select()"
   ]
  },
  {
   "cell_type": "code",
   "execution_count": null,
   "metadata": {},
   "outputs": [],
   "source": []
  }
 ],
 "metadata": {
  "kernelspec": {
   "display_name": "Python [conda env:pyviz]",
   "language": "python",
   "name": "conda-env-pyviz-py"
  },
  "language_info": {
   "codemirror_mode": {
    "name": "ipython",
    "version": 3
   },
   "file_extension": ".py",
   "mimetype": "text/x-python",
   "name": "python",
   "nbconvert_exporter": "python",
   "pygments_lexer": "ipython3",
   "version": "3.6.8"
  }
 },
 "nbformat": 4,
 "nbformat_minor": 2
}
