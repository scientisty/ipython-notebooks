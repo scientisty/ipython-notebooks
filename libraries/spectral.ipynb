{
 "cells": [
  {
   "cell_type": "markdown",
   "metadata": {},
   "source": [
    "# spectral python\n",
    "\n",
    "- https://www.spectralpython.net/\n",
    "- https://github.com/spectralpython/spectral"
   ]
  },
  {
   "cell_type": "markdown",
   "metadata": {},
   "source": [
    "use python2, python3 should work but haven't tested yet"
   ]
  },
  {
   "cell_type": "markdown",
   "metadata": {},
   "source": [
    "- note for convenience some things are added to the `spectral` i.e. things ins `spectral.spectral` as well as others\n",
    "\n",
    "subclasses of `spectral.spectral.Image`:\n",
    "\n",
    "- `spectral.io.SpyFile` (aliased to `spectral.Spyfile`, inherits from `spectral.spectral.Image`)\n",
    "- `spectral.ImageArray` (inherits from `numpy.ndimage` and `spectral.spectral.Image`)\n",
    "- ?\n",
    "\n",
    "spectral.BandInfo...\n",
    "\n",
    "note: comparing spectral Image objects fails even if data is same, each open/load is unique\n",
    "\n",
    "SpyFile.open_memmap lets you create memmap with different interleave, how does this work?\n",
    "\n",
    "\n",
    "ImageView (graphics/spypylab.py) is returned by imshow()\n",
    "\n",
    "Load into memory as `spectral.spectral.ImageArray` with `SpyFile.load()`.\n",
    "\n",
    "what is stretch?\n",
    "can you\n",
    "\n",
    "imshow() returns and ImageView object\n",
    "\n",
    "?\n",
    "\n",
    "why is  MemmapFile.open_memmap since it's only used by asarray? Is it to provide interface consistency so ImageArray and SpyFile types can use asarray?\n",
    "what's the point of MemmapFile using_memmap? isn't it assumed?\n",
    "\n",
    "get numpy.core.memmap.memmap or numpy.ndarray using asarray(), but many operations can be called directly on the spectral Image object\n",
    "\n",
    "img.read_datum?\n",
    "\n",
    "note: references to bands are 0 index!\n"
   ]
  },
  {
   "cell_type": "markdown",
   "metadata": {},
   "source": [
    "## spectral.Image\n",
    "\n",
    "### spectral.SpyFile\n",
    "\n",
    "\n",
    "\n",
    "\n",
    "### spectral.ImageArray\n",
    "\n"
   ]
  },
  {
   "cell_type": "code",
   "execution_count": null,
   "metadata": {},
   "outputs": [],
   "source": [
    "import spectral"
   ]
  },
  {
   "cell_type": "code",
   "execution_count": null,
   "metadata": {},
   "outputs": [],
   "source": [
    "# some spectral settings are stored in spectral.settings.*\n",
    "print spectral.settings.imshow_figure_size\n",
    "print spectral.settings.imshow_interpolation\n",
    "print spectral.settings.imshow_stretch\n",
    "print spectral.settings.imshow_stretch_all\n",
    "# and there are others..."
   ]
  },
  {
   "cell_type": "markdown",
   "metadata": {},
   "source": [
    "# plotting with spectral python\n",
    "\n",
    "Spectral's primary plotting function is `imshow()`, which is a thin wrapper around matplotlib's `imshow()`.\n",
    "\n",
    "or use `view()`?\n",
    "\n",
    "what's with plot()? may be part of double click interaction\n",
    "\n",
    "## imshow()\n",
    "\n",
    "'imshow()' is defined in [graphics/spypylab.py](https://github.com/spectralpython/spectral/blob/master/spectral/graphics/spypylab.py) along with ImageView class sets the objects source, displays with show -> show_data method, and returns an `ImageView` object (matplotlib's version returns an `AxesImage`).\n",
    "\n",
    "Note `imshow()` is also defined in [graphics/graphics.py](https://github.com/spectralpython/spectral/blob/master/spectral/graphics/graphics.py) along with the SpyWindow class, but it does not use `ImageView` and I think it's legacy and not used.\n",
    "\n",
    "`get_rgb()` implicated in both (look into it more! rasterio needs something similar since it breaks, spectral's trick is using `astype(np.float)`)\n",
    "\n",
    "\n",
    "`imshow()` params also include\n",
    "\n",
    "- source - look into this!\n",
    "- `figsize` (spectral.settings.imshow_figure_size) for figure window, for rough sizing when embedded in notebook\n",
    "- fignum\n",
    "- title\n",
    "as well as those from `get_rgb()`\n",
    "\n",
    "you can manipulate the ImageView object\n",
    "view.set_rgb_options()\n",
    "\n",
    "not clear if %matplotlib notebook allows you to work with the returned view object like normal interactive?\n",
    "\n",
    "the double click to show spectrum, etc work with Qt5Agg among others, but I don't think with inline or notebook? this also requires source parameter\n",
    "\n",
    "## get_rgb()\n",
    "\n",
    "`get_rgb()` (def in [graphics/graphics.py](https://github.com/spectralpython/spectral/blob/master/spectral/graphics/graphics.py)) used by `imshow()` and others\n",
    "it has parameters which the wrappers also pass to it\n",
    "\n",
    "- stretch - spectral.settings.imshow_stretch\n",
    "- bounds - like stretch but in image data units\n",
    "- stretch_all\n",
    "- color_scale\n",
    "- auto_scale\n",
    "- colors\n",
    "\n",
    "\n",
    "\n",
    "\n",
    "Advanced views with `view_cube` and `view_nd`. TODO get them to work\n",
    "\n",
    "view_cube requires wx backend\n",
    "\n",
    "    spectral.view_cube(data=img, bands=(50, 20, 10))\n",
    "\n",
    "---\n",
    "\n",
    "TODO message people I think stretch_all description is wrong, or at least there is an inconsistency\n",
    "\n",
    "I still don't get stretch!\n",
    "and what are the RGB data limits?\n"
   ]
  },
  {
   "cell_type": "code",
   "execution_count": null,
   "metadata": {},
   "outputs": [],
   "source": []
  }
 ],
 "metadata": {
  "kernelspec": {
   "display_name": "Python 3",
   "language": "python",
   "name": "python3"
  },
  "language_info": {
   "codemirror_mode": {
    "name": "ipython",
    "version": 3
   },
   "file_extension": ".py",
   "mimetype": "text/x-python",
   "name": "python",
   "nbconvert_exporter": "python",
   "pygments_lexer": "ipython3",
   "version": "3.7.0"
  }
 },
 "nbformat": 4,
 "nbformat_minor": 2
}
