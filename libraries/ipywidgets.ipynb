{
 "cells": [
  {
   "cell_type": "markdown",
   "metadata": {},
   "source": [
    "# Jupyter Widgets\n",
    "\n",
    "https://github.com/jupyter-widgets/ipywidgets\n",
    "\n",
    "See also https://ipython-books.github.io/33-mastering-widgets-in-the-jupyter-notebook/\n"
   ]
  },
  {
   "cell_type": "markdown",
   "metadata": {},
   "source": [
    "Summarizing [Using interact](https://ipywidgets.readthedocs.io/en/stable/examples/Using%20Interact.html):\n",
    "\n",
    "The easist way to use ipywidgets is to create a function and then pass it as the first arg to `interact()`, followed by keyword arguments corresponding to the parameters of that function. Equivalently, `interact` may be used as a decorator by prepending `@interact()` to the function. Interactive controls will be automatically generated and bound to the parameters. The return value of the function is displayed.\n",
    "\n",
    "If the keyword argument is a `Widget` instance with a `value` attribute, that widget is used. A kwarg of `fixed(value)` will create a pseudi-widget whose value is fixed and a control is not created.\n",
    "\n",
    "Otherwise, the value is treated as a *widget abbreviation* that is converted to a widget before it is used.\n",
    "\n",
    "The type of control depends on the data type and form of the *widget abbreviation*:\n",
    "\n",
    "- int/float &rarr; Slider widget, or specify range as tuple (min, max) or (min, max, step), in which case set default argument on the underlying function\n",
    "- bool &rarr; Checkbox widget\n",
    "- str &rarr; Text widget\n",
    "- list/dict &rarr; Dropdown widget, lists are strings but can be (label, value) pairs to pass non-string, or dict fine \n",
    "\n",
    "The `interactive()` function\n"
   ]
  },
  {
   "cell_type": "code",
   "execution_count": null,
   "metadata": {},
   "outputs": [],
   "source": [
    "fixed??"
   ]
  },
  {
   "cell_type": "markdown",
   "metadata": {},
   "source": [
    "Widgets:\n",
    "\n",
    "`interactive()` creates as `Widget` instance (actually an `interactive`)\n",
    "\n",
    "- IntSlider"
   ]
  },
  {
   "cell_type": "code",
   "execution_count": null,
   "metadata": {},
   "outputs": [],
   "source": [
    "%matplotlib inline"
   ]
  },
  {
   "cell_type": "code",
   "execution_count": null,
   "metadata": {},
   "outputs": [],
   "source": [
    "from ipywidgets import interact, interactive, fixed, interact_manual\n",
    "import ipywidgets as widgets\n",
    "\n",
    "def f(x):\n",
    "    return x\n",
    "\n",
    "interact(f, x=10);\n",
    "\n",
    "@interact(x=True, y=1.0)\n",
    "def g(x, y):\n",
    "    return (x, y)"
   ]
  },
  {
   "cell_type": "code",
   "execution_count": null,
   "metadata": {},
   "outputs": [],
   "source": [
    "from IPython.display import display\n",
    "\n",
    "def f(a, b):\n",
    "    display(a + b)\n",
    "    return a+b\n",
    "\n",
    "w = interactive(f, a=10, b=20)\n",
    "\n",
    "display(w)"
   ]
  },
  {
   "cell_type": "code",
   "execution_count": null,
   "metadata": {},
   "outputs": [],
   "source": [
    "import ipywidgets"
   ]
  },
  {
   "cell_type": "code",
   "execution_count": null,
   "metadata": {},
   "outputs": [],
   "source": [
    "# Aside, see that ipywidgets.widgets.interaction.interactive may be accessed in multiple ways.\n",
    "ipywidgets.widgets.interaction.interactive is ipywidgets.widgets.interactive is ipywidgets.interactive is ipywidgets.interaction.interactive"
   ]
  },
  {
   "cell_type": "code",
   "execution_count": null,
   "metadata": {},
   "outputs": [],
   "source": []
  }
 ],
 "metadata": {
  "kernelspec": {
   "display_name": "Python 3",
   "language": "python",
   "name": "python3"
  },
  "language_info": {
   "codemirror_mode": {
    "name": "ipython",
    "version": 3
   },
   "file_extension": ".py",
   "mimetype": "text/x-python",
   "name": "python",
   "nbconvert_exporter": "python",
   "pygments_lexer": "ipython3",
   "version": "3.7.2"
  }
 },
 "nbformat": 4,
 "nbformat_minor": 2
}
