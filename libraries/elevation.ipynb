{
 "cells": [
  {
   "cell_type": "markdown",
   "metadata": {},
   "source": [
    "# Elevation\n",
    "\n",
    "[Elevation](http://elevation.bopen.eu/en/stable/) [[github](https://github.com/bopen/elevation)] is an easy way to download SRTM DEM data.\n",
    "\n",
    "Alternatives: [srtm.py](https://github.com/tkrajina/srtm.py)\n"
   ]
  },
  {
   "cell_type": "markdown",
   "metadata": {},
   "source": [
    "## Elevation Tutorials\n",
    "\n",
    "[Download and Process DEMs in Python](http://geologyandpython.com/dem-processing.html)\n",
    "\n",
    "[srtm-python](https://github.com/aatishnn/srtm-python) and \n",
    "[Reading SRTM data with Python](https://librenepal.com/article/reading-srtm-data-with-python/)\n",
    "\n",
    "[hgtparser](https://github.com/gmalt/hgtparser)\n",
    "\n",
    "[Beginning Digital Elevation Model work with Python](https://stevendkay.wordpress.com/2009/09/05/beginning-digital-elevation-model-work-with-python/)"
   ]
  },
  {
   "cell_type": "markdown",
   "metadata": {},
   "source": [
    "### LP-DAAC\n",
    "\n",
    "The LP DAAC has a variety of [services](https://lpdaacsvc.cr.usgs.gov/services/), including the [tilemap service](https://lpdaacsvc.cr.usgs.gov/services/tilemap) for converting latitude and longitude to tile and pixel coordinates (line and sample) e.g. [half dome](https://lpdaacsvc.cr.usgs.gov/services/tilemap?product=SRTM&latitude=37.746036&longitude=-119.53294)."
   ]
  },
  {
   "cell_type": "code",
   "execution_count": null,
   "metadata": {},
   "outputs": [],
   "source": [
    "import elevation"
   ]
  },
  {
   "cell_type": "code",
   "execution_count": null,
   "metadata": {},
   "outputs": [],
   "source": [
    "# Explore elevation.\n",
    "elevation.CACHE_DIR\n",
    "elevation.clean()"
   ]
  },
  {
   "cell_type": "code",
   "execution_count": null,
   "metadata": {},
   "outputs": [],
   "source": [
    "elevation.clip?"
   ]
  },
  {
   "cell_type": "markdown",
   "metadata": {},
   "source": [
    "## Full Workflow (move elsewhere!)\n",
    "\n",
    "This workflow reads a UTM dataset, transforms bounds into WGS 84 and creates a Shapely polygon from it, then plots using Cartopy.\n"
   ]
  },
  {
   "cell_type": "code",
   "execution_count": null,
   "metadata": {},
   "outputs": [],
   "source": [
    "%matplotlib inline"
   ]
  },
  {
   "cell_type": "code",
   "execution_count": null,
   "metadata": {},
   "outputs": [],
   "source": [
    "import rasterio as rio\n",
    "import os.path\n",
    "\n",
    "# Open rasterio dataset.\n",
    "filename = os.path.expanduser('~/Desktop/aviris-data/popo-avoil/f130612t01p00r05_refl/f130612t01p00r05rdn_refl_img_corr')\n",
    "ds = rio.open(filename, driver='ENVI')"
   ]
  },
  {
   "cell_type": "code",
   "execution_count": null,
   "metadata": {},
   "outputs": [],
   "source": [
    "?%%script"
   ]
  },
  {
   "cell_type": "code",
   "execution_count": null,
   "metadata": {},
   "outputs": [],
   "source": [
    "from rasterio.warp import reproject, transform_bounds, calculate_default_transform\n",
    "\n",
    "# Calculate bounds in WGS 84.\n",
    "crs = rio.crs.CRS.from_epsg(4326)  # WGS 84, Rasterio's default.\n",
    "left = ds.bounds.left\n",
    "bottom = ds.bounds.bottom\n",
    "right = ds.bounds.right\n",
    "top = ds.bounds.top\n",
    "bounds = transform_bounds(ds.crs, crs, left, bottom, right, top)\n",
    "print(bounds)"
   ]
  },
  {
   "cell_type": "code",
   "execution_count": null,
   "metadata": {},
   "outputs": [],
   "source": [
    "from shapely.geometry import Polygon, box, MultiPolygon\n",
    "\n",
    "# Construct shapely Polygon using WGS 84 bounds.\n",
    "polygon = box(*bounds)  # Simply unpack order of parameters matches that returned by transform_bounds(): bottom, left, top, right."
   ]
  },
  {
   "cell_type": "code",
   "execution_count": null,
   "metadata": {},
   "outputs": [],
   "source": [
    "import cartopy.crs as ccrs\n",
    "import cartopy.feature as cfeature\n",
    "import matplotlib.pyplot as plt\n",
    "\n",
    "ax = plt.axes(projection=ccrs.PlateCarree())\n",
    "\n",
    "# Directly plot shapely geometry using add_geometries().\n",
    "ax.add_geometries([polygon], ccrs.PlateCarree(), edgecolor='red', facecolor='red')\n",
    "# multipolygon = MultiPolygon([polygon])\n",
    "# ax.add_geometries(multipolygon, ccrs.PlateCarree(), edgecolor='red', facecolor='red')\n",
    "\n",
    "# Convert to cartopy ShapelyFeature and plot using ax.add_feature().\n",
    "# shapelyfeature = cfeature.ShapelyFeature([polygon], ccrs.PlateCarree())\n",
    "# shapelyfeature = cfeature.ShapelyFeature(multipolygon, ccrs.PlateCarree())  # ccrs.Geodetic()\n",
    "# ax.add_feature(shapelyfeature, edgecolor='red', facecolor='red')  # kwargs may be set on any cartopy Feature objects, e.g. ShapelyFeature.\n",
    "\n",
    "ax.coastlines()\n",
    "ax.stock_img()\n",
    "\n",
    "padding = 1\n",
    "ax.set_extent((bounds[0]-padding, bounds[2]+padding, bounds[1]-padding, bounds[3]+padding), ccrs.Geodetic())\n",
    "plt.show()"
   ]
  },
  {
   "cell_type": "code",
   "execution_count": null,
   "metadata": {},
   "outputs": [],
   "source": [
    "# Scratch, did not use.\n",
    "\n",
    "# from matplotlib.patches import Polygon\n",
    "# polygon = Polygon([(0, 0), (1, 1), (1, 0)])\n",
    "\n",
    "# import descartes\n",
    "# from descartes.patch import PolygonPatch"
   ]
  },
  {
   "cell_type": "markdown",
   "metadata": {},
   "source": [
    "## Using REST\n",
    "\n",
    "Can get get GeoTIFF using REST from [OpenTopography for Developers](https://opentopography.org/developers) ...\n"
   ]
  },
  {
   "cell_type": "code",
   "execution_count": null,
   "metadata": {},
   "outputs": [],
   "source": []
  }
 ],
 "metadata": {
  "kernelspec": {
   "display_name": "Python [conda env:geospatial]",
   "language": "python",
   "name": "conda-env-geospatial-py"
  },
  "language_info": {
   "codemirror_mode": {
    "name": "ipython",
    "version": 3
   },
   "file_extension": ".py",
   "mimetype": "text/x-python",
   "name": "python",
   "nbconvert_exporter": "python",
   "pygments_lexer": "ipython3",
   "version": "3.7.2"
  }
 },
 "nbformat": 4,
 "nbformat_minor": 2
}
