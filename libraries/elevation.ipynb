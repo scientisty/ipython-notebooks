{
 "cells": [
  {
   "cell_type": "markdown",
   "metadata": {},
   "source": [
    "# Elevation\n",
    "\n",
    "[Elevation](http://elevation.bopen.eu/en/stable/) [[github](https://github.com/bopen/elevation)] is an easy way to download SRTM DEM data.\n",
    "\n",
    "Alternatives: [srtm.py](https://github.com/tkrajina/srtm.py)\n"
   ]
  },
  {
   "cell_type": "markdown",
   "metadata": {},
   "source": [
    "## Elevation Tutorials\n",
    "\n",
    "[Download and Process DEMs in Python](http://geologyandpython.com/dem-processing.html)\n",
    "\n",
    "[srtm-python](https://github.com/aatishnn/srtm-python) and \n",
    "[Reading SRTM data with Python](https://librenepal.com/article/reading-srtm-data-with-python/)\n",
    "\n",
    "[hgtparser](https://github.com/gmalt/hgtparser)\n",
    "\n",
    "[Beginning Digital Elevation Model work with Python](https://stevendkay.wordpress.com/2009/09/05/beginning-digital-elevation-model-work-with-python/)"
   ]
  },
  {
   "cell_type": "markdown",
   "metadata": {},
   "source": [
    "### LP-DAAC\n",
    "\n",
    "The LP DAAC has a variety of [services](https://lpdaacsvc.cr.usgs.gov/services/), including the [tilemap service](https://lpdaacsvc.cr.usgs.gov/services/tilemap) for converting latitude and longitude to tile and pixel coordinates (line and sample) e.g. [half dome](https://lpdaacsvc.cr.usgs.gov/services/tilemap?product=SRTM&latitude=37.746036&longitude=-119.53294)."
   ]
  },
  {
   "cell_type": "code",
   "execution_count": null,
   "metadata": {},
   "outputs": [],
   "source": [
    "import elevation"
   ]
  },
  {
   "cell_type": "code",
   "execution_count": null,
   "metadata": {},
   "outputs": [],
   "source": [
    "# Explore elevation.\n",
    "elevation.CACHE_DIR\n",
    "elevation.clean()"
   ]
  },
  {
   "cell_type": "code",
   "execution_count": null,
   "metadata": {},
   "outputs": [],
   "source": [
    "elevation.clip?"
   ]
  },
  {
   "cell_type": "markdown",
   "metadata": {},
   "source": [
    "## Using REST\n",
    "\n",
    "Can get get GeoTIFF using REST from [OpenTopography for Developers](https://opentopography.org/developers) ...\n"
   ]
  },
  {
   "cell_type": "code",
   "execution_count": null,
   "metadata": {},
   "outputs": [],
   "source": []
  }
 ],
 "metadata": {
  "kernelspec": {
   "display_name": "Python [conda env:geospatial]",
   "language": "python",
   "name": "conda-env-geospatial-py"
  },
  "language_info": {
   "codemirror_mode": {
    "name": "ipython",
    "version": 3
   },
   "file_extension": ".py",
   "mimetype": "text/x-python",
   "name": "python",
   "nbconvert_exporter": "python",
   "pygments_lexer": "ipython3",
   "version": "3.7.4"
  }
 },
 "nbformat": 4,
 "nbformat_minor": 4
}
