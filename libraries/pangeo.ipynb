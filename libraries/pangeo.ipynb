{
 "cells": [
  {
   "cell_type": "markdown",
   "metadata": {},
   "source": [
    "# Pangeo\n",
    "\n",
    "[Pangeo](https://pangeo.io/) is a platform for big data geoscience. A Pangeo environment contains xarray, Iris, and Dask as its core packages, plus additional related packages.\n",
    "\n",
    "The Pangeo Data github organization has some repos of interest:\n",
    "\n",
    "- https://github.com/pangeo-data/pangeo-tutorial-agu-2018\n",
    "- https://github.com/pangeo-data/pangeo-tutorial-sea-2018\n",
    "\n",
    "## Pangeo Deployments\n",
    "\n",
    "The deployment on pydata has shut down. Try the one at https://atmos.pangeo.io.\n"
   ]
  },
  {
   "cell_type": "code",
   "execution_count": null,
   "metadata": {},
   "outputs": [],
   "source": []
  }
 ],
 "metadata": {
  "kernelspec": {
   "display_name": "Python 3",
   "language": "python",
   "name": "python3"
  },
  "language_info": {
   "codemirror_mode": {
    "name": "ipython",
    "version": 3
   },
   "file_extension": ".py",
   "mimetype": "text/x-python",
   "name": "python",
   "nbconvert_exporter": "python",
   "pygments_lexer": "ipython3",
   "version": "3.7.2"
  }
 },
 "nbformat": 4,
 "nbformat_minor": 2
}
