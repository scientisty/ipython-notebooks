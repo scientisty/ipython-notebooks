{
 "cells": [
  {
   "cell_type": "markdown",
   "metadata": {
    "toc-hr-collapsed": false
   },
   "source": [
    "# xarray\n",
    "\n",
    "[xarray](https://xarray.pydata.org/en/stable/) [[github](https://github.com/pydata/xarray)] adds N-dimensional support to pandas\n",
    "\n",
    "## Helper Libraries\n",
    "\n",
    "xarray leverages other libraries for its io backends, including:\n",
    "\n",
    "- netcdf4-python\n",
    "- Pydap\n",
    "- zarr\n",
    "- cfgrib\n",
    "- PyNIO\n",
    "- scipy\n",
    "- MetPy\n",
    "- rasterio---see also [XArrayAndRasterio](https://github.com/robintw/XArrayAndRasterio) for some interop code.\n",
    "\n",
    "## Additional Libraries\n",
    "\n",
    "There are many [Xarray related projects](https://xarray.pydata.org/en/stable/related-projects.html), including:\n",
    "\n",
    "### Geosciences\n",
    "\n",
    "- MetPy\n",
    "- salem!\n",
    "- xarray-simlab\n",
    "- xarray-topo\n",
    "\n",
    "### Other\n",
    "\n",
    "- sklearn-xarray\n",
    "- psyplot!\n",
    "\n",
    "## Libraries Using xarray\n",
    "\n",
    "- [geoxarray](https://github.com/geoxarray/geoxarray)--immature\n",
    "- ...\n",
    "\n",
    "## Misc\n",
    "\n",
    "- [xarray#2042](https://github.com/pydata/xarray/issues/2042) may be worth looking at for discussion of GeoTIFF, Rasterio, etc.\n"
   ]
  },
  {
   "cell_type": "markdown",
   "metadata": {},
   "source": [
    "## xarray Tutorials\n",
    "\n",
    "- https://geohackweek.github.io/nDarrays/ covers xarray as well as dask.\n",
    "- https://github.com/jhamman/xarray_tutorial\n",
    "- https://rabernat.github.io/research_computing/xarray.html covers xarray, previous lectures cover pandas and numpy.\n",
    "- https://unidata.github.io/MetPy/latest/tutorials/xarray_tutorial.html\n"
   ]
  },
  {
   "cell_type": "markdown",
   "metadata": {},
   "source": [
    "## Imports"
   ]
  },
  {
   "cell_type": "code",
   "execution_count": null,
   "metadata": {},
   "outputs": [],
   "source": [
    "%matplotlib inline"
   ]
  },
  {
   "cell_type": "code",
   "execution_count": null,
   "metadata": {},
   "outputs": [],
   "source": [
    "import numpy as np\n",
    "import pandas as pd\n",
    "import xarray as xr"
   ]
  },
  {
   "cell_type": "markdown",
   "metadata": {},
   "source": [
    "## xarray Overview\n"
   ]
  },
  {
   "cell_type": "markdown",
   "metadata": {},
   "source": [
    "## xarray Data Structures\n",
    "\n",
    "[Data Structures](https://xarray.pydata.org/en/stable/data-structures.html)\n",
    "\n",
    "- `DataArray`\n",
    "\n",
    "    > xarray.DataArray is xarray’s implementation of a labeled, multi-dimensional array.\n",
    "\n",
    "- `Dataset`\n",
    "\n",
    "    > `xarray.Dataset` is xarray’s multi-dimensional equivalent of a `DataFrame`. It is a dict-like container of labeled arrays (`DataArray` objects) with aligned dimensions. It is designed as an in-memory representation of the data model from the **netCDF** file format.\n",
    "\n",
    "- `Coordinates`\n",
    "\n",
    "- `Variable`\n",
    "\n",
    "    - ref [Variable objects | xarray Internals](https://xarray.pydata.org/en/stable/internals.html#variable-objects)\n",
    "    \n",
    "The [API reference](https://xarray.pydata.org/en/stable/api.html) is a concise overview of functions, classes, methods, etc! It's nice since it also categorizes methods by function and points out which are from ndarray.\n"
   ]
  },
  {
   "cell_type": "markdown",
   "metadata": {},
   "source": [
    "### DataArray\n",
    "\n",
    "[`xarray.DataArray`](http://xarray.pydata.org/en/stable/generated/xarray.DataArray.html) [[source](https://github.com/pydata/xarray/blob/master/xarray/core/dataarray.py)]\n",
    "\n",
    "\n",
    "`DataArray` objects have four key properties:\n",
    "\n",
    "- `values`---The array’s data as a numpy.ndarray\n",
    "- `dims`\n",
    "- `coords`\n",
    "- `attrs`---may be arbitrary\n",
    "\n",
    "Other `DataArray` attributes include:\n",
    "\n",
    "- `name` (optional)\n",
    "- `data`---The array’s data as a dask or numpy array. Vs values? not used in docs!\n",
    "- `dt`\n",
    "- `dtype`\n",
    "\n",
    "Additional attributes:\n",
    "\n",
    "- `indexes`---relates to Pandas index for dimensions, see also `get_index()`\n",
    "\n",
    "Note that the attributes `name`, `values`, `data`, `dt`, `variable` exist only on `DataArray` (not `Dataset`).\n",
    "\n",
    "Likewise the ndarray attributes `ndim`, `shape`, `size`, `dtype` exist only on `DataArray`, though `nbytes` and `chunks` are also properties on `Dataset`.\n",
    "\n",
    "`DataArray` methods include:\n",
    "\n",
    "- `assign_coords()`\n",
    "- `assign_attrs()`\n",
    "\n",
    "...\n",
    "\n",
    "- `rename()`---easy renaming of coordinates or array name (or variables and dimensions if used with Dataset?) clarify!?\n"
   ]
  },
  {
   "cell_type": "markdown",
   "metadata": {},
   "source": [
    "what are?\n",
    "\n",
    ".count()\n",
    "\n",
    ".isel()"
   ]
  },
  {
   "cell_type": "code",
   "execution_count": null,
   "metadata": {},
   "outputs": [],
   "source": [
    "def print_dataarray(data):\n",
    "    \"\"\"Print properties of DataArray.\"\"\"\n",
    "    \n",
    "    print 'dims', data.dims\n",
    "    print 'coords', data.coords\n",
    "    print 'attrs', data.attrs\n",
    "    print 'name', data.name\n",
    "    #print 'values', data.values"
   ]
  },
  {
   "cell_type": "markdown",
   "metadata": {},
   "source": [
    "The `attrs` property is a dictionary that can be used to store arbitrary attributes.\n"
   ]
  },
  {
   "cell_type": "markdown",
   "metadata": {},
   "source": [
    "[Working with Multidimensional Coordinates](https://xarray.pydata.org/en/stable/examples/multidimensional-coords.html)\n"
   ]
  },
  {
   "cell_type": "markdown",
   "metadata": {},
   "source": [
    "### Dataset\n",
    "\n",
    "[`xarray.Dataset`](http://xarray.pydata.org/en/stable/generated/xarray.Dataset.html) [[source](https://github.com/pydata/xarray/blob/master/xarray/core/dataset.py)]\n",
    "\n",
    "`Dataset` objects have four key properties:\n",
    "\n",
    "- `dims`\n",
    "- `data_vars`---Dictionary of DataArray objects corresponding to data variables\n",
    "- `coords`---Dictionary of xarray.DataArray objects corresponding to coordinate variables\n",
    "- `attrs`---\n",
    "\n",
    "Other `Dataset` attributes include:\n",
    "\n",
    "- ...\n",
    "\n",
    "Note that the attributes `data_vars`, and `variables` exist only in `Dataset` (not in `DataArray`).\n",
    "\n",
    "`Dataset` methods include:\n",
    "\n",
    "- `info()`---unique to Dataset\n",
    "- `assign()`---unique to Dataset\n",
    "\n",
    "#### Notes\n",
    "\n",
    "> Use dictionary indexing to pull out Dataset variables as DataArray objects.\n",
    "\n",
    "> ...you can use attribute style access for reading (but not setting) variables and attributes\n",
    "\n",
    "> Individual coordinates can be accessed from the coordinates (`coords`) by name, or even by indexing the data array itself...Coordinates can also be set or removed by using the dictionary like syntax.\n",
    "\n",
    "The line between coordinates and variables is a little blurry. It seems like you can pull out coordinates, variables, and attributes using attribute style access.\n"
   ]
  },
  {
   "cell_type": "markdown",
   "metadata": {},
   "source": [
    "### Coordinates\n"
   ]
  },
  {
   "cell_type": "markdown",
   "metadata": {},
   "source": [
    "### Variable\n",
    "\n",
    "[`xarray.Variable`](https://xarray.pydata.org/en/stable/generated/xarray.Variable.html)\n",
    "\n",
    "[`xarray.IndexVariable`](https://xarray.pydata.org/en/stable/generated/xarray.IndexVariable.html)---used for coordinate variables, perhaps in a roundabout way, inherits from `Variable`\n",
    "\n",
    "Defined in [`variable.py`](https://github.com/pydata/xarray/blob/master/xarray/core/variable.py)\n",
    "\n",
    "TODO review the way DataArrayCoordinates and DatasetCoordinates (defined in [`coordinates.py`](https://github.com/pydata/xarray/blob/master/xarray/core/coordinates.py)) are used by DataArray and Dataset.\n",
    "\n"
   ]
  },
  {
   "cell_type": "markdown",
   "metadata": {},
   "source": [
    "---\n",
    "\n",
    "## Topics"
   ]
  },
  {
   "cell_type": "markdown",
   "metadata": {},
   "source": [
    "### Indexing\n",
    "\n",
    "*automatic indexing*\n",
    "\n",
    "Note https://github.com/pydata/xarray/issues/2028\n",
    "\n",
    "`where()` is also useful\n"
   ]
  },
  {
   "cell_type": "markdown",
   "metadata": {},
   "source": [
    "### Masking\n",
    "\n",
    "https://geohackweek.github.io/nDarrays/09-masking/\n"
   ]
  },
  {
   "cell_type": "markdown",
   "metadata": {},
   "source": [
    "## Plot with xarray\n",
    "\n",
    "[Plotting](https://xarray.pydata.org/en/stable/plotting.html)\n",
    "\n",
    "The xarray plotting functions provide a thin wrapper around matplotlib.\n",
    "\n",
    "`da.plot()` is convenience method\n",
    "\n",
    "`da.plot.line()`, etc. methods accessible from the plot attribute\n",
    "\n",
    "xarray.plot.plot(), xarray.plot.line(), etc. callable directly from xarray plot submodule\n",
    "\n",
    "Most plotting functions require 1 or 2 dimensions, but `xr.imshow()` allows a third dimension as RGB or RGBA (specify in `rgb` argument).\n",
    "\n",
    "What's with `infer_intervals` parameter in `pcolormesh()`? It relates to "
   ]
  },
  {
   "cell_type": "markdown",
   "metadata": {},
   "source": [
    "The [Parsing rasterio’s geocoordinates](https://xarray.pydata.org/en/stable/auto_gallery/plot_rasterio.html) example creates lat and lon coordinates from an existing crs.\n"
   ]
  },
  {
   "cell_type": "markdown",
   "metadata": {},
   "source": [
    "## IO\n",
    "\n",
    "xarray can work with a variety of file formats both local and networked.\n",
    "\n",
    "[Reading and writing files](https://xarray.pydata.org/en/stable/io.html)\n",
    "\n",
    "[`open_dataset()`](https://xarray.pydata.org/en/stable/generated/xarray.open_dataset.html) and [`open_dataarray()`](https://xarray.pydata.org/en/stable/generated/xarray.open_dataarray.html) can open network files, incl netCDF and OpenDAP.\n",
    "\n",
    "[`open_mfdataset()`](https://xarray.pydata.org/en/stable/generated/xarray.open_mfdataset.html)\n",
    "\n",
    "`decode_cf=False` or `decode_times=False`. See [CF Metadata Conventions](http://cfconventions.org/).\n",
    "\n",
    "The `engine` parameter may be used to specify `pynio`, `cfgrip`, `pseudonetcdf`, or `pydap` (why pydap?)."
   ]
  },
  {
   "cell_type": "markdown",
   "metadata": {},
   "source": [
    "### MetPy\n",
    "\n",
    "Simply importing metpy will activate accesors on xarray objects which adhere to CF conventions.\n",
    "\n",
    "- x\n",
    "- y\n",
    "- vertical\n",
    "- time\n",
    "\n",
    "The\n",
    "\n",
    "Additional attributes:\n",
    "\n",
    "- `cartopy_crs`---get cartopy crs\n",
    "\n",
    "`parse_cf()` may be necessary?\n",
    "\n",
    "Reference:\n",
    "\n",
    "- [Weather and climate data](https://xarray.pydata.org/en/stable/weather-climate.html)\n",
    "- [xarray with MetPy Tutorial | MetPy](https://unidata.github.io/MetPy/latest/tutorials/xarray_tutorial.html)\n",
    "\n",
    "MetPy/xarray interoperability is implemented in [metpy/xarray.py](https://github.com/Unidata/MetPy/blob/master/metpy/xarray.py)."
   ]
  },
  {
   "cell_type": "markdown",
   "metadata": {},
   "source": [
    "## Topics"
   ]
  },
  {
   "cell_type": "markdown",
   "metadata": {},
   "source": [
    "### Coordinates\n",
    "\n",
    "Working with coordinates.\n",
    "\n",
    "- `reset_coords()`\n",
    "- `set_coords()` (Dataset only)\n",
    "\n",
    "`assign_coords()`\n",
    "\n",
    "`squeeze()`? `drop()`?\n",
    "\n",
    "`drop_dims()` (Dataset only)\n",
    "\n",
    "Be warned of shallow copies like from .rename(), since I observed that removing a coordinate using del affected the original! Is this a bug?\n"
   ]
  },
  {
   "cell_type": "markdown",
   "metadata": {},
   "source": [
    "### Variables\n",
    "\n",
    "`update()` is made more for combining Datasets, vs `assign()` which lets you use nice mapping shorthand (i.e. assignment to unquoted name).\n",
    "\n",
    "`drop()`"
   ]
  },
  {
   "cell_type": "markdown",
   "metadata": {},
   "source": [
    "### Attributes\n",
    "\n",
    "`assign_attrs()`..."
   ]
  },
  {
   "cell_type": "markdown",
   "metadata": {},
   "source": [
    "## Scratch\n"
   ]
  },
  {
   "cell_type": "code",
   "execution_count": null,
   "metadata": {},
   "outputs": [],
   "source": [
    "import netcdf4"
   ]
  },
  {
   "cell_type": "code",
   "execution_count": null,
   "metadata": {},
   "outputs": [],
   "source": [
    "xr.open_dataset('/Users/smathews/Downloads/N11W009.hgt')"
   ]
  },
  {
   "cell_type": "code",
   "execution_count": null,
   "metadata": {},
   "outputs": [],
   "source": []
  }
 ],
 "metadata": {
  "kernelspec": {
   "display_name": "Python [conda env:pyviz]",
   "language": "python",
   "name": "conda-env-pyviz-py"
  },
  "language_info": {
   "codemirror_mode": {
    "name": "ipython",
    "version": 3
   },
   "file_extension": ".py",
   "mimetype": "text/x-python",
   "name": "python",
   "nbconvert_exporter": "python",
   "pygments_lexer": "ipython3",
   "version": "3.6.8"
  }
 },
 "nbformat": 4,
 "nbformat_minor": 2
}
