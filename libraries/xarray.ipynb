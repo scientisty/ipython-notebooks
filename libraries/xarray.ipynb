{
 "cells": [
  {
   "cell_type": "markdown",
   "metadata": {},
   "source": [
    "# xarray\n",
    "\n",
    "[xarray](https://xarray.pydata.org/en/stable/) [[github](https://github.com/pydata/xarray)] adds N-dimensional support to pandas\n",
    "\n",
    "there is some integration with rasterio\n",
    "\n",
    "? are data in memory?\n"
   ]
  },
  {
   "cell_type": "markdown",
   "metadata": {},
   "source": [
    "## xarray Tutorials\n",
    "\n",
    "- https://geohackweek.github.io/nDarrays/ covers xarray as well as dask.\n",
    "- https://github.com/jhamman/xarray_tutorial\n",
    "- https://rabernat.github.io/research_computing/xarray.html covers xarray, previous lectures cover pandas and numpy.\n"
   ]
  },
  {
   "cell_type": "markdown",
   "metadata": {},
   "source": [
    "## Imports"
   ]
  },
  {
   "cell_type": "code",
   "execution_count": null,
   "metadata": {},
   "outputs": [],
   "source": [
    "%matplotlib inline"
   ]
  },
  {
   "cell_type": "code",
   "execution_count": null,
   "metadata": {},
   "outputs": [],
   "source": [
    "import numpy as np\n",
    "import pandas as pd\n",
    "import xarray as xr"
   ]
  },
  {
   "cell_type": "markdown",
   "metadata": {},
   "source": [
    "## xarray Overview\n"
   ]
  },
  {
   "cell_type": "markdown",
   "metadata": {},
   "source": [
    "## xarray Data Structures\n",
    "\n",
    "[Data Structures](http://xarray.pydata.org/en/stable/data-structures.html)\n",
    "\n",
    "- `DataArray`\n",
    "\n",
    "    > xarray.DataArray is xarray’s implementation of a labeled, multi-dimensional array.\n",
    "\n",
    "- `Dataset`\n",
    "\n",
    "    > `xarray.Dataset` is xarray’s multi-dimensional equivalent of a `DataFrame`. It is a dict-like container of labeled arrays (`DataArray` objects) with aligned dimensions. It is designed as an in-memory representation of the data model from the **netCDF** file format.\n",
    "\n",
    "- `Coordinates`\n",
    "\n",
    "- `Variable`\n",
    "\n",
    "    - ref [Variable objects | xarray Internals](http://xarray.pydata.org/en/stable/internals.html#variable-objects)\n",
    "    \n",
    "The [API reference](https://xarray.pydata.org/en/stable/api.html) is a concise overview of functions, classes, methods, etc! It's nice since it also categorizes methods by function and points out which are from ndarray.\n"
   ]
  },
  {
   "cell_type": "markdown",
   "metadata": {},
   "source": [
    "## DataArray\n",
    "\n",
    "[`xarray.DataArray`](http://xarray.pydata.org/en/stable/generated/xarray.DataArray.html)\n",
    "\n",
    "`DataArray` properties:\n",
    "\n",
    "- values\n",
    "- dims\n",
    "- coords\n",
    "- attrs\n",
    "- name (optional)"
   ]
  },
  {
   "cell_type": "markdown",
   "metadata": {},
   "source": [
    "what are?\n",
    "\n",
    ".count()\n",
    "\n",
    ".isel()"
   ]
  },
  {
   "cell_type": "code",
   "execution_count": null,
   "metadata": {},
   "outputs": [],
   "source": [
    "def print_dataarray(data):\n",
    "    \"\"\"Print properties of DataArray.\"\"\"\n",
    "    \n",
    "    print 'dims', data.dims\n",
    "    print 'coords', data.coords\n",
    "    print 'attrs', data.attrs\n",
    "    print 'name', data.name\n",
    "    #print 'values', data.values"
   ]
  },
  {
   "cell_type": "markdown",
   "metadata": {},
   "source": [
    "The `attrs` property is a dictionary that can be used to store aritrary attributes.\n"
   ]
  },
  {
   "cell_type": "markdown",
   "metadata": {},
   "source": [
    "[Working with Multidimensional Coordinates](http://xarray.pydata.org/en/stable/examples/multidimensional-coords.html)\n"
   ]
  },
  {
   "cell_type": "markdown",
   "metadata": {},
   "source": [
    "## Dataset\n",
    "\n",
    "[`xarray.Dataset`](http://xarray.pydata.org/en/stable/generated/xarray.Dataset.html)\n"
   ]
  },
  {
   "cell_type": "markdown",
   "metadata": {},
   "source": [
    "## Coordinates\n"
   ]
  },
  {
   "cell_type": "markdown",
   "metadata": {},
   "source": [
    "## Variable\n"
   ]
  },
  {
   "cell_type": "markdown",
   "metadata": {},
   "source": [
    "## plotting with xarray\n",
    "\n",
    "[Plotting](https://xarray.pydata.org/en/stable/plotting.html)\n",
    "\n",
    "The xarray plotting functions provide a thin wrapper around matplotlib.\n",
    "\n",
    "`da.plot()` is convenience method\n",
    "\n",
    "`da.plot.line()`, etc. methods accessible from the plot attribute\n",
    "\n",
    "xarray.plot.plot(), xarray.plot.line(), etc. callable directly from xarray plot submodule\n",
    "\n",
    "Most plotting functions require 1 or 2 dimensions, but `xr.imshow()` allows a third dimension as RGB or RGBA (specify in `rgb` argument).\n",
    "\n",
    "What's with `infer_intervals` parameter in `pcolormesh()`? It relates to "
   ]
  },
  {
   "cell_type": "markdown",
   "metadata": {},
   "source": [
    "The [Parsing rasterio’s geocoordinates](https://xarray.pydata.org/en/stable/auto_gallery/plot_rasterio.html) example creates lat and lon coordinates from an existing crs.\n"
   ]
  },
  {
   "cell_type": "code",
   "execution_count": null,
   "metadata": {},
   "outputs": [],
   "source": []
  }
 ],
 "metadata": {
  "kernelspec": {
   "display_name": "Python [conda env:pyviz]",
   "language": "python",
   "name": "conda-env-pyviz-py"
  },
  "language_info": {
   "codemirror_mode": {
    "name": "ipython",
    "version": 3
   },
   "file_extension": ".py",
   "mimetype": "text/x-python",
   "name": "python",
   "nbconvert_exporter": "python",
   "pygments_lexer": "ipython3",
   "version": "3.6.8"
  }
 },
 "nbformat": 4,
 "nbformat_minor": 2
}
