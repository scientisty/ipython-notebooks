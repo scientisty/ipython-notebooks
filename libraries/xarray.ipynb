{
 "cells": [
  {
   "cell_type": "markdown",
   "metadata": {},
   "source": [
    "# xarray\n",
    "\n",
    "[xarray](https://xarray.pydata.org/en/stable/) [[github](https://github.com/pydata/xarray)] adds n-dimensional support to pandas\n",
    "\n",
    "there is some integration with rasterio\n",
    "\n",
    "? are data in memory?"
   ]
  },
  {
   "cell_type": "markdown",
   "metadata": {},
   "source": [
    "## xarray Tutorials\n",
    "\n",
    "- https://geohackweek.github.io/nDarrays/ covers xarray as well as dask.\n",
    "- https://github.com/jhamman/xarray_tutorial\n",
    "- https://rabernat.github.io/research_computing/xarray.html covers xarray, previous lectures cover pandas and numpy.\n"
   ]
  },
  {
   "cell_type": "markdown",
   "metadata": {},
   "source": [
    "## Imports"
   ]
  },
  {
   "cell_type": "code",
   "execution_count": null,
   "metadata": {},
   "outputs": [],
   "source": [
    "%matplotlib inline"
   ]
  },
  {
   "cell_type": "code",
   "execution_count": null,
   "metadata": {},
   "outputs": [],
   "source": [
    "import numpy as np\n",
    "import pandas as pd\n",
    "import xarray as xr"
   ]
  },
  {
   "cell_type": "markdown",
   "metadata": {},
   "source": [
    "xarray data structures:\n",
    "\n",
    "- DataArray\n",
    "\n",
    "    > xarray.DataArray is xarray’s implementation of a labeled, multi-dimensional array.\n",
    "\n",
    "- Dataset ~ DataFrame, is\n",
    "\n",
    "    > xarray.Dataset is xarray’s multi-dimensional equivalent of a DataFrame. It is a dict-like container of labeled arrays (DataArray objects) with aligned dimensions. It is designed as an in-memory representation of the data model from the netCDF file format.\n",
    "\n",
    "## DataArray\n",
    "\n",
    "DataArray properties:\n",
    "\n",
    "- values\n",
    "- dims\n",
    "- coords\n",
    "- attrs\n",
    "- name (optional)"
   ]
  },
  {
   "cell_type": "markdown",
   "metadata": {},
   "source": [
    "what are?\n",
    "\n",
    ".count()\n",
    "\n",
    ".isel()"
   ]
  },
  {
   "cell_type": "code",
   "execution_count": null,
   "metadata": {},
   "outputs": [],
   "source": [
    "def print_dataarray(data):\n",
    "    \"\"\"Print properties of DataArray.\"\"\"\n",
    "    \n",
    "    print 'dims', data.dims\n",
    "    print 'coords', data.coords\n",
    "    print 'attrs', data.attrs\n",
    "    print 'name', data.name\n",
    "    #print 'values', data.values"
   ]
  },
  {
   "cell_type": "markdown",
   "metadata": {},
   "source": [
    "## plotting with xarray\n",
    "\n",
    "thin wrapper around matplotlib\n",
    "\n",
    "dataarray.plot() is convenience method\n",
    "\n",
    "dataarray.plot.line(), etc. methods accessible from da plot attribute\n",
    "\n",
    "xarray.plot.plot(), xarray.plot.line(), etc. callable directly from xarray plot submodule"
   ]
  },
  {
   "cell_type": "code",
   "execution_count": null,
   "metadata": {},
   "outputs": [],
   "source": []
  }
 ],
 "metadata": {
  "kernelspec": {
   "display_name": "Python [conda env:pyviz]",
   "language": "python",
   "name": "conda-env-pyviz-py"
  },
  "language_info": {
   "codemirror_mode": {
    "name": "ipython",
    "version": 3
   },
   "file_extension": ".py",
   "mimetype": "text/x-python",
   "name": "python",
   "nbconvert_exporter": "python",
   "pygments_lexer": "ipython3",
   "version": "3.6.8"
  }
 },
 "nbformat": 4,
 "nbformat_minor": 2
}
