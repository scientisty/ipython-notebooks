{
 "cells": [
  {
   "cell_type": "markdown",
   "metadata": {},
   "source": [
    "# Dask\n",
    "\n",
    "[Dask](https://dask.org/) [[github](https://github.com/dask/dask)]\n",
    "\n",
    "Dask was developed by [Matthew Rocklin](https://matthewrocklin.com/) and his web site contains many good resources about it.\n",
    "\n",
    "- [dask/dask-tutorial](https://github.com/dask/dask-tutorial)\n",
    "- [Dask Examples](https://examples.dask.org/) [[github](https://github.com/dask/dask-examples)]\n",
    "\n",
    "See also:\n",
    "\n",
    "- [Dask-ML](https://ml.dask.org/) [[github](https://github.com/dask/dask-ml)]\n",
    "- [Dask.distributed](https://distributed.dask.org/) [[github](https://github.com/dask/distributed)]\n",
    "- [Dask-Jobqueue](https://jobqueue.dask.org/) [[github](https://github.com/dask/dask-jobqueue)]\n",
    "\n",
    "How do distributed and Jobqueue work with ML?\n",
    "\n",
    "And:\n",
    "- [dask-labextension](https://github.com/dask/dask-labextension)---useful tool to manage Dask clusters and use dashdboard in JupyterLab\n",
    "\n",
    "And:\n",
    "- [dask-image](https://dask-image.readthedocs.io/)\n"
   ]
  },
  {
   "cell_type": "markdown",
   "metadata": {},
   "source": [
    "## Other Projects using Dask\n",
    "\n",
    "- SatPy is using xarray and Dask. See [Migrating to xarray and dask](https://satpy.readthedocs.io/en/latest/dev_guide/xarray_migration.html).\n",
    "- Iris uses Dask as of version 2.0.0. See [Real and Lazy Data](https://scitools.org.uk/iris/docs/v2.0/userguide/real_and_lazy_data.html)."
   ]
  },
  {
   "cell_type": "markdown",
   "metadata": {},
   "source": [
    "## Dask Tutorials\n",
    "\n",
    "- [Performing out-of-core computations on large arrays with Dask](https://ipython-books.github.io/511-performing-out-of-core-computations-on-large-arrays-with-dask/) from IPython Cookbook.\n",
    "- https://rabernat.github.io/research_computing/dask-for-parallel-computing-and-big-data.html gives and overview of dask plus integration with xarray.\n"
   ]
  },
  {
   "cell_type": "markdown",
   "metadata": {},
   "source": [
    "## Dask Usage Tips\n",
    "\n",
    "- Use `display()` in an ipython frontend to display a rich representation of of Dask objects.\n"
   ]
  },
  {
   "cell_type": "code",
   "execution_count": null,
   "metadata": {},
   "outputs": [],
   "source": [
    "import dask.array as da"
   ]
  },
  {
   "cell_type": "markdown",
   "metadata": {},
   "source": [
    "### Futures\n",
    "\n",
    "https://docs.dask.org/en/latest/futures.html\n",
    "\n",
    "https://youtu.be/4gLaEbchZW0\n"
   ]
  },
  {
   "cell_type": "markdown",
   "metadata": {},
   "source": [
    "## Dask.distributed"
   ]
  },
  {
   "cell_type": "markdown",
   "metadata": {},
   "source": [
    "## Dask-Jobqueue\n",
    "\n",
    "How does this compare to Dask.distributed?"
   ]
  },
  {
   "cell_type": "code",
   "execution_count": null,
   "metadata": {},
   "outputs": [],
   "source": []
  }
 ],
 "metadata": {
  "kernelspec": {
   "display_name": "Python [conda env:holoviz]",
   "language": "python",
   "name": "conda-env-holoviz-py"
  },
  "language_info": {
   "codemirror_mode": {
    "name": "ipython",
    "version": 3
   },
   "file_extension": ".py",
   "mimetype": "text/x-python",
   "name": "python",
   "nbconvert_exporter": "python",
   "pygments_lexer": "ipython3",
   "version": "3.7.4"
  }
 },
 "nbformat": 4,
 "nbformat_minor": 4
}
