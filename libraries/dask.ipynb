{
 "cells": [
  {
   "cell_type": "markdown",
   "metadata": {},
   "source": [
    "# Dask\n",
    "\n",
    "[Dask](https://dask.org/) [[github](https://github.com/dask/dask)]\n",
    "\n",
    "- [dask/dask-tutorial](https://github.com/dask/dask-tutorial)\n",
    "- [dask/dask-examples](https://github.com/dask/dask-examples)\n",
    "\n",
    "See also:\n",
    "\n",
    "- [dask-ml](https://github.com/dask/dask-ml)\n"
   ]
  },
  {
   "cell_type": "markdown",
   "metadata": {},
   "source": [
    "## Dask Tutorials\n",
    "\n",
    "- [Performing out-of-core computations on large arrays with Dask](https://ipython-books.github.io/511-performing-out-of-core-computations-on-large-arrays-with-dask/) from IPython Cookbook.\n",
    "- https://rabernat.github.io/research_computing/dask-for-parallel-computing-and-big-data.html gives and overview of dask plus integration with xarray.\n"
   ]
  },
  {
   "cell_type": "code",
   "execution_count": null,
   "metadata": {},
   "outputs": [],
   "source": [
    "import dask.array as da"
   ]
  },
  {
   "cell_type": "code",
   "execution_count": null,
   "metadata": {},
   "outputs": [],
   "source": []
  }
 ],
 "metadata": {
  "kernelspec": {
   "display_name": "Python [conda env:pyviz]",
   "language": "python",
   "name": "conda-env-pyviz-py"
  },
  "language_info": {
   "codemirror_mode": {
    "name": "ipython",
    "version": 3
   },
   "file_extension": ".py",
   "mimetype": "text/x-python",
   "name": "python",
   "nbconvert_exporter": "python",
   "pygments_lexer": "ipython3",
   "version": "3.6.8"
  }
 },
 "nbformat": 4,
 "nbformat_minor": 2
}
