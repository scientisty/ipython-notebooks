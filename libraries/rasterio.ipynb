{
 "cells": [
  {
   "cell_type": "markdown",
   "metadata": {},
   "source": [
    "# Rasterio\n",
    "\n",
    "- [Rasterio](https://rasterio.readthedocs.io/en/latest/) [[github](https://github.com/mapbox/rasterio)] (and older set of docs https://mapbox.github.io/rasterio/ which was removed). Note, for some reason rtd redirects to the \"stable\" version, but github links to \"latest\" which should be preferred!\n",
    "- https://rasterio.groups.io/g/main support forum\n",
    "- https://sgillies.net/tags/rasterio.html is good for current news!\n",
    "- The [Affine](https://github.com/sgillies/affine) library is used for transformations in Rasterio.\n",
    "- https://github.com/mapbox/rasterio-cookbook (out of date!)\n",
    "\n",
    "\n",
    "- rasterio depends on GDAL\n",
    "- there is a command line interface `rio`, which is described in [Command Line User Guide](https://rasterio.readthedocs.io/en/latest/cli.html)\n",
    "\n",
    "See also shapely and fiona, maybe also cartopy, pyproj, pysal, etc. [GeoRaster](https://georaster.readthedocs.io/en/latest/) [[github](https://github.com/atedstone/georaster)] looks interesting.\n",
    "\n",
    "todo: read up on this good ref https://chris35wills.github.io/courses/pydata_stack/\n",
    "\n",
    "## Questions\n",
    "\n",
    "? verify crs and coord <-> pixel conversion functions and aviris\n"
   ]
  },
  {
   "cell_type": "markdown",
   "metadata": {},
   "source": [
    "## Rasterio Tutorials\n",
    "\n",
    "- https://automating-gis-processes.github.io/CSC18/lessons/L6/overview.html, esp. https://automating-gis-processes.github.io/CSC18/lessons/L6/reading-raster.html\n"
   ]
  },
  {
   "cell_type": "markdown",
   "metadata": {},
   "source": [
    "## Importing Rasterio"
   ]
  },
  {
   "cell_type": "code",
   "execution_count": null,
   "metadata": {},
   "outputs": [],
   "source": [
    "%matplotlib inline"
   ]
  },
  {
   "cell_type": "code",
   "execution_count": null,
   "metadata": {},
   "outputs": [],
   "source": [
    "import rasterio"
   ]
  },
  {
   "cell_type": "code",
   "execution_count": null,
   "metadata": {},
   "outputs": [],
   "source": [
    "# Uncomment to examine rasterio package.\n",
    "# dir(rasterio)\n",
    "# help(rasterio)"
   ]
  },
  {
   "cell_type": "markdown",
   "metadata": {},
   "source": [
    "## Rasterio Versions\n",
    "\n",
    "The 1.0 release was announced in the [Rasterio 1.0.0](https://sgillies.net/2018/07/13/rasterio-1-0-0.html) blog post.\n",
    "\n",
    "[Migrating to Rasterio 1.0](https://rasterio.readthedocs.io/en/latest/topics/migrating-to-v1.html) outlines the changes.\n",
    "\n",
    "See [CHANGES.txt](https://github.com/mapbox/rasterio/blob/master/CHANGES.txt) for changelog.\n",
    "\n",
    "- ...\n",
    "- `ul()` replaces the `xy()` method, note `xy` defaults to center of pixel while `ul` defaults to upper left of pixel.\n",
    "- `read()` replaces `read_band()`\n",
    "- `read_masks()` replaces `read_mask()`\n",
    "\n",
    "Note: `ul(row, col)` was replaced by `xy(row, col)` in 1.0+, \n",
    "\n",
    "### Transform Backstory\n",
    "\n",
    "Rasterio v0.36 used GDAL geotransform arrays in their native form, but v1.0 moved toward `affine.Affine` instances.\n",
    "During the change a transitional `affine` attribute was added for the new `Affine` approach and `transform` was deprecated, but by v1.0 `transform` changed to new affine and `affine` was removed.\n",
    "\n",
    "See [affine.Affine() vs. GDAL-style geotransforms](https://rasterio.readthedocs.io/en/latest/topics/migrating-to-v1.html#affine-affine-vs-gdal-style-geotransforms) (from Migrating to Rasterio 1.0) and the links therein for more on the transform vs. affine drama, as well as  [rasterio#86](https://github.com/mapbox/rasterio/issues/86).\n"
   ]
  },
  {
   "cell_type": "markdown",
   "metadata": {},
   "source": [
    " ## Understanding the Rasterio Codebase\n",
    " \n",
    " Affine?\n",
    " \n",
    " Rasterio is confusing.\n",
    " \n",
    " The basic `rasterio` module is in [`__init__.py`](https://github.com/mapbox/rasterio/blob/master/rasterio/__init__.py)\n",
    "\n",
    "The [rasterio._base module](https://rasterio.readthedocs.io/en/latest/api/rasterio._base.html) (defined in [`_base.pyx`](https://github.com/mapbox/rasterio/blob/master/rasterio/_base.pyx)) defines numpy-free base classes, including `DatasetBase`. Some methods include `get_crs()`, `get_transform()`, as well as `read_crs()` and `read_transform()` but they are just called by the corresponding `_get_*` methods to set the values of `_crs` and `_transform` if they are not already set. Note \"`get_crs`, `set_crs`, `set_nodatavals`, `set_descriptions`, `set_units`, and `set_gcps` are deprecated and will be removed in version 1.0. They have been replaced by fully settable dataset properties crs, nodatavals, descriptions, units, and gcps.\", so this section needs to be updated! Also see if/how crs and transform are different than their `read_` methods. And what's up with `get_transform` it's still around.\n",
    "\n",
    "TODO, it seems that transform attribute is set in `_io.pyx`, but it's not clear where transform is set? Note some set with `@property / def property_name:` and some using `property property_name:`.\n",
    "\n",
    "So `wkt` seems to be a different representation of the CRS, \n",
    "\n",
    "__i think some need to be imported individually!__ e.g. `rasterio.plot`\n",
    "and the underscore versions are some compiled thing\n",
    "\n",
    "What's up with gcps and the warp module, and why do DatasetReader have a gcps attribute?\n",
    "\n",
    "https://rasterio.readthedocs.io/en/latest/api/ lists modules and submodules but not all are available\n",
    " \n",
    "- `compat`\n",
    "- `coords`\n",
    "- crs `_crs`\n",
    "- drivers `_drivers` \n",
    "- `dtypes`\n",
    "- `enums`\n",
    "- `env`\n",
    "- `errors`\n",
    "- features `_features`\n",
    "- fill `_fill`\n",
    "- io `_io`?\n",
    "- mask ?\n",
    "- merge ?\n",
    "- plot ?\n",
    "- `profiles`\n",
    "- sample ?\n",
    "- `transform`\n",
    "- `vfs`\n",
    "- vrt ?\n",
    "- warp `_warp`\n",
    "- `windows`\n",
    " \n",
    "`rasterio.io` is kind of available as `rasterio._io` but not certain\n"
   ]
  },
  {
   "cell_type": "markdown",
   "metadata": {
    "toc-hr-collapsed": false
   },
   "source": [
    "## Rasterio Objects\n",
    "\n",
    "The [rasterio.io module](https://rasterio.readthedocs.io/en/latest/api/rasterio.io.html) defines Rasterio's high level Dataset Objects:\n",
    "\n",
    "- `DatasetReader`\n",
    "- `DatasetWriter`\n",
    "- `BufferedDatasetWriter`---only writes to disk or network when `close()` is called.\n",
    "- `MemoryFile`\n",
    "\n",
    "In addition to inheriting from their Cython Base classes `DatasetReader`/`DatasetWriter`/`BufferedDatasetWriter` also inherit from `WindowMethodsMixin` and `TransformMethodsMixin` (provides `index()` and `xy()` methods).\n",
    "\n",
    "Other Objects:\n",
    "\n",
    "- `Band`\n",
    "- `Window`\n",
    "- `CRS`\n",
    "- `Affine`\n",
    "- ...\n"
   ]
  },
  {
   "cell_type": "code",
   "execution_count": null,
   "metadata": {},
   "outputs": [],
   "source": [
    "# The rasterio.io module defines 5 Dataset classes.\n",
    "# Here we investigate the relationship between Dataset classes, including Cython parent classes.\n",
    "\n",
    "# DatasetReader\n",
    "assert issubclass(rasterio.io.DatasetReader, rasterio._io.DatasetReaderBase)\n",
    "assert issubclass(rasterio._io.DatasetReaderBase, rasterio._base.DatasetBase)  # DatasetBase is a subclass of builtins.object.\n",
    "\n",
    "# DatasetWriter\n",
    "assert issubclass(rasterio.io.DatasetWriter, rasterio._io.DatasetWriterBase)\n",
    "assert issubclass(rasterio._io.DatasetWriterBase, rasterio._io.DatasetReaderBase)\n",
    "\n",
    "# BufferedDatasetWriter\n",
    "assert issubclass(rasterio.io.BufferedDatasetWriter, rasterio._io.BufferedDatasetWriterBase)\n",
    "assert issubclass(rasterio._io.BufferedDatasetWriterBase, rasterio._io.DatasetWriterBase)\n",
    "\n",
    "# MemoryFile\n",
    "assert issubclass(rasterio.io.MemoryFile, rasterio._io.MemoryFileBase)  # MemoryFileBase is a subclass of builtins.object.\n",
    "\n",
    "# ZipMemoryFile\n",
    "assert issubclass(rasterio.io.ZipMemoryFile, rasterio.io.MemoryFile)"
   ]
  },
  {
   "cell_type": "code",
   "execution_count": null,
   "metadata": {},
   "outputs": [],
   "source": [
    "# Get base classes.\n",
    "rasterio.io.DatasetReader.__bases__"
   ]
  },
  {
   "cell_type": "markdown",
   "metadata": {},
   "source": [
    "`DatasetReaderBase`, `DatasetWriterBase`, `BufferedDatasetWriterBase`, and `MemoryFileBase` are imported from `rasterio._io` into [`rasterio.io`](https://github.com/mapbox/rasterio/blob/master/rasterio/io.py), where `DatasetReader`, `DatasetWriter`, `MemoryFile`, and `BufferedDatasetReader` are defined.\n",
    "\n",
    "`DatasetReader` and `MemoryFile` are imported into the library's global symbol table.\n"
   ]
  },
  {
   "cell_type": "code",
   "execution_count": null,
   "metadata": {},
   "outputs": [],
   "source": [
    "# \n",
    "assert rasterio.DatasetReader is rasterio.io.DatasetReader\n",
    "assert rasterio.MemoryFile is rasterio.io.MemoryFile\n",
    "\n",
    "# Cython parent classes are imported alongside Python classes.\n",
    "assert rasterio._io.DatasetReaderBase is rasterio.io.DatasetReaderBase\n",
    "assert rasterio._io.DatasetWriterBase is rasterio.io.DatasetWriterBase"
   ]
  },
  {
   "cell_type": "markdown",
   "metadata": {},
   "source": [
    "Compare attributes of Rasterio classes. `DatasetWriter` contains all `DatasetReader` attributes and then some. `BufferedDatasetWriter` contains the exact same attributes as `DatasetWriter`. `MemoryFile` contains a few attributes that `DatasetReader/Writer` do not."
   ]
  },
  {
   "cell_type": "code",
   "execution_count": null,
   "metadata": {},
   "outputs": [],
   "source": [
    "reader_attributes = set(dir(rasterio.io.DatasetReader))\n",
    "writer_attributes = set(dir(rasterio.io.DatasetWriter))\n",
    "bufferedwriter_attributes = set(dir(rasterio.io.BufferedDatasetWriter))\n",
    "memoryfile_attributes = set(dir(rasterio.io.MemoryFile))\n",
    "\n",
    "print(writer_attributes - reader_attributes)\n",
    "\n",
    "# print(writer_attributes ^ bufferedwriter_attributes)\n",
    "\n",
    "# print(memoryfile_attributes - reader_attributes)\n",
    "# print(reader_attributes - memoryfile_attributes)\n",
    "# print(reader_attributes & memoryfile_attributes)\n",
    "\n",
    "print(memoryfile_attributes - writer_attributes)\n",
    "# print(writer_attributes - memoryfile_attributes)\n",
    "# print(writer_attributes & memoryfile_attributes)"
   ]
  },
  {
   "cell_type": "code",
   "execution_count": null,
   "metadata": {},
   "outputs": [],
   "source": [
    "rasterio.io.DatasetReader.xy?"
   ]
  },
  {
   "cell_type": "markdown",
   "metadata": {},
   "source": [
    "### DatasetReader\n",
    "\n",
    "Let's focus on reading raster data, and ignore the idea of writing it for the time being.\n",
    "\n",
    "Dataset is read into a [`DatasetReader`](https://rasterio.readthedocs.io/en/latest/api/rasterio.io.html#rasterio.io.DatasetReader) object (older versions of Rasterio may create a `RasterReader` [ref [rasterio#1221](https://github.com/mapbox/rasterio/issues/1221)]).\n",
    "\n",
    "There is some GDAL object beneath?\n",
    "\n",
    "[`rasterio._base.DatasetBase`](https://rasterio.readthedocs.io/en/latest/api/rasterio._base.html#rasterio._base.DatasetBase) > [`rasterio._io.DatasetReaderBase`](https://rasterio.readthedocs.io/en/latest/api/rasterio._io.html#rasterio._io.DatasetReaderBase) > [`rasterio.io.DatasetReader`](https://rasterio.readthedocs.io/en/latest/api/rasterio.io.html#rasterio.io.DatasetReader)\n",
    "\n",
    "#### DatasetReader Properties\n",
    "\n",
    "note that some/all are generic dataset attributes also shared by DatasetWriter\n",
    "\n",
    "- `name`---!\n",
    "- `files`!\n",
    "- `mode`---\n",
    "- `closed`---\n",
    "\n",
    "- `count`---the number of raster bands in the dataset\n",
    "- `width`---\n",
    "- `height`---\n",
    "- `bounds`---derived from `transform`\n",
    "- `transform`---affine transformation matrix\n",
    "- `crs`---\n",
    "- `meta`\n",
    "- `profile`!---see [rasterio#406](https://github.com/mapbox/rasterio/pull/406)\n",
    "- `descriptions`---descriptions for each dataset band, probably set manually.\n",
    "- `units`---units string for each dataset band, see [pint](https://pint.readthedocs.io/) for suggestions, probably set manually.\n",
    "\n",
    "- `indexes`\n",
    "- `dtypes`\n",
    "\n",
    "- `res`---\n",
    "\n"
   ]
  },
  {
   "cell_type": "markdown",
   "metadata": {},
   "source": [
    "### MemoryFile\n",
    "\n",
    "[`MemoryFile`](https://rasterio.readthedocs.io/en/latest/api/rasterio.io.html#rasterio.io.MemoryFile)\n",
    "\n",
    "see also MemoryFile? for in-memory? see [In-Memory Files](https://rasterio.readthedocs.io/en/stable/topics/memory-files.html) but these seem to be related to network files or GDAL somethingorother!\n",
    "\n",
    "See also [`ZipMemoryFile`](https://rasterio.readthedocs.io/en/latest/api/rasterio.io.html#rasterio.io.ZipMemoryFile), a subclass of `MemoryFile`.\n",
    "\n",
    "Use by creating an instance using `MemoryFile` constructor then return a dataset object with `open()`.\n",
    "\n",
    "MemoryFile has `open()`, `read()`, `seek()`, `tell()`, etc.\n"
   ]
  },
  {
   "cell_type": "markdown",
   "metadata": {},
   "source": [
    "## Open a Raster File\n",
    "\n",
    "- [`rasterio.open()`](https://rasterio.readthedocs.io/en/latest/api/rasterio.html#rasterio.open) (defined in [`__init__.py`](https://github.com/mapbox/rasterio/blob/master/rasterio/__init__.py)) returns a [**`DatasetReader`**](https://rasterio.readthedocs.io/en/latest/api/rasterio.io.html#rasterio.io.DatasetReader) or [`DatasetWriter`](https://rasterio.readthedocs.io/en/latest/api/rasterio.io.html#rasterio.io.DatasetWriter).\n",
    "- `rasterio.band()` (defined in [`__init__.py`](https://github.com/mapbox/rasterio/blob/master/rasterio/__init__.py)) allows you to wrap a dataset and and one or more of its bands up into a `rasterio.Band`, which is really just a named tuple with 4 fields:\n",
    "\n",
    "        Band = namedtuple('Band', ['ds', 'bidx', 'dtype', 'shape'])\n",
    "\n",
    "It's not clear what you can do with a Band object!?\n",
    "\n",
    "definitions and inheritance:\n",
    "\n",
    "- `DatasetReader`, `DatasetWriter`, `MemoryFile`, `BufferedDatasetWriter` are part of the [rasterio.io module](https://rasterio.readthedocs.io/en/latest/api/rasterio.io.html) (defined in [`io.py`](https://github.com/mapbox/rasterio/blob/master/rasterio/io.py), but nothing is really defined until [`_io.pyx`](https://github.com/mapbox/rasterio/blob/master/rasterio/_io.pyx))).\n",
    "- `DataSetReader` inherits from `rasterio._io.DatasetReaderBase`, `rasterio.windows.WindowMethodsMixin`, `rasterio.transform.TransformMethodsMixin`.\n",
    "- The [rasterio._io module](https://rasterio.readthedocs.io/en/latest/api/rasterio._io.html) (defined in [`_io.pyx`](https://github.com/mapbox/rasterio/blob/master/rasterio/_io.pyx)) defines `DatasetReaderBase`, `DatasetWriterBase`, `MemoryFileBase`, `InMemoryRaster`, and some writer classes, also includes `read()`.\n",
    "- `DatasetBase` is defined in [`_base.pyx`](https://github.com/mapbox/rasterio/blob/master/rasterio/_base.pyx). See [rasterio._base module](https://rasterio.readthedocs.io/en/latest/api/rasterio._base.html).\n",
    "\n",
    "Note with BufferedDatasetWriter data is not written until `close()` is called. What is its use with other.\n",
    "\n",
    "what the hell is the *band cache*?\n",
    "\n",
    "open in update mode? r+, w ?\n",
    "\n",
    "[Accessing datasets located in buffers using MemoryFile and ZipMemoryFile (rasterio#977)](https://github.com/mapbox/rasterio/issues/977) is a nice review of ways to open files.\n",
    "\n",
    "[Advanced Datasets](https://rasterio.readthedocs.io/en/latest/topics/datasets.html) describes how to open files from the web, zip, etc.! Note that some GDAL drivers can open zip files.\n",
    "\n",
    "`open_rasterio()` TODO source `transform = Affine.from_gdal(*da.attrs['transform'])` I think is wrong! File issue!\n"
   ]
  },
  {
   "cell_type": "code",
   "execution_count": null,
   "metadata": {},
   "outputs": [],
   "source": [
    "rasterio.band?"
   ]
  },
  {
   "cell_type": "markdown",
   "metadata": {},
   "source": [
    "## Read Data into Memory\n",
    "\n",
    "[Reading Datasets](https://rasterio.readthedocs.io/en/latest/topics/reading.html)\n",
    "\n",
    "Use [`dataset.read()`](https://rasterio.readthedocs.io/en/latest/api/rasterio.io.html#rasterio.io.DatasetReader.read) (defined on `DatasetReaderBase` in [`_io.pyx`](https://github.com/mapbox/rasterio/blob/master/rasterio/_io.pyx)) to read pixels into a numpy array. Without args it will read the entire dataset, or else specify which band or list of bands to read.\n",
    "\n",
    "*Rasterio band order* for arrays is: `(bands, rows, columns)`. Use `rasterio.plot.reshape_as_image()` to convert axis order to `(rows, columns, bands)`, and `rasterio.plot.reshape_as_raster()` to convert back. These conversion functions are defined in [`plot.py`](https://github.com/mapbox/rasterio/blob/master/rasterio/plot.py), and use `np.ma.transpose()` and `np.transpose()`, respectively. They likely just create a view and don't copy the data, verify using `strides`.\n",
    "\n",
    "See [Interoperability](https://rasterio.readthedocs.io/en/latest/topics/image_processing.html).\n"
   ]
  },
  {
   "cell_type": "markdown",
   "metadata": {},
   "source": [
    "### windows and blocks\n",
    "\n",
    "The `read()` method may be used to obtain a view on to a rectangular subset of the dataset, referred to as a *window*. The window may be specified usings offsets, or better with a `Window` object. The [rasterio.windows module](https://rasterio.readthedocs.io/en/latest/api/rasterio.windows.html) (defined in [`window.py`](https://github.com/mapbox/rasterio/blob/master/rasterio/windows.py)) defines the [`Window`](https://rasterio.readthedocs.io/en/latest/api/rasterio.windows.html#rasterio.windows.Window) class and related utility functions.\n",
    "\n",
    "See [Windowed reading and writing](https://rasterio.readthedocs.io/en/latest/topics/windowed-rw.html) for a good overview of windows and blocks.\n",
    "\n",
    "Dataset attributes of interest when dealing with blocks are:\n",
    "\n",
    "- [`block_shapes`](https://rasterio.readthedocs.io/en/latest/api/rasterio.io.html#rasterio.io.DatasetReader.block_shapes)\n",
    "- [`block_size()`](https://rasterio.readthedocs.io/en/latest/api/rasterio.io.html#rasterio.io.DatasetReader.block_size)\n",
    "- [`block_window()`](https://rasterio.readthedocs.io/en/latest/api/rasterio.io.html#rasterio.io.DatasetReader.block_window)\n",
    "- [`block_windows()`](https://rasterio.readthedocs.io/en/latest/api/rasterio.io.html#rasterio.io.DatasetReader.block_windows)\n",
    "\n",
    "Blocks and Windows are also discussed in [Concurrent processing](https://rasterio.readthedocs.io/en/latest/topics/concurrency.html).\n",
    "\n",
    "The issue [pangeo-data/pangeo#183](https://github.com/pangeo-data/pangeo/issues/183) touches on how windows and blocks in Rasterio relate to chunks in dask and xarray.\n"
   ]
  },
  {
   "cell_type": "markdown",
   "metadata": {},
   "source": [
    "## Spatial Indexing\n",
    "\n",
    "`xy()`\n"
   ]
  },
  {
   "cell_type": "code",
   "execution_count": null,
   "metadata": {},
   "outputs": [],
   "source": [
    "# This is boilerplate for spatial indexing, how to use index() to convert from meters relative to CRS origin to raster pixel.\n",
    "\n",
    "m_east = 0\n",
    "m_south = 0\n",
    "x, y = (dataset.bounds.left + m_east, dataset.bounds.top - m_south)\n",
    "row, col = dataset.index(x, y)\n",
    "print(row, col)\n",
    "\n",
    "band1 = dataset.read(1)\n",
    "# e.g. get pixel value at corresponding pixel\n",
    "print(band1[row, col])"
   ]
  },
  {
   "cell_type": "markdown",
   "metadata": {},
   "source": [
    "## bounding box\n",
    "\n",
    "even if the transform has a rotation, what does that mean for bounds?"
   ]
  },
  {
   "cell_type": "markdown",
   "metadata": {},
   "source": [
    "## masks and nodata\n",
    "\n",
    "[Nodata Masks](https://rasterio.readthedocs.io/en/latest/topics/masks.html)\n",
    "\n",
    "- `nodata`---typically returns the first item in `nodatavals` array\n",
    "- `nodatavals`?\n",
    "- `read_masks`?\n",
    "- `write_masks`?\n",
    "- `dataset_masks()`?\n",
    "\n",
    "\n",
    "When `masked=True` the `read()` method will return a masked array.\n",
    "\n",
    "The [rasterio.mask module](https://rasterio.readthedocs.io/en/latest/api/rasterio.mask.html) may be useful for creating masks from vector geometries."
   ]
  },
  {
   "cell_type": "markdown",
   "metadata": {},
   "source": [
    "## Plotting with Rasterio\n",
    "\n",
    "- [Plotting](https://rasterio.readthedocs.io/en/latest/topics/plotting.html)\n",
    "- [rasterio.plot module](https://rasterio.readthedocs.io/en/latest/api/rasterio.plot.html) (source [`plot.py`](https://github.com/mapbox/rasterio/blob/master/rasterio/plot.py))\n",
    "\n",
    "`rasterio.plot.show(source, with_bounds=True, contour=False, contour_label_kws=None, ax=None, title=None, transform=None, adjust='linear', **kwargs)`\n",
    "is a wrapper for pyplot, I believe imshow but check?\n",
    "\n",
    "? what about with_bounds?\n",
    "\n",
    "source can be a Band or tuple (dataset, bdx), or array, or dataset (opened in `r` mode!) in which case the first band is displayed unless `colorinterp` metadata is set - how?\n",
    "\n",
    "TODO it's really unclear how to plot three bands from a multispectral image! seems possible if you create a band object\n",
    "\n",
    "The rasterio.plot module defines\n",
    "\n",
    "- `show()`\n",
    "- `show_hist()`\n",
    "- ``\n",
    "- `reshape_as_image()`\n",
    "- `reshape_as_raster()`\n",
    "\n",
    "Note that Rasterio object do not define their own plotting methods."
   ]
  },
  {
   "cell_type": "markdown",
   "metadata": {},
   "source": [
    "## Rasterio Modules\n",
    "\n",
    "It seems that many rasterio submodules must be imported individually, i.e. `import rasterio` does not make them available.\n"
   ]
  },
  {
   "cell_type": "markdown",
   "metadata": {},
   "source": [
    "### rasterio.merge module\n",
    "\n",
    "The [rasterio.merge module](https://rasterio.readthedocs.io/en/latest/api/rasterio.merge.html) defines the `rasterio.merge.merge()` function.\n",
    "\n",
    "Mosaics files using reverse painters algorithm. All must have same number of bands, data type, and crs. If `bounds` are not specified they are determined from the bounds of the input rasters. If `res` is not specified it is taken from first input raster.\n",
    "\n",
    "https://automating-gis-processes.github.io/CSC/notebooks/L5/raster-mosaic.html\n",
    "\n",
    "https://automating-gis-processes.github.io/CSC18/lessons/L6/raster-mosaic.html\n"
   ]
  },
  {
   "cell_type": "code",
   "execution_count": null,
   "metadata": {},
   "outputs": [],
   "source": [
    "# Must be imported to use.\n",
    "import rasterio.merge\n",
    "# help(rasterio.merge)"
   ]
  },
  {
   "cell_type": "markdown",
   "metadata": {},
   "source": [
    "### rasterio.warp module\n",
    "\n",
    "[rasterio.warp module](https://rasterio.readthedocs.io/en/latest/api/rasterio.warp.html)\n",
    "\n",
    "[Reprojection](https://rasterio.readthedocs.io/en/latest/topics/reproject.html)\n",
    "\n",
    "Even the docs are a little vague about what this stuff actually does, but it seems useful!\n",
    "\n",
    "- `rasterio.warp.reproject()`\n",
    "- `rasterio.warp.transform()`\n",
    "- `rasterio.warp.transform_bounds()`\n",
    "- `rasterio.warp.calculate_default_transform()`\n"
   ]
  },
  {
   "cell_type": "code",
   "execution_count": null,
   "metadata": {},
   "outputs": [],
   "source": [
    "# Must be imported to use.\n",
    "import rasterio.warp\n",
    "# help(rasterio.warp)"
   ]
  },
  {
   "cell_type": "markdown",
   "metadata": {},
   "source": [
    "### rasterio.vrt module\n",
    "\n",
    "[rasterio.vrt module](https://rasterio.readthedocs.io/en/latest/api/rasterio.vrt.html)\n",
    "\n",
    "[Virtual Warping](https://rasterio.readthedocs.io/en/latest/topics/virtual-warping.html)\n",
    "\n",
    "Seems to be imported automatically, but where?\n"
   ]
  },
  {
   "cell_type": "code",
   "execution_count": null,
   "metadata": {},
   "outputs": [],
   "source": [
    "rasterio.vrt?"
   ]
  },
  {
   "cell_type": "markdown",
   "metadata": {},
   "source": [
    "### rasterio.features module\n",
    "\n",
    "[rasterio.features module](https://rasterio.readthedocs.io/en/latest/api/rasterio.features.html)\n",
    "\n",
    "The [Vector Features](https://rasterio.readthedocs.io/en/latest/topics/features.html) Topic discusses the use of:\n",
    "\n",
    "- shapes()\n",
    "- rasterize()\n",
    "\n",
    "additional functions in the features module:\n",
    "\n",
    "- `bounds()`\n",
    "- `dataset_features()`\n",
    "- `geometry_mask()`\n",
    "- `geometry_window()`\n",
    "- `is_valid_geom()`\n",
    "- `sieve()`\n"
   ]
  },
  {
   "cell_type": "code",
   "execution_count": null,
   "metadata": {},
   "outputs": [],
   "source": [
    "import pprint\n",
    "import rasterio\n",
    "from rasterio import features\n",
    "\n",
    "with rasterio.open('../13547682814_f2e459f7a5_o.png') as src:\n",
    "    blue = src.read(3)\n",
    "\n",
    "mask = blue != 255\n",
    "shapes = features.shapes(blue, mask=mask)\n",
    "# pprint.pprint(next(shapes))"
   ]
  },
  {
   "cell_type": "code",
   "execution_count": null,
   "metadata": {},
   "outputs": [],
   "source": [
    "with rasterio.open('../13547682814_f2e459f7a5_o.png') as src:\n",
    "    image = features.rasterize(\n",
    "            ((g, 255) for g, v in shapes),\n",
    "            out_shape=src.shape)"
   ]
  },
  {
   "cell_type": "markdown",
   "metadata": {},
   "source": [
    "### rasterio.crs module\n",
    "\n",
    "The [rasterio.crs module](https://rasterio.readthedocs.io/en/latest/api/rasterio.crs.html) only defines the `rasterio.crs.CRS` class. It is used in dataset objects objects and can also be used for various CRS manipulations.\n",
    "\n",
    "The `rasterio.crs` submodule is imported automatically (how is this done?).\n",
    "\n",
    "Note that `from_epsg()`, `from_dict()`, `from_string()`, and `from_wkt()` are called as static methods (techincally here they are class methods).\n"
   ]
  },
  {
   "cell_type": "code",
   "execution_count": null,
   "metadata": {},
   "outputs": [],
   "source": [
    "dir(rasterio.crs)"
   ]
  },
  {
   "cell_type": "markdown",
   "metadata": {},
   "source": [
    "### rasterio.transform module\n",
    "\n",
    "The [rasterio.transform module](https://rasterio.readthedocs.io/en/latest/api/rasterio.transform.html) defines the `index()` and `xy()` methods of dataset classes via `TransformMethodsMixin` mixin class. It also defines a handfull of other functions but they are not obviously useful and may just be utility functions to support the mixin.\n",
    "\n",
    "uses [Affine](https://github.com/sgillies/affine).\n",
    "\n",
    "Note the `transform` property is type `affine.Affine` and has properties for accessing:\n",
    "\n",
    "    a b c\n",
    "    d e f\n",
    "    g h i\n"
   ]
  },
  {
   "cell_type": "markdown",
   "metadata": {},
   "source": [
    "### rasterio.path module\n",
    "\n",
    "It's not clear what this is really about. It's probably just an internal utility module.\n"
   ]
  },
  {
   "cell_type": "code",
   "execution_count": null,
   "metadata": {},
   "outputs": [],
   "source": [
    "parsed_path = rasterio.path.parse_path('https://opendap.cr.usgs.gov/opendap/hyrax/SRTMGL1.003/netcdf/N37E120.SRTMGL1.nc')"
   ]
  },
  {
   "cell_type": "code",
   "execution_count": null,
   "metadata": {},
   "outputs": [],
   "source": [
    "parsed_path.is_remote\n",
    "parsed_path.name\n",
    "parsed_path.from_uri?"
   ]
  },
  {
   "cell_type": "markdown",
   "metadata": {},
   "source": [
    "## Rasterio Topics"
   ]
  },
  {
   "cell_type": "markdown",
   "metadata": {},
   "source": [
    "### Overviews\n",
    "\n",
    "[Overviews](https://rasterio.readthedocs.io/en/latest/topics/overviews.html)\n",
    "\n",
    "[Resampling](https://rasterio.readthedocs.io/en/latest/topics/resampling.html) may also be useful.\n",
    "\n",
    "Overviews are discussed in [Working with Raster Datasets](https://geohackweek.github.io/raster/04-workingwithrasters/), and much of the same content is repeated in [Read Cloud Optimized Geotiffs](https://automating-gis-processes.github.io/CSC/notebooks/L5/read-cogs.html).\n",
    "\n",
    "https://www.gdal.org/gdaladdo.html\n",
    "\n",
    "https://gis.stackexchange.com/q/206509\n"
   ]
  },
  {
   "cell_type": "markdown",
   "metadata": {},
   "source": [
    "### Tags\n",
    "\n",
    "[Tagging datasets and bands](https://rasterio.readthedocs.io/en/latest/topics/tags.html)\n",
    "\n",
    "Tags in rasterio include *metadata* in GDAL's data model. They are organized in *namespaces*, which reflect how GDAL metadata is split into *domains*.\n",
    "\n",
    "`tags()`\n"
   ]
  },
  {
   "cell_type": "markdown",
   "metadata": {},
   "source": [
    "---"
   ]
  },
  {
   "cell_type": "markdown",
   "metadata": {},
   "source": [
    "## Scratch Mosaic\n",
    "\n",
    "Describe how to mosaic files using `rasterio.merge.merge()`.\n",
    "\n",
    "[Creating a raster mosaic | CSC](https://automating-gis-processes.github.io/CSC/notebooks/L5/raster-mosaic.html)\n",
    "\n",
    "[Creating a raster mosaic | CSC18](https://automating-gis-processes.github.io/CSC18/lessons/L6/raster-mosaic.html)\n"
   ]
  },
  {
   "cell_type": "code",
   "execution_count": null,
   "metadata": {},
   "outputs": [],
   "source": [
    "tif = rasterio.open('srtm/n37_w120_1arc_v3.tif')\n",
    "tif.meta"
   ]
  },
  {
   "cell_type": "code",
   "execution_count": null,
   "metadata": {},
   "outputs": [],
   "source": [
    "tif.bounds"
   ]
  },
  {
   "cell_type": "code",
   "execution_count": null,
   "metadata": {},
   "outputs": [],
   "source": [
    "hgt = rasterio.open('srtm/N37W120.SRTMGL1.hgt.zip')\n",
    "hgt.meta"
   ]
  },
  {
   "cell_type": "code",
   "execution_count": null,
   "metadata": {},
   "outputs": [],
   "source": [
    "# hgt = rasterio.open('zip+https://e4ftl01.cr.usgs.gov/MEASURES/SRTMGL1.003/2000.02.11/N37W120.SRTMGL1.hgt.zip')"
   ]
  },
  {
   "cell_type": "code",
   "execution_count": null,
   "metadata": {},
   "outputs": [],
   "source": [
    "from glob import glob\n",
    "\n",
    "dem_fps = glob('srtm/*.tif')\n",
    "src_files_to_mosaic = [rasterio.open(f) for f in dem_fps]"
   ]
  },
  {
   "cell_type": "code",
   "execution_count": null,
   "metadata": {},
   "outputs": [],
   "source": [
    "src_files_to_mosaic"
   ]
  },
  {
   "cell_type": "code",
   "execution_count": null,
   "metadata": {},
   "outputs": [],
   "source": [
    "from rasterio.merge import merge\n",
    "mosaic, out_trans = merge(src_files_to_mosaic)"
   ]
  },
  {
   "cell_type": "code",
   "execution_count": null,
   "metadata": {},
   "outputs": [],
   "source": [
    "from rasterio.plot import show\n",
    "show(mosaic, cmap='terrain', transform=out_trans, vmin=0, interpolation='none')\n",
    "mosaic.min(), mosaic.max()"
   ]
  },
  {
   "cell_type": "code",
   "execution_count": null,
   "metadata": {},
   "outputs": [],
   "source": [
    "m = mosaic.copy()\n",
    "# m[m==-32767].shape\n",
    "\n",
    "m[m>0] = 0\n",
    "m[m<0] = 32767\n",
    "\n",
    "show(m, cmap='Reds', transform=out_trans, interpolation='none')\n",
    "m.min(), m.max()"
   ]
  },
  {
   "cell_type": "code",
   "execution_count": null,
   "metadata": {},
   "outputs": [],
   "source": [
    "m.shape"
   ]
  },
  {
   "cell_type": "code",
   "execution_count": null,
   "metadata": {},
   "outputs": [],
   "source": [
    "hgt.width, hgt.height"
   ]
  },
  {
   "cell_type": "code",
   "execution_count": null,
   "metadata": {},
   "outputs": [],
   "source": [
    "from rasterio.plot import show_hist\n",
    "show_hist(\n",
    "    m, bins=50, lw=0.0, stacked=False, alpha=0.3,\n",
    "    histtype='stepfilled', title=\"Histogram\")"
   ]
  },
  {
   "cell_type": "markdown",
   "metadata": {},
   "source": [
    "## Scratch Landsat"
   ]
  },
  {
   "cell_type": "code",
   "execution_count": null,
   "metadata": {},
   "outputs": [],
   "source": [
    "filepath = 'https://storage.googleapis.com/gcp-public-data-landsat/LC08/01/042/034/LC08_L1TP_042034_20190318_20190325_01_T1/LC08_L1TP_042034_20190318_20190325_01_T1_B4.TIF'\n",
    "src = rasterio.open(filepath)\n",
    "\n",
    "# This might be a \n",
    "with rasterio.open(filepath) as src:\n",
    "    print(src.profile)"
   ]
  },
  {
   "cell_type": "code",
   "execution_count": null,
   "metadata": {},
   "outputs": [],
   "source": [
    "src"
   ]
  },
  {
   "cell_type": "code",
   "execution_count": null,
   "metadata": {},
   "outputs": [],
   "source": [
    "import rasterio.plot"
   ]
  },
  {
   "cell_type": "code",
   "execution_count": null,
   "metadata": {},
   "outputs": [],
   "source": [
    "rasterio.plot.show(src)"
   ]
  },
  {
   "cell_type": "code",
   "execution_count": null,
   "metadata": {},
   "outputs": [],
   "source": [
    "print(src.files)"
   ]
  },
  {
   "cell_type": "code",
   "execution_count": null,
   "metadata": {},
   "outputs": [],
   "source": [
    "src.profile"
   ]
  },
  {
   "cell_type": "code",
   "execution_count": null,
   "metadata": {},
   "outputs": [],
   "source": [
    "src.overviews(1)"
   ]
  },
  {
   "cell_type": "code",
   "execution_count": null,
   "metadata": {},
   "outputs": [],
   "source": [
    "import matplotlib.pyplot as plt\n",
    "\n",
    "fp = 'http://landsat-pds.s3.amazonaws.com/c1/L8/042/034/LC08_L1TP_042034_20170616_20170629_01_T1/LC08_L1TP_042034_20170616_20170629_01_T1_B4.TIF'\n",
    "fp = 'http://landsat-pds.s3.amazonaws.com/c1/L8/042/034/LC08_L1TP_042034_20190318_20190325_01_T1/LC08_L1TP_042034_20190318_20190325_01_T1_B4.TIF'\n",
    "\n",
    "# with rasterio.open(fp) as src:\n",
    "#     # List of overviews from biggest to smallest\n",
    "#     oviews = src.overviews(1)\n",
    "\n",
    "#     # Retrieve the smallest thumbnail\n",
    "#     oview = oviews[-1]\n",
    "#     print('Decimation factor= {}'.format(oview))\n",
    "#     # NOTE this is using a 'decimated read' (http://rasterio.readthedocs.io/en/latest/topics/resampling.html)\n",
    "#     thumbnail = src.read(1, out_shape=(1, int(src.height // oview), int(src.width // oview)))\n",
    "\n",
    "src =  rasterio.open(fp)\n",
    "# List of overviews from biggest to smallest\n",
    "oviews = src.overviews(1)\n",
    "\n",
    "# Retrieve the smallest thumbnail\n",
    "oview = oviews[-1]\n",
    "print('Decimation factor= {}'.format(oview))\n",
    "# NOTE this is using a 'decimated read' (http://rasterio.readthedocs.io/en/latest/topics/resampling.html)\n",
    "thumbnail = src.read(1, out_shape=(1, int(src.height // oview), int(src.width // oview)))\n",
    "\n",
    "print('array type: ',type(thumbnail))\n",
    "print(thumbnail)\n",
    "\n",
    "plt.imshow(thumbnail)\n",
    "plt.colorbar()\n",
    "plt.title('Overview - Band 4 {}'.format(thumbnail.shape))\n",
    "plt.xlabel('Column #')\n",
    "plt.ylabel('Row #')"
   ]
  },
  {
   "cell_type": "code",
   "execution_count": null,
   "metadata": {},
   "outputs": [],
   "source": [
    "src.overviews(1)"
   ]
  },
  {
   "cell_type": "code",
   "execution_count": null,
   "metadata": {},
   "outputs": [],
   "source": [
    "src.profile"
   ]
  },
  {
   "cell_type": "code",
   "execution_count": null,
   "metadata": {},
   "outputs": [],
   "source": []
  }
 ],
 "metadata": {
  "kernelspec": {
   "display_name": "Python [conda env:geospatial]",
   "language": "python",
   "name": "conda-env-geospatial-py"
  },
  "language_info": {
   "codemirror_mode": {
    "name": "ipython",
    "version": 3
   },
   "file_extension": ".py",
   "mimetype": "text/x-python",
   "name": "python",
   "nbconvert_exporter": "python",
   "pygments_lexer": "ipython3",
   "version": "3.7.2"
  }
 },
 "nbformat": 4,
 "nbformat_minor": 2
}
