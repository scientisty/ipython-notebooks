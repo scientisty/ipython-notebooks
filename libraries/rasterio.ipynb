{
 "cells": [
  {
   "cell_type": "markdown",
   "metadata": {},
   "source": [
    "# Rasterio"
   ]
  },
  {
   "cell_type": "markdown",
   "metadata": {},
   "source": [
    "? verify crs and coord <-> pixel conversion functions and aviris\n",
    "\n",
    "- rasterio depends on GDAL\n",
    "- there is a command line interface `rio`\n",
    "\n",
    "- [Rasterio](https://rasterio.readthedocs.io/en/latest/) (and older set of docs https://mapbox.github.io/rasterio/ which was removed). Note, for some reason rtd redirects to the \"stable\" version, but github links to \"latest\" which should be preferred!\n",
    "- https://rasterio.groups.io/g/main support forum\n",
    "- https://github.com/mapbox/rasterio\n",
    "- https://github.com/mapbox/rasterio-cookbook\n",
    "- https://sgillies.net/tags/rasterio.html is good for current news!\n",
    "- https://github.com/sgillies/affine\n",
    "\n",
    "see also shapely and fiona, maybe also cartopy, pyproj, pysal, etc.\n",
    "\n",
    "[GeoRaster](https://georaster.readthedocs.io/en/latest/) [[github](https://github.com/atedstone/georaster)] looks interesting\n",
    "\n",
    "todo: read up on this good ref https://chris35wills.github.io/courses/pydata_stack/\n"
   ]
  },
  {
   "cell_type": "markdown",
   "metadata": {},
   "source": [
    "## Rasterio Tutorials\n",
    "\n",
    "- https://automating-gis-processes.github.io/CSC18/lessons/L6/overview.html, esp. https://automating-gis-processes.github.io/CSC18/lessons/L6/reading-raster.html\n",
    "- [Accessing datasets located in buffers using MemoryFile and ZipMemoryFile (rasterio#977)](https://github.com/mapbox/rasterio/issues/977) is a nice review of ways to open files."
   ]
  },
  {
   "cell_type": "markdown",
   "metadata": {},
   "source": [
    "## Rasterio Versions\n",
    "\n",
    "The 1.0 release was announced in the [Rasterio 1.0.0](https://sgillies.net/2018/07/13/rasterio-1-0-0.html) blog post.\n",
    "\n",
    "[Migrating to Rasterio 1.0](https://rasterio.readthedocs.io/en/latest/topics/migrating-to-v1.html) outlines the changes.\n",
    "\n",
    "See [CHANGES.txt](https://github.com/mapbox/rasterio/blob/master/CHANGES.txt) for changelog.\n",
    "\n",
    "- ...\n",
    "- `ul()` replaces the `xy()` method, note `xy` defaults to center of pixel while `ul` defaults to upper left of pixel.\n",
    "- `read()` replaces `read_band()`\n",
    "- `read_masks()` replaces `read_mask()`\n",
    "\n",
    "Note: `ul(row, col)` was replaced by `xy(row, col)` in 1.0+, \n",
    "\n",
    "### Transform Backstory\n",
    "\n",
    "Rasterio v0.36 used GDAL geotransform arrays in their native form, but v1.0 moved toward `affine.Affine` instances.\n",
    "During the change a transitional `affine` attribute was added for the new `Affine` approach and `transform` was deprecated, but by v1.0 `transform` changed to new affine and `affine` was removed.\n",
    "\n",
    "See [affine.Affine() vs. GDAL-style geotransforms](https://rasterio.readthedocs.io/en/latest/topics/migrating-to-v1.html#affine-affine-vs-gdal-style-geotransforms) (from Migrating to Rasterio 1.0) and the links therein for more on the transform vs. affine drama, as well as  [mapbox/rasterio#86](https://github.com/mapbox/rasterio/issues/86).\n"
   ]
  },
  {
   "cell_type": "markdown",
   "metadata": {
    "toc-hr-collapsed": false
   },
   "source": [
    "## Rasterio Objects\n",
    "\n",
    "- `DatasetReader`\n",
    "- `Band`\n",
    "- `Window`\n",
    "- `CRS`\n",
    "- `Affine`\n",
    "- ..."
   ]
  },
  {
   "cell_type": "markdown",
   "metadata": {
    "toc-hr-collapsed": true
   },
   "source": [
    "### DatasetReader\n",
    "\n",
    "Let's focus on reading raster data, and ignore the idea of writing it for the time being.\n",
    "\n",
    "Dataset is read into a [`DatasetReader`](https://rasterio.readthedocs.io/en/latest/api/rasterio.io.html#rasterio.io.DatasetReader) object (older versions of Rasterio may create a `RasterReader` [ref [rasterio#1221](https://github.com/mapbox/rasterio/issues/1221)]).\n",
    "\n",
    "There is some GDAL object beneath?\n",
    "\n",
    "[rasterio._base.DatasetBase](https://rasterio.readthedocs.io/en/latest/api/rasterio._base.html#rasterio._base.DatasetBase) > [rasterio._io.DatasetReaderBase](https://rasterio.readthedocs.io/en/latest/api/rasterio._io.html#rasterio._io.DatasetReaderBase) > [rasterio.io.DatasetReader](https://rasterio.readthedocs.io/en/latest/api/rasterio.io.html#rasterio.io.DatasetReader)\n",
    "\n",
    "#### DatasetReader Properties\n",
    "\n",
    "note that some/all are generic dataset attributes also shared by DatasetWriter\n",
    "\n",
    "- `name`---\n",
    "- `mode`---\n",
    "- `closed`---\n",
    "\n",
    "- `count`---the number of raster bands in the dataset\n",
    "- `width`---\n",
    "- `height`---\n",
    "- `bounds`---derived from `transform`\n",
    "- `transform`---affine transformation matrix\n",
    "- `crs`---\n",
    "- `meta`\n",
    "- `profile`\n",
    "- descriptions?\n",
    "- units?\n",
    "\n",
    "- `indexes`\n",
    "- `dtypes`\n",
    "\n",
    "- `res`---\n",
    "\n"
   ]
  },
  {
   "cell_type": "markdown",
   "metadata": {},
   "source": [
    " ## Understanding the Rasterio Codebase\n",
    " \n",
    " Affine?\n",
    " \n",
    " Rasterio is confusing.\n",
    " \n",
    " The basic `rasterio` module is in [`__init__.py`](https://github.com/mapbox/rasterio/blob/master/rasterio/__init__.py)\n",
    "\n",
    "The [rasterio._base module](https://rasterio.readthedocs.io/en/latest/api/rasterio._base.html) (defined in [`_base.pyx`](https://github.com/mapbox/rasterio/blob/master/rasterio/_base.pyx)) defines numpy-free base classes, including `DatasetBase`. Some methods include `get_crs()`, `get_transform()`, as well as `read_crs()` and `read_transform()` but they are just called by the corresponding `_get_*` methods to set the values of `_crs` and `_transform` if they are not already set. Note \"`get_crs`, `set_crs`, `set_nodatavals`, `set_descriptions`, `set_units`, and `set_gcps` are deprecated and will be removed in version 1.0. They have been replaced by fully settable dataset properties crs, nodatavals, descriptions, units, and gcps.\", so this section needs to be updated! Also see if/how crs and transform are different than their `read_` methods. And what's up with `get_transform` it's still around.\n",
    "\n",
    "TODO, it seems that transform attribute is set in `_io.pyx`, but it's not clear where transform is set? Note some set with `@property / def property_name:` and some using `property property_name:`.\n",
    "\n",
    "So `wkt` seems to be a different representation of the CRS, \n",
    "\n",
    "__i think some need to be imported individually!__ e.g. `rasterio.plot`\n",
    "and the underscore versions are some compiled thing\n",
    "\n",
    "What's up with gcps and the warp module, and why do DatasetReader have a gcps attribute?\n",
    "\n",
    "https://rasterio.readthedocs.io/en/latest/api/ lists modules and submodules but not all are available\n",
    " \n",
    "- `compat`\n",
    "- `coords`\n",
    "- crs `_crs`\n",
    "- drivers `_drivers` \n",
    "- `dtypes`\n",
    "- `enums`\n",
    "- `env`\n",
    "- `errors`\n",
    "- features `_features`\n",
    "- fill `_fill`\n",
    "- io `_io`?\n",
    "- mask ?\n",
    "- merge ?\n",
    "- plot ?\n",
    "- `profiles`\n",
    "- sample ?\n",
    "- `transform`\n",
    "- `vfs`\n",
    "- vrt ?\n",
    "- warp `_warp`\n",
    "- `windows`\n",
    " \n",
    "`rasterio.io` is kind of available as `rasterio._io` but not certain\n"
   ]
  },
  {
   "cell_type": "markdown",
   "metadata": {},
   "source": [
    "## Importing Rasterio"
   ]
  },
  {
   "cell_type": "code",
   "execution_count": null,
   "metadata": {},
   "outputs": [],
   "source": [
    "import rasterio"
   ]
  },
  {
   "cell_type": "code",
   "execution_count": null,
   "metadata": {},
   "outputs": [],
   "source": [
    "# Uncomment to examine rasterio package.\n",
    "# dir(rasterio)\n",
    "# help(rasterio)"
   ]
  },
  {
   "cell_type": "markdown",
   "metadata": {},
   "source": [
    "questions and tasks:\n",
    "\n",
    "- learn about masks"
   ]
  },
  {
   "cell_type": "markdown",
   "metadata": {
    "toc-hr-collapsed": false
   },
   "source": [
    "## Opening a Raster File\n",
    "\n",
    "- [`rasterio.open()`](https://rasterio.readthedocs.io/en/latest/api/rasterio.html#rasterio.open) (defined in [`__init__.py`](https://github.com/mapbox/rasterio/blob/master/rasterio/__init__.py)) returns a [**`DatasetReader`**](https://rasterio.readthedocs.io/en/latest/api/rasterio.io.html#rasterio.io.DatasetReader) or [`DatasetWriter`](https://rasterio.readthedocs.io/en/stable/api/rasterio.io.html#rasterio.io.DatasetWriter).\n",
    "- `rasterio.band()` (defined in [`__init__.py`](https://github.com/mapbox/rasterio/blob/master/rasterio/__init__.py)) allows you to wrap a dataset and and one or more of its bands up into a `rasterio.Band`, which is really just a tuple:\n",
    "\n",
    "        Band = namedtuple('Band', ['ds', 'bidx', 'dtype', 'shape'])\n",
    "\n",
    "It's not clear what you can do with a Band object!?\n",
    "\n",
    "definitions and inheritance:\n",
    "\n",
    "- `DatasetReader`, `DatasetWriter`, `MemoryFile`, `BufferedDatasetReader` are part of the [rasterio.io module](https://rasterio.readthedocs.io/en/latest/api/rasterio.io.html) (defined in [`io.py`](https://github.com/mapbox/rasterio/blob/master/rasterio/io.py), but nothing is really defined until [`_io.pyx`](https://github.com/mapbox/rasterio/blob/master/rasterio/_io.pyx))).\n",
    "- `DataSetReader` inherits from `rasterio._io.DatasetReaderBase`, `rasterio.windows.WindowMethodsMixin`, `rasterio.transform.TransformMethodsMixin`.\n",
    "- The [rasterio._io module](https://rasterio.readthedocs.io/en/latest/api/rasterio._io.html) (defined in [`_io.pyx`](https://github.com/mapbox/rasterio/blob/master/rasterio/_io.pyx)) defines `DatasetReaderBase`, `DatasetWriterBase`, `MemoryFileBase`, `InMemoryRaster`, and some writer classes, also includes `read()`.\n",
    "- `DatasetBase` is defined in [`_base.pyx`](https://github.com/mapbox/rasterio/blob/master/rasterio/_base.pyx). See [rasterio._base module](https://rasterio.readthedocs.io/en/latest/api/rasterio._base.html).\n",
    "\n",
    "see also MemoryFile? for in-memory? see [In-Memory Files](https://rasterio.readthedocs.io/en/stable/topics/memory-files.html) but these seem to be related to network files or GDAL somethingorother!\n",
    "\n",
    "read https://github.com/mapbox/rasterio/issues/86 sometime!\n",
    "and see https://rasterio.readthedocs.io/en/latest/topics/migrating-to-v1.html\n",
    "\n",
    "note `close()` method!?\n",
    "\n",
    "what the hell is the *band cache*?\n",
    "\n",
    "open in update mode? r+, w ?\n"
   ]
  },
  {
   "cell_type": "code",
   "execution_count": null,
   "metadata": {},
   "outputs": [],
   "source": [
    "rasterio.band?"
   ]
  },
  {
   "cell_type": "markdown",
   "metadata": {},
   "source": [
    "## Read Data into Memory\n",
    "\n",
    "[Reading Datasets](https://rasterio.readthedocs.io/en/latest/topics/reading.html)\n",
    "\n",
    "Use [`dataset.read()`](https://rasterio.readthedocs.io/en/latest/api/rasterio.io.html#rasterio.io.DatasetReader.read) (defined on `DatasetReaderBase` in [`_io.pyx`](https://github.com/mapbox/rasterio/blob/master/rasterio/_io.pyx)) to read pixels into a numpy array. Without args it will read the entire dataset, or else specify which band or list of bands to read.\n",
    "\n",
    "*Rasterio band order* for arrays is: `(bands, rows, columns)`. Use `rasterio.plot.reshape_as_image()` to convert axis order to `(rows, columns, bands)`, and `rasterio.plot.reshape_as_raster()` to convert back (conversion functions defined in [`plot.py`](https://github.com/mapbox/rasterio/blob/master/rasterio/plot.py), and use `np.ma.transpose()` and `np.transpose()`, respectively).\n",
    "\n",
    "See [Interoperability](https://rasterio.readthedocs.io/en/latest/topics/image_processing.html).\n"
   ]
  },
  {
   "cell_type": "markdown",
   "metadata": {},
   "source": [
    "### windows and blocks\n",
    "\n",
    "The `read()` method may be used to obtain a view on to a rectangular subset of the dataset, referred to as a *window*. The window may be specified usings offsets, or better with a `Window` object. The [rasterio.windows module](https://rasterio.readthedocs.io/en/latest/api/rasterio.windows.html) (defined in [`window.py`](https://github.com/mapbox/rasterio/blob/master/rasterio/windows.py)) defines the [`Window`](https://rasterio.readthedocs.io/en/latest/api/rasterio.windows.html#rasterio.windows.Window) class and related utility functions.\n",
    "\n",
    "See [Windowed reading and writing](https://rasterio.readthedocs.io/en/latest/topics/windowed-rw.html) for a good overview of windows and blocks.\n",
    "\n",
    "Dataset attributes of interest when dealing with blocks are:\n",
    "\n",
    "- [`block_shapes`](https://rasterio.readthedocs.io/en/latest/api/rasterio.io.html#rasterio.io.DatasetReader.block_shapes)\n",
    "- [`block_size()`](https://rasterio.readthedocs.io/en/latest/api/rasterio.io.html#rasterio.io.DatasetReader.block_size)\n",
    "- [`block_window()`](https://rasterio.readthedocs.io/en/latest/api/rasterio.io.html#rasterio.io.DatasetReader.block_window)\n",
    "- [`block_windows()`](https://rasterio.readthedocs.io/en/latest/api/rasterio.io.html#rasterio.io.DatasetReader.block_windows)\n",
    "\n",
    "Blocks and Windows are also discussed in [Concurrent processing](https://rasterio.readthedocs.io/en/latest/topics/concurrency.html).\n",
    "\n",
    "The issue [pangeo-data/pangeo#183](https://github.com/pangeo-data/pangeo/issues/183) touches on how windows and blocks in Rasterio relate to chunks in dask and xarray.\n"
   ]
  },
  {
   "cell_type": "markdown",
   "metadata": {},
   "source": [
    "## Spatial Indexing"
   ]
  },
  {
   "cell_type": "code",
   "execution_count": null,
   "metadata": {},
   "outputs": [],
   "source": [
    "# This is boilerplate for spatial indexing, how to use index() to convert from meters relative to CRS origin to raster pixel.\n",
    "\n",
    "m_east = 0\n",
    "m_south = 0\n",
    "x, y = (dataset.bounds.left + m_east, dataset.bounds.top - m_south)\n",
    "row, col = dataset.index(x, y)\n",
    "print(row, col)\n",
    "\n",
    "band1 = dataset.read(1)\n",
    "# e.g. get pixel value at corresponding pixel\n",
    "print(band1[row, col])"
   ]
  },
  {
   "cell_type": "markdown",
   "metadata": {},
   "source": [
    "## bounding box\n",
    "\n",
    "even if the transform has a rotation, what does that mean for bounds?"
   ]
  },
  {
   "cell_type": "markdown",
   "metadata": {},
   "source": [
    "## masks and nodata\n",
    "\n",
    "[Nodata Masks](https://rasterio.readthedocs.io/en/latest/topics/masks.html)\n",
    "\n",
    "[rasterio.mask module](https://rasterio.readthedocs.io/en/latest/api/rasterio.mask.html)\n",
    "\n",
    "- `nodata`?\n",
    "- `nodatavals`?\n",
    "- `read_masks`?\n",
    "- `write_masks`?\n",
    "- `dataset_masks()`?\n",
    "\n",
    "\n",
    "When `masked=True` the `read()` method will return a masked array.\n"
   ]
  },
  {
   "cell_type": "markdown",
   "metadata": {},
   "source": [
    "## Plotting with Rasterio\n",
    "\n",
    "- [Plotting](https://rasterio.readthedocs.io/en/latest/topics/plotting.html)\n",
    "- [rasterio.plot module](https://rasterio.readthedocs.io/en/latest/api/rasterio.plot.html)\n",
    "\n",
    "see [`plot.py`](https://github.com/mapbox/rasterio/blob/master/rasterio/plot.py)\n",
    "\n",
    "`rasterio.plot.show(source, with_bounds=True, contour=False, contour_label_kws=None, ax=None, title=None, transform=None, adjust='linear', **kwargs)`\n",
    "is a wrapper for pyplot, I believe imshow but check?\n",
    "\n",
    "source can be a Band or tuple (dataset, bdx), or array, or dataset in which case the first band is diaplayed unless colorinterp metadata is set - how?\n",
    "\n",
    "TODO it's really unclear how to plot three bands from a multispectral image! seems possible if you create a band object"
   ]
  },
  {
   "cell_type": "markdown",
   "metadata": {},
   "source": [
    "## rasterio merge module\n",
    "\n",
    "[rasterio.merge module](https://rasterio.readthedocs.io/en/latest/api/rasterio.merge.html)\n",
    "\n",
    "https://automating-gis-processes.github.io/CSC18/lessons/L6/raster-mosaic.html"
   ]
  },
  {
   "cell_type": "markdown",
   "metadata": {},
   "source": [
    "## rasterio.transform module\n",
    "\n",
    "[rasterio.transform module](https://rasterio.readthedocs.io/en/latest/api/rasterio.transform.html)\n",
    "\n",
    "uses Affine.\n",
    "\n",
    "Note the `transform` property is type `affine.Affine` and has properties for accessing:\n",
    "\n",
    "    a b c\n",
    "    d e f\n",
    "    g h i\n"
   ]
  },
  {
   "cell_type": "markdown",
   "metadata": {},
   "source": [
    "## Misc"
   ]
  }
 ],
 "metadata": {
  "kernelspec": {
   "display_name": "Python [conda env:geospatial]",
   "language": "python",
   "name": "conda-env-geospatial-py"
  },
  "language_info": {
   "codemirror_mode": {
    "name": "ipython",
    "version": 3
   },
   "file_extension": ".py",
   "mimetype": "text/x-python",
   "name": "python",
   "nbconvert_exporter": "python",
   "pygments_lexer": "ipython3",
   "version": "3.7.2"
  }
 },
 "nbformat": 4,
 "nbformat_minor": 2
}
