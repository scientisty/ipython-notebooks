{
 "cells": [
  {
   "cell_type": "markdown",
   "metadata": {},
   "source": [
    "# rasterio"
   ]
  },
  {
   "cell_type": "markdown",
   "metadata": {},
   "source": [
    "(bands, rows, columns)\n",
    "\n",
    "https://rasterio.readthedocs.io/en/latest/topics/index.html !? not in index\n",
    "\n",
    "\n",
    "? verify crs and coord <-> pixel conversion functions and aviris\n",
    "\n",
    "open in update mode? r+, w ?\n",
    "\n",
    "\n",
    "how does rasterio memory use work? load to mem or stay on disk?\n",
    "\n",
    "- rasterio depends on GDAL\n",
    "- there is a command line interface `rio`\n",
    "\n",
    "- https://rasterio.readthedocs.io/en/latest/ (also at https://mapbox.github.io/rasterio/ but maybe older?)\n",
    "- https://github.com/mapbox/rasterio\n",
    "- https://github.com/mapbox/rasterio-cookbook\n",
    "- https://sgillies.net/tags/rasterio.html\n",
    "- https://github.com/sgillies/affine\n",
    "\n",
    "see also shapely and fiona, maybe also cartopy, pyproj, pysal, etc.\n",
    "\n",
    "this looks interesting https://github.com/atedstone/georaster https://georaster.readthedocs.io/en/latest/\n",
    "\n",
    "todo: read up on this good ref https://chris35wills.github.io/courses/pydata_stack/\n",
    "\n",
    "note: installing dev version caused a lot of packages to downgrad!\n",
    "\n",
    "    onda install -c conda-forge/label/dev rasterio"
   ]
  },
  {
   "cell_type": "markdown",
   "metadata": {},
   "source": [
    "# rasterio changes\n",
    "\n",
    "https://rasterio.readthedocs.io/en/latest/topics/migrating-to-v1.html\n",
    "\n"
   ]
  },
  {
   "cell_type": "markdown",
   "metadata": {},
   "source": [
    " ## understanding rasterio\n",
    " \n",
    " Affine?\n",
    " \n",
    " Rasterio is confusing.\n",
    " \n",
    " The basic `rasterio` module is in [`__init__.py`](https://github.com/mapbox/rasterio/blob/master/rasterio/__init__.py)\n",
    "\n",
    "`_base.pyx` [[spource](https://github.com/mapbox/rasterio/blob/master/rasterio/_base.pyx)] defines `DatasetBase`. Some methods include `get_crs()`, `get_transform()`, as well as `read_crs()` and `read_transform()` but they are just called by the corresponding get methods to set the values of `_crs` and `_transform` if they are not already set.\n",
    "\n",
    "__i think some need to be imported individually!__ e.g. rasterio.plot\n",
    "and the underscore versions are some compiled thing\n",
    "\n",
    "https://rasterio.readthedocs.io/en/latest/api/ lists modules and submodules but not all are available, note [old version](https://mapbox.github.io/rasterio/api/) \n",
    " \n",
    "- `compat`\n",
    "- `coords`\n",
    "- crs `_crs`\n",
    "- drivers `_drivers` \n",
    "- `dtypes`\n",
    "- `enums`\n",
    "- `env`\n",
    "- `errors`\n",
    "- features `_features`\n",
    "- fill `_fill`\n",
    "- io `_io`?\n",
    "- mask ?\n",
    "- merge ?\n",
    "- plot ?\n",
    "- `profiles`\n",
    "- sample ?\n",
    "- `transform`\n",
    "- `vfs`\n",
    "- vrt ?\n",
    "- warp `_warp`\n",
    "- `windows`\n",
    " \n",
    "`rasterio.io` is kind of available as `rasterio._io` but not certain\n",
    "\n",
    "https://rasterio.readthedocs.io/en/latest/_modules/ is a code browser\n",
    "\n",
    "then there's this single page thing https://mapbox.github.io/rasterio/lib/rasterio.html which is not in the readthedocs version! wtf!"
   ]
  },
  {
   "cell_type": "code",
   "execution_count": null,
   "metadata": {},
   "outputs": [],
   "source": [
    "import rasterio"
   ]
  },
  {
   "cell_type": "code",
   "execution_count": null,
   "metadata": {},
   "outputs": [],
   "source": [
    "# examine rasterio package\n",
    "# dir(rasterio)"
   ]
  },
  {
   "cell_type": "markdown",
   "metadata": {},
   "source": [
    "questions and tasks:\n",
    "\n",
    "- learn about masks"
   ]
  },
  {
   "cell_type": "markdown",
   "metadata": {},
   "source": [
    "## opening a raster file\n",
    "\n",
    "- `rasterio.open()` [[source](https://rasterio.readthedocs.io/en/latest/api/index.html#rasterio.open)] returns a `DatasetReader` [[source](https://rasterio.readthedocs.io/en/latest/api/rasterio.io.html#rasterio.io.DatasetReader)]\n",
    "- `rasterio.band()` allows you to wrap a dataset and and one or more of its bands up into a `rasterio.Band`, which is really just a tuple:\n",
    "\n",
    "        Band = namedtuple('Band', ['ds', 'bidx', 'dtype', 'shape'])\n",
    "\n",
    "definitions and inheritance:\n",
    "\n",
    "- `io.DatasetReader`, `io.MemoryFile`, etc. are defined in `io.py` [[source](https://github.com/mapbox/rasterio/blob/master/rasterio/io.py)].\n",
    "- `DataSetReader` inherits from `rasterio._io.DatasetReaderBase`, `rasterio.windows.WindowMethodsMixin`, `rasterio.transform.TransformMethodsMixin`\n",
    "- `_io.pyx` [[source](https://github.com/mapbox/rasterio/blob/master/rasterio/_io.pyx)] defines `DatasetReaderBase`, `MemoryFileBase`, `InMemoryRaster`, and some writer classes, also includes `read()`\n",
    "\n",
    "see also MemoryFile? for in-memory?\n",
    "\n",
    "read https://github.com/mapbox/rasterio/issues/86 sometime!\n",
    "and see https://mapbox.github.io/rasterio/topics/migrating-to-v1.html"
   ]
  },
  {
   "cell_type": "code",
   "execution_count": null,
   "metadata": {},
   "outputs": [],
   "source": [
    "rasterio.open?"
   ]
  },
  {
   "cell_type": "code",
   "execution_count": null,
   "metadata": {},
   "outputs": [],
   "source": [
    "rasterio.band"
   ]
  },
  {
   "cell_type": "code",
   "execution_count": null,
   "metadata": {},
   "outputs": [],
   "source": [
    "https://mapbox.github.io/rasterio/topics/windowed-rw.html"
   ]
  },
  {
   "cell_type": "markdown",
   "metadata": {},
   "source": [
    "## reading files into memory?\n",
    "\n",
    "\n",
    "https://rasterio.readthedocs.io/en/latest/topics/reading.html NOT IN INDEX!\n",
    "\n",
    "`dataset.read()` defined in `_io.pyx`\n",
    "\n"
   ]
  },
  {
   "cell_type": "markdown",
   "metadata": {},
   "source": [
    "## plotting in rasterio\n",
    "\n",
    "- https://rasterio.readthedocs.io/en/latest/topics/plotting.html [[old](https://mapbox.github.io/rasterio/topics/plotting.html)]\n",
    "- https://rasterio.readthedocs.io/en/latest/api/rasterio.plot.html [[old](https://mapbox.github.io/rasterio/api/rasterio.plot.html)]\n",
    "\n",
    "see https://github.com/mapbox/rasterio/blob/master/rasterio/plot.py\n",
    "\n",
    "`rasterio.plot.show(source, with_bounds=True, contour=False, contour_label_kws=None, ax=None, title=None, transform=None, adjust='linear', **kwargs)`\n",
    "is a wrapper for pyplot, I believe imshow but check?\n",
    "\n",
    "source can be a Band or tuple (dataset, bdx), or array, or dataset in which case the first band is diaplayed unless colorinterp metadata is set - how?\n",
    "\n",
    "TODO it's really unclear how to plot three bands from a multispectral image! seems possible if you create a band object\n",
    "\n",
    "WTF is \"rasterio band order\"?"
   ]
  },
  {
   "cell_type": "code",
   "execution_count": null,
   "metadata": {},
   "outputs": [],
   "source": [
    "from rasterio._"
   ]
  },
  {
   "cell_type": "code",
   "execution_count": null,
   "metadata": {},
   "outputs": [],
   "source": []
  }
 ],
 "metadata": {
  "kernelspec": {
   "display_name": "Python 3",
   "language": "python",
   "name": "python3"
  },
  "language_info": {
   "codemirror_mode": {
    "name": "ipython",
    "version": 3
   },
   "file_extension": ".py",
   "mimetype": "text/x-python",
   "name": "python",
   "nbconvert_exporter": "python",
   "pygments_lexer": "ipython3",
   "version": "3.7.0"
  }
 },
 "nbformat": 4,
 "nbformat_minor": 2
}
