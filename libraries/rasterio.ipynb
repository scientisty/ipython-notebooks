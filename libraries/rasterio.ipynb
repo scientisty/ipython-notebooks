{
 "cells": [
  {
   "cell_type": "markdown",
   "metadata": {},
   "source": [
    "# Rasterio"
   ]
  },
  {
   "cell_type": "markdown",
   "metadata": {},
   "source": [
    "(bands, rows, columns)\n",
    "\n",
    "what the hell is the *band cache*?\n",
    "\n",
    "https://rasterio.readthedocs.io/en/latest/topics/index.html !? not in index\n",
    "\n",
    "\n",
    "? verify crs and coord <-> pixel conversion functions and aviris\n",
    "\n",
    "open in update mode? r+, w ?\n",
    "\n",
    "\n",
    "how does rasterio memory use work? load to mem or stay on disk?\n",
    "\n",
    "- rasterio depends on GDAL\n",
    "- there is a command line interface `rio`\n",
    "\n",
    "- https://rasterio.readthedocs.io/en/latest/ (an older set was at https://mapbox.github.io/rasterio/ but was removed)\n",
    "- https://rasterio.groups.io/g/main support forum\n",
    "- https://github.com/mapbox/rasterio\n",
    "- https://github.com/mapbox/rasterio-cookbook\n",
    "- https://sgillies.net/tags/rasterio.html is good for current news!\n",
    "- https://github.com/sgillies/affine\n",
    "\n",
    "see also shapely and fiona, maybe also cartopy, pyproj, pysal, etc.\n",
    "\n",
    "this looks interesting https://github.com/atedstone/georaster https://georaster.readthedocs.io/en/latest/\n",
    "\n",
    "todo: read up on this good ref https://chris35wills.github.io/courses/pydata_stack/\n",
    "\n",
    "note: installing dev version caused a lot of packages to downgrade!\n",
    "\n",
    "    conda install -c conda-forge/label/dev rasterio"
   ]
  },
  {
   "cell_type": "markdown",
   "metadata": {},
   "source": [
    "## rasterio changes\n",
    "\n",
    "https://sgillies.net/2018/07/13/rasterio-1-0-0.html\n",
    "\n",
    "https://rasterio.readthedocs.io/en/latest/topics/migrating-to-v1.html\n",
    "\n",
    "https://github.com/mapbox/rasterio/blob/master/CHANGES.txt"
   ]
  },
  {
   "cell_type": "markdown",
   "metadata": {},
   "source": [
    "# rasterio objects\n",
    "\n",
    "- `DatasetReader`\n",
    "- `Band`\n",
    "- `Window`\n",
    "- `CRS`\n",
    "- `Affine`\n",
    "- ..."
   ]
  },
  {
   "cell_type": "markdown",
   "metadata": {},
   "source": [
    "### DatasetReader\n",
    "\n",
    "Let's focus on reading raster data, and ignore the idea of writing it for the time being.\n",
    "\n",
    "Dataset is read into a `DatasetReader` object (older versions of Rasterio may create a `RasterReader`).\n",
    "\n",
    "There is some GDAL object beneath?\n",
    "\n",
    "[rasterio._base.DatasetBase](https://rasterio.readthedocs.io/en/latest/api/rasterio._base.html?highlight=meta#rasterio._base.DatasetBase) > [rasterio._io.DatasetReaderBase](https://rasterio.readthedocs.io/en/latest/api/rasterio._io.html#rasterio._io.DatasetReaderBase) > [rasterio.io.DatasetReader](https://rasterio.readthedocs.io/en/latest/api/rasterio.io.html#rasterio.io.DatasetReader)\n",
    "\n",
    "#### DatasetReader Properties\n",
    "\n",
    "* `meta`\n",
    "* `profile`\n",
    "* `count`\n",
    "* `crs`\n",
    "* descriptions?\n",
    "* units?"
   ]
  },
  {
   "cell_type": "markdown",
   "metadata": {},
   "source": [
    " ## understanding rasterio\n",
    " \n",
    " Affine?\n",
    " \n",
    " Rasterio is confusing.\n",
    " \n",
    " The basic `rasterio` module is in [`__init__.py`](https://github.com/mapbox/rasterio/blob/master/rasterio/__init__.py)\n",
    "\n",
    "The [rasterio._base module](https://rasterio.readthedocs.io/en/latest/api/rasterio._base.html) (defined in [`_base.pyx`](https://github.com/mapbox/rasterio/blob/master/rasterio/_base.pyx)) defines numpy-free base classes, including `DatasetBase`. Some methods include `get_crs()`, `get_transform()`, as well as `read_crs()` and `read_transform()` but they are just called by the corresponding `_get_*` methods to set the values of `_crs` and `_transform` if they are not already set.\n",
    "\n",
    "__i think some need to be imported individually!__ e.g. rasterio.plot\n",
    "and the underscore versions are some compiled thing\n",
    "\n",
    "https://rasterio.readthedocs.io/en/latest/api/ lists modules and submodules but not all are available\n",
    " \n",
    "- `compat`\n",
    "- `coords`\n",
    "- crs `_crs`\n",
    "- drivers `_drivers` \n",
    "- `dtypes`\n",
    "- `enums`\n",
    "- `env`\n",
    "- `errors`\n",
    "- features `_features`\n",
    "- fill `_fill`\n",
    "- io `_io`?\n",
    "- mask ?\n",
    "- merge ?\n",
    "- plot ?\n",
    "- `profiles`\n",
    "- sample ?\n",
    "- `transform`\n",
    "- `vfs`\n",
    "- vrt ?\n",
    "- warp `_warp`\n",
    "- `windows`\n",
    " \n",
    "`rasterio.io` is kind of available as `rasterio._io` but not certain\n"
   ]
  },
  {
   "cell_type": "code",
   "execution_count": null,
   "metadata": {},
   "outputs": [],
   "source": [
    "import rasterio"
   ]
  },
  {
   "cell_type": "code",
   "execution_count": null,
   "metadata": {},
   "outputs": [],
   "source": [
    "# Uncomment to examine rasterio package.\n",
    "# dir(rasterio)\n",
    "# help(rasterio)"
   ]
  },
  {
   "cell_type": "markdown",
   "metadata": {},
   "source": [
    "questions and tasks:\n",
    "\n",
    "- learn about masks"
   ]
  },
  {
   "cell_type": "markdown",
   "metadata": {},
   "source": [
    "## opening a raster file\n",
    "\n",
    "- [`rasterio.open()`](https://rasterio.readthedocs.io/en/latest/api/rasterio.html#rasterio.open), defined in [`__init__.py`](https://github.com/mapbox/rasterio/blob/master/rasterio/__init__.py), returns a [`DatasetReader`](https://rasterio.readthedocs.io/en/latest/api/rasterio.io.html#rasterio.io.DatasetReader)\n",
    "- `rasterio.band()` allows you to wrap a dataset and and one or more of its bands up into a `rasterio.Band`, which is really just a tuple:\n",
    "\n",
    "        Band = namedtuple('Band', ['ds', 'bidx', 'dtype', 'shape'])\n",
    "\n",
    "definitions and inheritance:\n",
    "\n",
    "- `DatasetReader`, `MemoryFile`, etc. are part of the [rasterio.io module](https://rasterio.readthedocs.io/en/latest/api/rasterio.io.html) (defined in [`io.py`](https://github.com/mapbox/rasterio/blob/master/rasterio/io.py), but nothing is really defined until `_io.pyx`).\n",
    "- `DataSetReader` inherits from `rasterio._io.DatasetReaderBase`, `rasterio.windows.WindowMethodsMixin`, `rasterio.transform.TransformMethodsMixin`.\n",
    "- The [rasterio._io module](https://rasterio.readthedocs.io/en/latest/api/rasterio._io.html) (defined in [`_io.pyx`](https://github.com/mapbox/rasterio/blob/master/rasterio/_io.pyx)) defines `DatasetReaderBase`, `MemoryFileBase`, `InMemoryRaster`, and some writer classes, also includes `read()`.\n",
    "\n",
    "see also MemoryFile? for in-memory?\n",
    "\n",
    "read https://github.com/mapbox/rasterio/issues/86 sometime!\n",
    "and see https://rasterio.readthedocs.io/en/latest/topics/migrating-to-v1.html\n"
   ]
  },
  {
   "cell_type": "code",
   "execution_count": null,
   "metadata": {},
   "outputs": [],
   "source": [
    "rasterio.band?"
   ]
  },
  {
   "cell_type": "markdown",
   "metadata": {},
   "source": [
    "https://rasterio.readthedocs.io/en/latest/topics/windowed-rw.html"
   ]
  },
  {
   "cell_type": "markdown",
   "metadata": {},
   "source": [
    "## reading files into memory?\n",
    "\n",
    "[Readings Datasets](https://rasterio.readthedocs.io/en/latest/topics/reading.html)\n",
    "\n",
    "`dataset.read()` (defined in `_io.pyx`) will read pixels into a numpy array. Without args it will read the entire dataset, or else specify which band or bands to read."
   ]
  },
  {
   "cell_type": "markdown",
   "metadata": {},
   "source": [
    "## plotting in rasterio\n",
    "\n",
    "- https://rasterio.readthedocs.io/en/latest/topics/plotting.html [[old](https://mapbox.github.io/rasterio/topics/plotting.html)]\n",
    "- https://rasterio.readthedocs.io/en/latest/api/rasterio.plot.html [[old](https://mapbox.github.io/rasterio/api/rasterio.plot.html)]\n",
    "\n",
    "see https://github.com/mapbox/rasterio/blob/master/rasterio/plot.py\n",
    "\n",
    "`rasterio.plot.show(source, with_bounds=True, contour=False, contour_label_kws=None, ax=None, title=None, transform=None, adjust='linear', **kwargs)`\n",
    "is a wrapper for pyplot, I believe imshow but check?\n",
    "\n",
    "source can be a Band or tuple (dataset, bdx), or array, or dataset in which case the first band is diaplayed unless colorinterp metadata is set - how?\n",
    "\n",
    "TODO it's really unclear how to plot three bands from a multispectral image! seems possible if you create a band object\n",
    "\n",
    "WTF is \"rasterio band order\"?"
   ]
  },
  {
   "cell_type": "code",
   "execution_count": null,
   "metadata": {},
   "outputs": [],
   "source": [
    "#? from rasterio._"
   ]
  }
 ],
 "metadata": {
  "kernelspec": {
   "display_name": "Python 3",
   "language": "python",
   "name": "python3"
  },
  "language_info": {
   "codemirror_mode": {
    "name": "ipython",
    "version": 3
   },
   "file_extension": ".py",
   "mimetype": "text/x-python",
   "name": "python",
   "nbconvert_exporter": "python",
   "pygments_lexer": "ipython3",
   "version": "3.7.0"
  }
 },
 "nbformat": 4,
 "nbformat_minor": 2
}
