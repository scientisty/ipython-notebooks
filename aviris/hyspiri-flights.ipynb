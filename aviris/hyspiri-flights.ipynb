{
 "cells": [
  {
   "cell_type": "markdown",
   "metadata": {},
   "source": [
    "Play around with parsing data from AVIRIS Fusion Table (converted to csv).\n",
    "\n",
    "TODO convert to GeoPandas."
   ]
  },
  {
   "cell_type": "code",
   "execution_count": null,
   "metadata": {},
   "outputs": [],
   "source": [
    "%matplotlib inline"
   ]
  },
  {
   "cell_type": "code",
   "execution_count": null,
   "metadata": {},
   "outputs": [],
   "source": [
    "import numpy as np\n",
    "import pandas as pd"
   ]
  },
  {
   "cell_type": "code",
   "execution_count": null,
   "metadata": {},
   "outputs": [],
   "source": [
    "flights = pd.read_csv('Filtered HyspIRI Flights.csv')\n",
    "# It's possible to use a column as row labels if desired.\n",
    "# flights = pd.read_csv('Filtered HyspIRI Flights.csv', index_col=0)\n",
    "flights.info(verbose=False)\n",
    "flights.head()"
   ]
  },
  {
   "cell_type": "code",
   "execution_count": null,
   "metadata": {},
   "outputs": [],
   "source": [
    "# In case you care.\n",
    "# flights.describe()\n",
    "# flights.count()"
   ]
  },
  {
   "cell_type": "code",
   "execution_count": null,
   "metadata": {},
   "outputs": [],
   "source": [
    "# Select years.\n",
    "years = [2013, 2014, 2015]\n",
    "flights = flights[flights.Year.isin(years)]  # Note isin() returns a Series.\n",
    "\n",
    "# Equivalent way to do the same, to illustrate Pandas synatax. Note implied : for columns when using loc/iloc.\n",
    "assert flights.equals(flights[lambda df: df.Year.isin(years)])\n",
    "assert flights.equals(flights.loc[flights.Year.isin(years)])\n",
    "assert flights.equals(flights.loc[lambda df: df.Year.isin(years)])\n",
    "assert flights.equals(flights.iloc[lambda df: df.Year.isin(years).values])  # Must extract values, array() or to_numpy() also work.\n",
    "\n",
    "flights.info(verbose=False)\n",
    "sorted(flights.Year.unique())"
   ]
  },
  {
   "cell_type": "code",
   "execution_count": null,
   "metadata": {},
   "outputs": [],
   "source": [
    "# Select sites.\n",
    "pattern = 'Yosemite'  # Try 'Yosemite|Tahoe'.\n",
    "flights = flights[flights.site_name.str.contains(pattern, na=False)]  # Treat NaN values as\n",
    "\n",
    "flights.info(verbose=False)\n",
    "sorted(flights.site_name.unique())\n",
    "# An alternative way. Since sort_values() returns a Series use series.unique(), which returns an ndarray.\n",
    "# flights3.site_name.sort_values().unique()"
   ]
  },
  {
   "cell_type": "code",
   "execution_count": null,
   "metadata": {},
   "outputs": [],
   "source": [
    "# TODO use GeoPandas!\n",
    "\n",
    "from shapely.geometry import Polygon, MultiPolygon\n",
    "\n",
    "# Select subset of data.\n",
    "f = flights\n",
    "\n",
    "# Create Shapely objects.\n",
    "polygons = []\n",
    "for index, row in f.iterrows():\n",
    "    a = (row.Lon1, row.Lat1)\n",
    "    b = (row.Lon2, row.Lat2)\n",
    "    c = (row.Lon3, row.Lat3)\n",
    "    d = (row.Lon4, row.Lat4)\n",
    "\n",
    "    # Construct shapely Polygon using WGS 84 bounds.\n",
    "    polygon = Polygon((a, b, c, d))\n",
    "    polygons.append(polygon)\n",
    "\n",
    "multipolygon = MultiPolygon(polygons)\n",
    "multipolygon"
   ]
  },
  {
   "cell_type": "code",
   "execution_count": null,
   "metadata": {},
   "outputs": [],
   "source": [
    "import cartopy.crs as ccrs\n",
    "import cartopy.feature as cfeature\n",
    "import matplotlib.pyplot as plt\n",
    "\n",
    "ax = plt.axes(projection=ccrs.PlateCarree())\n",
    "\n",
    "ax.coastlines()\n",
    "ax.stock_img()\n",
    "\n",
    "# Among other things it's possible to add a MultiPolygon object or a list of Polygons.\n",
    "ax.add_geometries(multipolygon, ccrs.PlateCarree(), edgecolor='black', facecolor='red', alpha=0.8)\n",
    "\n",
    "bounds = multipolygon.bounds\n",
    "padding = 2\n",
    "# ax.set_extent((bounds[0]-padding, bounds[2]+padding, bounds[1]-padding, bounds[3]+padding), ccrs.Geodetic())\n",
    "ax.set_extent((bounds[0]-padding, bounds[2]+padding, bounds[1]-padding, bounds[3]+padding), ccrs.Geodetic())\n",
    "# plt.show()\n"
   ]
  },
  {
   "cell_type": "code",
   "execution_count": null,
   "metadata": {},
   "outputs": [],
   "source": []
  },
  {
   "cell_type": "code",
   "execution_count": null,
   "metadata": {},
   "outputs": [],
   "source": []
  }
 ],
 "metadata": {
  "kernelspec": {
   "display_name": "Python [conda env:geospatial]",
   "language": "python",
   "name": "conda-env-geospatial-py"
  },
  "language_info": {
   "codemirror_mode": {
    "name": "ipython",
    "version": 3
   },
   "file_extension": ".py",
   "mimetype": "text/x-python",
   "name": "python",
   "nbconvert_exporter": "python",
   "pygments_lexer": "ipython3",
   "version": "3.7.2"
  }
 },
 "nbformat": 4,
 "nbformat_minor": 2
}
