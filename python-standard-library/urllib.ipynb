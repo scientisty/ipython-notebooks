{
 "cells": [
  {
   "cell_type": "markdown",
   "metadata": {},
   "source": [
    "# urllib\n",
    "\n",
    "In Python 3 [urllib](https://docs.python.org/3/library/urllib.html)  \n",
    "\n",
    "THe urllib and urllib2 modules in Python 2 were split to form the modules in Python 3's urllib.\n",
    "\n",
    "The [urllib.request](https://docs.python.org/3/library/urllib.request.html) module provides a high-level interface to other protocol clients in the standard library, including [http.client](https://docs.python.org/3/library/http.client.html) and [ftplib](https://docs.python.org/3/library/ftplib.html).\n",
    "\n",
    "Prefer the Requests library insteady, although it does not support FTP, and also [urllib3](https://github.com/urllib3/urllib3) which Requests is built on.\n",
    "\n",
    "There is also Google's [httplib2](https://github.com/httplib2/httplib2).\n",
    "\n",
    "See http://hustcalm.me/blog/2013/11/14/httplib-httplib2-urllib-urllib2-whats-the-difference/ for clarification.\n"
   ]
  },
  {
   "cell_type": "code",
   "execution_count": null,
   "metadata": {},
   "outputs": [],
   "source": []
  }
 ],
 "metadata": {
  "kernelspec": {
   "display_name": "Python 3",
   "language": "python",
   "name": "python3"
  },
  "language_info": {
   "codemirror_mode": {
    "name": "ipython",
    "version": 3
   },
   "file_extension": ".py",
   "mimetype": "text/x-python",
   "name": "python",
   "nbconvert_exporter": "python",
   "pygments_lexer": "ipython3",
   "version": "3.7.4"
  }
 },
 "nbformat": 4,
 "nbformat_minor": 4
}
