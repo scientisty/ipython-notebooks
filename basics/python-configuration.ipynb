{
 "cells": [
  {
   "cell_type": "markdown",
   "metadata": {
    "button": false,
    "new_sheet": false,
    "run_control": {
     "read_only": false
    }
   },
   "source": [
    "# Python Configuration"
   ]
  },
  {
   "cell_type": "markdown",
   "metadata": {
    "button": false,
    "new_sheet": false,
    "run_control": {
     "read_only": false
    }
   },
   "source": [
    "# sys\n",
    "\n",
    "The [sys](https://docs.python.org/3/library/sys.html) module provides access to interpreter variables.\n",
    "\n",
    "The variables `sys.prefix` and `sys.exec_prefix` \n",
    "\n",
    "\n",
    "[sys.prefix](https://docs.python.org/3/library/sys.html#sys.prefix)\n",
    " : A string giving the site-specific directory prefix where the **platform independent** Python files are installed; by default, this is the string '/usr/local'. The main collection of Python library modules is installed in the directory `prefix/lib/pythonX.Y` while the platform independent header files (all except pyconfig.h) are stored in `prefix/include/pythonX.Y`.\n",
    "\n",
    "[sys.exec_prefix](https://docs.python.org/3/library/sys.html#sys.exec_prefix)\n",
    " : A string giving the site-specific directory prefix where the **platform-dependent** Python files are installed. By default, this is also '/usr/local'. All configuration files (e.g. the pyconfig.h header file) are installed in the directory `exec_prefix/lib/pythonX.Y/config`, and shared library modules are installed in `exec_prefix/lib/pythonX.Y/lib-dynload`.\n",
    "\n",
    "Note if you are working in a virtual environment prefix and exec_prefix will point to the virtual environment. The `base_prefix` and `base_exec_prefix` will always point to the base python.\n",
    "\n"
   ]
  },
  {
   "cell_type": "code",
   "execution_count": null,
   "metadata": {
    "button": false,
    "new_sheet": false,
    "run_control": {
     "read_only": false
    }
   },
   "outputs": [],
   "source": [
    "import sys"
   ]
  },
  {
   "cell_type": "code",
   "execution_count": null,
   "metadata": {
    "button": false,
    "new_sheet": false,
    "run_control": {
     "read_only": false
    }
   },
   "outputs": [],
   "source": [
    "print('executable:', sys.executable)\n",
    "print('base_prefix', sys.base_prefix)\n",
    "print('prefix:', sys.prefix)\n",
    "print('base_exec_prefix:', sys.base_exec_prefix)\n",
    "print('exec_prefix:', sys.exec_prefix)"
   ]
  },
  {
   "cell_type": "code",
   "execution_count": null,
   "metadata": {
    "button": false,
    "new_sheet": false,
    "run_control": {
     "read_only": false
    }
   },
   "outputs": [],
   "source": [
    "print('__name__:', sys.__name__)\n",
    "#print('__file__:', sys.__file__)\n",
    "#print('__package__:', sys.__package__) ?\n",
    "#print('_home:', sys._home) ?"
   ]
  },
  {
   "cell_type": "code",
   "execution_count": null,
   "metadata": {
    "button": false,
    "new_sheet": false,
    "run_control": {
     "read_only": false
    }
   },
   "outputs": [],
   "source": [
    "sys.path"
   ]
  },
  {
   "cell_type": "markdown",
   "metadata": {
    "button": false,
    "new_sheet": false,
    "run_control": {
     "read_only": false
    }
   },
   "source": [
    "# site\n",
    "\n",
    "See [site](https://docs.python.org/3/library/site.html) module is involved with constructing the module search path (`sys.path`). It looks at `lib/pythonX.Y/site-packages` in `sys.prefix` and `sys.exec_prefix` (may be the same) and adds those directories to `sys.path` if they exist. The final path also includes paths from path configuration files (`*.pth`) and `PYTHONPATH`.\n",
    "\n",
    "* [How does python find packages?](https://leemendelowitz.github.io/blog/how-does-python-find-packages.html)"
   ]
  },
  {
   "cell_type": "markdown",
   "metadata": {
    "button": false,
    "new_sheet": false,
    "run_control": {
     "read_only": false
    }
   },
   "source": [
    "See also `python-config`!"
   ]
  }
 ],
 "metadata": {
  "kernelspec": {
   "display_name": "Python 3",
   "language": "python",
   "name": "python3"
  },
  "language_info": {
   "codemirror_mode": {
    "name": "ipython",
    "version": 3
   },
   "file_extension": ".py",
   "mimetype": "text/x-python",
   "name": "python",
   "nbconvert_exporter": "python",
   "pygments_lexer": "ipython3",
   "version": "3.7.4"
  }
 },
 "nbformat": 4,
 "nbformat_minor": 4
}
