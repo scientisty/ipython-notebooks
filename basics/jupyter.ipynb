{
 "cells": [
  {
   "cell_type": "markdown",
   "metadata": {},
   "source": [
    "# Jupyter\n",
    "\n",
    "Jupyter is the new name for notebook components of iPython starting with iPython 4.0.\n",
    "\n",
    "- [IPython](https://ipython.org/)\n"
   ]
  },
  {
   "cell_type": "markdown",
   "metadata": {},
   "source": [
    "## Jupyter Subcommands and Related Tools\n",
    "\n",
    "### Subcommands\n",
    "\n",
    "- [nbviewer](https://nbviewer.jupyter.org/)\n",
    "\n",
    "### Tools\n",
    "- [nbinteract](https://www.nbinteract.com/)&mdash;looks good!\n",
    "- [Jupyter Books](https://github.com/jupyter/jupyter-book)"
   ]
  },
  {
   "cell_type": "markdown",
   "metadata": {},
   "source": [
    "## Jupyter Notebook and Jupyter Lab\n",
    "\n",
    "\n",
    "\n",
    "Start by `jupyter notebook` or `jupyter lab` (`ipython notebook` is deprecated)."
   ]
  },
  {
   "cell_type": "markdown",
   "metadata": {},
   "source": [
    "Shift-Tab to get function help\n",
    "\n",
    "document new style vs old style classes\n",
    "review type() vs isinstance() vs __class__"
   ]
  },
  {
   "cell_type": "markdown",
   "metadata": {},
   "source": [
    "## what is the python version"
   ]
  },
  {
   "cell_type": "code",
   "execution_count": null,
   "metadata": {},
   "outputs": [],
   "source": [
    "import sys\n",
    "print(sys.executable)\n",
    "print(sys.version)\n",
    "#sys.version_info.major"
   ]
  },
  {
   "cell_type": "markdown",
   "metadata": {},
   "source": [
    "# IPython Kernel\n",
    "\n",
    "[The IPython API](https://ipython.readthedocs.io/en/stable/api/index.html)"
   ]
  },
  {
   "cell_type": "code",
   "execution_count": null,
   "metadata": {},
   "outputs": [],
   "source": [
    "# Get information about the environment.\n",
    "\n",
    "import IPython\n",
    "print(IPython.sys_info())"
   ]
  },
  {
   "cell_type": "code",
   "execution_count": null,
   "metadata": {},
   "outputs": [],
   "source": [
    "%connect_info"
   ]
  },
  {
   "cell_type": "markdown",
   "metadata": {},
   "source": [
    "## what display is being used?"
   ]
  },
  {
   "cell_type": "code",
   "execution_count": null,
   "metadata": {},
   "outputs": [],
   "source": [
    "# Note environ mapping is captured when os module is imported.\n",
    "import os\n",
    "\n",
    "try:\n",
    "    print(os.environ['DISPLAY'])\n",
    "    print(os.getenv('DISPLAY'))\n",
    "except KeyError:\n",
    "    print('$DISPLAY not defined')\n",
    "\n",
    "# Can also try this, which will not thow KeyError if key does not exist, but still reads from environ object.\n",
    "print(os.getenv('DISPLAY'))"
   ]
  },
  {
   "cell_type": "code",
   "execution_count": null,
   "metadata": {},
   "outputs": [],
   "source": [
    "os.getcwd()"
   ]
  },
  {
   "cell_type": "markdown",
   "metadata": {},
   "source": [
    "# ipython basics\n",
    "\n",
    "The IPython kernel can show rich outputs using `display()`. It may be nice to use this instead of `print()`."
   ]
  },
  {
   "cell_type": "code",
   "execution_count": null,
   "metadata": {},
   "outputs": [],
   "source": [
    "# ?  # introduction and overview if IPython's features"
   ]
  },
  {
   "cell_type": "markdown",
   "metadata": {},
   "source": [
    "## ipython magics\n",
    "\n",
    "https://ipython.readthedocs.io/en/stable/interactive/magics.html\n",
    "\n",
    "- `%` for *line magics*\n",
    "- `%%` for *cell magics*"
   ]
  },
  {
   "cell_type": "code",
   "execution_count": null,
   "metadata": {},
   "outputs": [],
   "source": [
    "# %magic  # Print information about the magic function system.\n",
    "%lsmagic  # List currently available magic functions."
   ]
  },
  {
   "cell_type": "code",
   "execution_count": null,
   "metadata": {},
   "outputs": [],
   "source": [
    "# Use ?\n",
    "%gui?\n",
    "%matplotlib?"
   ]
  },
  {
   "cell_type": "code",
   "execution_count": null,
   "metadata": {},
   "outputs": [],
   "source": [
    "%magic matplotlib"
   ]
  },
  {
   "cell_type": "markdown",
   "metadata": {},
   "source": [
    "## matplotlib\n",
    "\n",
    "https://ipython.readthedocs.io/en/stable/interactive/plotting.html\n",
    "\n",
    "TL;DR user `%matplotlib inline` when using notebook/lab. Notebook can use `%matplotlib notebook` but lab seems to break.\n",
    "\n",
    "TODO test notebook renderer with lab locally to see if it still breaks\n",
    "\n",
    "Use the `%matplotlib` magic will set matplotlib to work interactively, and optionally specify a backend. It should probably be done before importing matplotlib/pyplot [[ref](https://ipython.readthedocs.io/en/stable/interactive/plotting.html#id1), [ref](https://matplotlib.org/tutorials/introductory/usage.html#backends)]. However that may only matter if you are setting a backend, the docs indicate that it will \"activate matplotlib interactive support at any point during an IPython session.\" You can alternatively use `matplotlib.pyplot.ion()/ioff()` but the backend must be set some other way.\n",
    "\n",
    "Without arguments it will use the default backend, otherwise you can specify one.\n",
    "\n",
    "The `inline` backend is available for notebook and qtconsole. Use `mpl.rcParams['figure.figsize']` to adjust figure size ()\n",
    "\n",
    "The `notebook` backend for interactive plots in notebook, or its successor [`ipympl`](https://github.com/matplotlib/jupyter-matplotlib) which may work better with jupyter lab and javascript stuff. Note there is an ipml package on conda-forge but it may be necessary to actually install the extension into notebook/lab. Load with `%notebook widget`. There is an ipympl backend too which may just be an alias.\n",
    "\n",
    "Note that even though notebook/lab runs in a browser if there is a `DISPLAY` then some backends will open plots in new windows. This means that without proper X11 forwarding these renderers won't work over SSH.\n",
    "\n",
    "TODO can you use inline/notebook in ipython or jupyter console?"
   ]
  },
  {
   "cell_type": "code",
   "execution_count": null,
   "metadata": {},
   "outputs": [],
   "source": [
    "# Some possible backends include  'agg', 'gtk', 'gtk3', 'inline', 'ipympl', 'nbagg', 'notebook', 'osx', 'pdf', 'ps', 'qt', 'qt4', 'qt5', 'svg', 'tk', 'widget', 'wx'.\n",
    "# \n",
    "%matplotlib -l"
   ]
  },
  {
   "cell_type": "markdown",
   "metadata": {},
   "source": [
    "See https://github.com/jupyterlab/jupyterlab/issues/3748 and https://github.com/matplotlib/jupyter-matplotlib for info about problems in matplotlib specific to Jupyter Lab.\n",
    "\n",
    "Someone said\n",
    "> nbagg / notebook is going to be replaced by ipympl which uses ipython widgets.\n",
    "\n",
    "See also https://medium.com/@1522933668924/using-matplotlib-in-jupyter-notebooks-comparing-methods-and-some-tips-python-c38e85b40ba1 for some nice advice."
   ]
  },
  {
   "cell_type": "markdown",
   "metadata": {},
   "source": [
    "- if you import matplotlib and/or matplotlip.pyplot (?) before calling `%matplotlib` you run in *pyplot* mode, but if you are running headless then output is inline but interactive (i.e. plots show up on same figure unless you call `plt.figure()` to create a new one), and possibly the same as if you specified inline\n",
    "- headless, both `%matplotlib` and `%matplpotlib inline` will also run in pyplot mode\n",
    "\n",
    "- when you call `%matplotlib` for the first time it may, under some circumstances, reset things and you'll see the cell number reset to [1] on the next run cell, I've also observed problems when doing imports in the same cell before `%matplotlib` magic, test this!\n",
    "\n",
    "I noticed some weirdness with mixing `%matplotlib` in the same cell as other import statements, so do not mix any imports with the matplotlib magic!\n",
    "\n",
    "it would seem the most reliable thing is to use the matplotlib magic first thing in a file, is this specified somewhere?\n",
    "\n",
    "note there were some reports of the matplotlib magic causing Run All Cells to freeze\n",
    "\n",
    "- you can't have comments on magic lines, at least not %matplotlib\n",
    "\n",
    "question, which configuations in jupyter notebook, ipython, scipy? give pyplot mode\n",
    "\n",
    "so what again does `%matplotlib` without gui do?\n",
    "\n",
    "Without specifying gui argument `%matplotlib` will plot using default backend in a separate window. I think jupyter notebook defaults to inline, at least if you are running headless. Without arg it also print out the backend in use, which is the default or the one set by a previous call to `%matplotlib <gui>` (but only visible if it's the last line in a cell).\n",
    "\n",
    "\n",
    "how does setting the backend through matplotlib interact with this?\n",
    "\n",
    "\n",
    "This is a tangent but I'm looking in to the guts of Jupyter and how it interacts with matplotlib, pylab, etc. Also about the interactive modes for matplotlib and for Jupyter itself.\n",
    "\n",
    "There are several Jupyter magics but their interactions will require more investigation.\n",
    "`%matplotlib`\n",
    "`%pylab`\n",
    "`%gui`\n",
    "\n",
    "`%matplotlib` is supposed to set up jupyter somehow but doesn't seem necessary at least not in notebook, may be in jupyter shell?\n",
    "\n",
    "with inline I think you don't need `plt.show()` unless you want to create a new figure in same cell\n",
    "\n",
    "see https://ipython.readthedocs.io/en/stable/interactive/plotting.html\n",
    "\n",
    "https://ipython.readthedocs.io/en/stable/interactive/magics.html\n",
    "\n",
    "\n",
    "Matplotlib has the concepts of backend and interactive mode...\n",
    "\n",
    "When using Jupyter kernel it used to be necessary to set up using `%matplotlib` for interaction. Not clear if this is auto in notebooks. Now suggestion is to use `matplotlib.pyplot.ion()` but not clear if that also applies to notebooks.\n",
    "\n",
    "see https://ipython.readthedocs.io/en/stable/interactive/plotting.html\n",
    "\n",
    "Suggestion for interactivity in Jupyter notebook is to use `%matplotlib notebook`, or `%matplotlib nbagg` for older versions.\n",
    "\n",
    "It's theoretically to change the backend in a running kernel using `%matplotlib [gui]` but I think you can only switch back and forth to `%matplotlib inline`.\n",
    "\n",
    "Default (linux), appears that `%matplotlib` is required for interactive!\n",
    "\n",
    "    matplotlib.get_backend() -> 'module://ipykernel.pylab.backend_inline'\n",
    "    matplotlib.is_interactive() -> False\n",
    "    %matplotlib -> Using matplotlib backend: Qt5Agg\n",
    "    matplotlib.is_interactive() -> True\n",
    "    \n",
    "    %matplotlib notebook\n",
    "    %matplotlib -> Using matplotlib backend: nbAgg\n",
    "    matplotlib.get_backend() -> u'nbAgg'\n"
   ]
  },
  {
   "cell_type": "code",
   "execution_count": null,
   "metadata": {},
   "outputs": [],
   "source": [
    "# note changing backend e.g from inline to/from notebook may not be reflected in %matplotlib magic, more reliable to use matplotlib.get_backend()"
   ]
  },
  {
   "cell_type": "code",
   "execution_count": null,
   "metadata": {},
   "outputs": [],
   "source": [
    "# %matplotlib notebook # only available in python3.x!?\n",
    "# %matplotlib wx"
   ]
  },
  {
   "cell_type": "code",
   "execution_count": null,
   "metadata": {},
   "outputs": [],
   "source": [
    "#misc extra?\n",
    "# may be necessary to change backend\n",
    "#%pylab --no-import-all\n",
    "# ?\n",
    "# %gui wx\n",
    "# %gui qt5"
   ]
  },
  {
   "cell_type": "code",
   "execution_count": null,
   "metadata": {},
   "outputs": [],
   "source": [
    "# %matplotlib --list  # get list\n",
    "%matplotlib inline\n",
    "# notebook/nbagg enables interactivity, but may fail on lab due to js issues\n",
    "# %matplotlib notebook\n",
    "# %matplotlib ipympl  # ipympl should replace notebook backend, esp. with lab, but may require more steps to get to work.\n",
    "# %matplotlib\n",
    "# note observed weirdness where imports after %matplotlib in the same cell were note registered"
   ]
  },
  {
   "cell_type": "code",
   "execution_count": null,
   "metadata": {},
   "outputs": [],
   "source": [
    "import numpy as np\n",
    "\n",
    "import matplotlib\n",
    "import matplotlib.pyplot as plt\n",
    "print('matplotlib.__version__:', matplotlib.__version__)\n",
    "print('matplotlib.get_backend():', matplotlib.get_backend())\n",
    "print('matplotlib.is_interactive()', matplotlib.is_interactive())"
   ]
  },
  {
   "cell_type": "code",
   "execution_count": null,
   "metadata": {},
   "outputs": [],
   "source": [
    "# simple example\n",
    "x = [1, 2, 3, 4]\n",
    "x = np.array(x)\n",
    "plt.plot(x)\n",
    "plt.plot(np.flip(x, 0))\n",
    "plt.ylabel('some numbers')\n",
    "#plt.show()"
   ]
  }
 ],
 "metadata": {
  "kernelspec": {
   "display_name": "Python 3",
   "language": "python",
   "name": "python3"
  },
  "language_info": {
   "codemirror_mode": {
    "name": "ipython",
    "version": 3
   },
   "file_extension": ".py",
   "mimetype": "text/x-python",
   "name": "python",
   "nbconvert_exporter": "python",
   "pygments_lexer": "ipython3",
   "version": "3.7.4"
  }
 },
 "nbformat": 4,
 "nbformat_minor": 4
}
